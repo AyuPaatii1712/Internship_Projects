{
 "cells": [
  {
   "cell_type": "code",
   "execution_count": 3,
   "id": "3b041431",
   "metadata": {},
   "outputs": [],
   "source": [
    "import pandas as pd\n",
    "import numpy as np\n",
    "from sklearn.metrics.pairwise import cosine_similarity\n",
    "\n",
    "import warnings\n",
    "warnings.filterwarnings('ignore')"
   ]
  },
  {
   "cell_type": "code",
   "execution_count": 4,
   "id": "143ece28",
   "metadata": {},
   "outputs": [],
   "source": [
    "books=pd.read_csv('Books.csv')\n",
    "ratings=pd.read_csv('Ratings.csv')\n",
    "users=pd.read_csv('Users.csv')"
   ]
  },
  {
   "cell_type": "code",
   "execution_count": 5,
   "id": "edbe7487",
   "metadata": {},
   "outputs": [],
   "source": [
    "books.rename(columns = {'Book-Title':'title', 'Book-Author':'author', 'Year-Of-Publication':'year', 'Publisher':'publisher', 'Image-URL-M':'image-m'}, inplace=True)\n",
    "users.rename(columns = {'User-ID':'userid', 'Location':'location', 'Age':'age'}, inplace=True)\n",
    "ratings.rename(columns = {'User-ID':'userid', 'Book-Rating':'bookrating'}, inplace=True)"
   ]
  },
  {
   "cell_type": "code",
   "execution_count": 6,
   "id": "52bf4949",
   "metadata": {},
   "outputs": [],
   "source": [
    "books.loc[187689,'author'] = 'Larissa Anne Downes'\n",
    "books.loc[128890,'publisher'] = 'Novelbooks Inc'\n",
    "books.loc[129037,'publisher'] = 'Novelbooks Inc'\n",
    "\n",
    "for i in [209538, 221678, 220731]:\n",
    "    # books.at[i]['Image-URL-L'] = books.loc[i,'Book-Title'].split(';')[1] - idea from https://github.com/ashima96/Book-Recommendation-System/blob/master/BRS.ipynb\n",
    "    books.loc[i]['Image-URL-L'] = books.loc[i,'title'].split(';')[1]\n",
    "    books.loc[i]['publisher'], books.loc[i]['year'] = books.loc[i]['year'], books.loc[i]['publisher']\n",
    "    books.loc[i]['author'], books.loc[i]['year'] = books.loc[i]['year'], books.loc[i]['author']\n",
    "    books.loc[i]['author'], books.loc[i]['Image-URL-L'] = books.loc[i]['Image-URL-L'], books.loc[i]['author']\n",
    "    books.loc[i]['image-m'], books.loc[i]['Image-URL-L'] = books.loc[i]['Image-URL-L'], books.loc[i]['image-m']\n",
    "    books.loc[i]['Image-URL-S'], books.loc[i]['image-m'] = books.loc[i]['image-m'], books.loc[i]['Image-URL-S']\n",
    "    books.loc[i]['title'] = books.loc[i,'title'].split('\\\\')[0]"
   ]
  },
  {
   "cell_type": "code",
   "execution_count": 7,
   "id": "c495e864",
   "metadata": {},
   "outputs": [
    {
     "data": {
      "text/plain": [
       "ISBN           0\n",
       "title          0\n",
       "author         0\n",
       "year           0\n",
       "publisher      0\n",
       "Image-URL-S    0\n",
       "image-m        0\n",
       "Image-URL-L    0\n",
       "dtype: int64"
      ]
     },
     "execution_count": 7,
     "metadata": {},
     "output_type": "execute_result"
    }
   ],
   "source": [
    "books.isna().sum()"
   ]
  },
  {
   "cell_type": "code",
   "execution_count": 8,
   "id": "7e7383ac",
   "metadata": {},
   "outputs": [
    {
     "data": {
      "text/plain": [
       "0"
      ]
     },
     "execution_count": 8,
     "metadata": {},
     "output_type": "execute_result"
    }
   ],
   "source": [
    "books.drop(['Image-URL-S', 'image-m','Image-URL-L'],axis=1,inplace=True)\n",
    "\n",
    "books.year=pd.to_numeric(books.year, errors='coerce')\n",
    "\n",
    "books.loc[(books['year'] > 2022) | (books.year == 0),'year'] = np.NAN\n",
    "\n",
    "books['year'].isna().sum()\n",
    "\n",
    "books['year'].describe()\n",
    "\n",
    "books.year.fillna(round(books.year.max()), inplace=True)\n",
    "\n",
    "books.loc[(books['year'] < 1897) | (books.year == 0),'year'] = np.NAN\n",
    "books = books.dropna(subset=['year'])\n",
    "books.year.isnull().sum()"
   ]
  },
  {
   "cell_type": "code",
   "execution_count": 9,
   "id": "1fa35a1f",
   "metadata": {
    "scrolled": true
   },
   "outputs": [],
   "source": [
    "users['location'] = users['location'].apply(lambda row: str(row).split(',')[-1])\n",
    "users['location'].value_counts().to_frame().head(10)\n",
    "\n",
    "users['location'] = users['location'].str.strip()"
   ]
  },
  {
   "cell_type": "code",
   "execution_count": 10,
   "id": "17c2359f",
   "metadata": {},
   "outputs": [],
   "source": [
    "users['location'].replace(['','01776','02458','19104','23232','30064','85021','87510','alachua','america','austria','autralia','cananda','geermany','italia','united kindgonm','united kingdom.','uk','uk','uk','uk','uk','uk','united sates','united staes','united state','united states','us'],\n",
    "                           ['other','usa','usa','usa','usa','usa','usa','usa','usa','usa','australia','australia','canada','germany','italy','united kingdom','united kingdom','united kingdom','united kingdom','united kingdom','united kingdom','united kingdom','united kingdom','usa','usa','usa','usa','usa'],inplace=True)\n",
    "\n",
    "users['location'].replace(['australia\"','canda','u.s.a>','united stated of america','usa\"','u.s. of a.','good old usa !','u.s>', 'u.s.a!', 'u k'],\n",
    "                           ['australia','canada','usa','usa','usa','usa','usa','usa','usa','united kingdom'],inplace=True)\n",
    "\n",
    "users['location'].replace(['k1c7b1','uusa','united stated','united statea','good old u.s.a.','germay', 'pakistan.', 'south korea\"','s.corea'],\n",
    "                           ['canada','usa','usa','usa','usa','germany','pakistan','south korea','south korea'],inplace=True)"
   ]
  },
  {
   "cell_type": "code",
   "execution_count": 11,
   "id": "400d1c08",
   "metadata": {},
   "outputs": [
    {
     "data": {
      "text/plain": [
       "335"
      ]
     },
     "execution_count": 11,
     "metadata": {},
     "output_type": "execute_result"
    }
   ],
   "source": [
    "users.loc[(users.age > 85) | (users.age < 8), 'age'] = np.nan\n",
    "\n",
    "users.age = users.age.fillna(users.groupby('location')['age'].transform('mean'))\n",
    "# users.age = users.age.astype(np.int32)\n",
    "users['age'].isnull().sum()"
   ]
  },
  {
   "cell_type": "markdown",
   "id": "d2042e3a",
   "metadata": {},
   "source": [
    "# For 335 rows, location is not mentioned correctly\n"
   ]
  },
  {
   "cell_type": "code",
   "execution_count": 12,
   "id": "600da0e9",
   "metadata": {
    "scrolled": true
   },
   "outputs": [
    {
     "data": {
      "text/plain": [
       "userid      0\n",
       "location    0\n",
       "age         0\n",
       "dtype: int64"
      ]
     },
     "execution_count": 12,
     "metadata": {},
     "output_type": "execute_result"
    }
   ],
   "source": [
    "users.age = users.age.fillna(users.age.mean())\n",
    "users.isna().sum()"
   ]
  },
  {
   "cell_type": "markdown",
   "id": "56ddc2ec",
   "metadata": {},
   "source": [
    "#### Merge the dataset"
   ]
  },
  {
   "cell_type": "code",
   "execution_count": 13,
   "id": "7e6a22a1",
   "metadata": {},
   "outputs": [
    {
     "data": {
      "text/html": [
       "<div>\n",
       "<style scoped>\n",
       "    .dataframe tbody tr th:only-of-type {\n",
       "        vertical-align: middle;\n",
       "    }\n",
       "\n",
       "    .dataframe tbody tr th {\n",
       "        vertical-align: top;\n",
       "    }\n",
       "\n",
       "    .dataframe thead th {\n",
       "        text-align: right;\n",
       "    }\n",
       "</style>\n",
       "<table border=\"1\" class=\"dataframe\">\n",
       "  <thead>\n",
       "    <tr style=\"text-align: right;\">\n",
       "      <th></th>\n",
       "      <th>userid</th>\n",
       "      <th>ISBN</th>\n",
       "      <th>bookrating</th>\n",
       "      <th>title</th>\n",
       "      <th>author</th>\n",
       "      <th>year</th>\n",
       "      <th>publisher</th>\n",
       "      <th>location</th>\n",
       "      <th>age</th>\n",
       "    </tr>\n",
       "  </thead>\n",
       "  <tbody>\n",
       "    <tr>\n",
       "      <th>0</th>\n",
       "      <td>276725</td>\n",
       "      <td>034545104X</td>\n",
       "      <td>0</td>\n",
       "      <td>Flesh Tones: A Novel</td>\n",
       "      <td>M. J. Rose</td>\n",
       "      <td>2002.0</td>\n",
       "      <td>Ballantine Books</td>\n",
       "      <td>usa</td>\n",
       "      <td>37.944083</td>\n",
       "    </tr>\n",
       "    <tr>\n",
       "      <th>1</th>\n",
       "      <td>2313</td>\n",
       "      <td>034545104X</td>\n",
       "      <td>5</td>\n",
       "      <td>Flesh Tones: A Novel</td>\n",
       "      <td>M. J. Rose</td>\n",
       "      <td>2002.0</td>\n",
       "      <td>Ballantine Books</td>\n",
       "      <td>usa</td>\n",
       "      <td>23.000000</td>\n",
       "    </tr>\n",
       "  </tbody>\n",
       "</table>\n",
       "</div>"
      ],
      "text/plain": [
       "   userid        ISBN  bookrating                 title      author    year  \\\n",
       "0  276725  034545104X           0  Flesh Tones: A Novel  M. J. Rose  2002.0   \n",
       "1    2313  034545104X           5  Flesh Tones: A Novel  M. J. Rose  2002.0   \n",
       "\n",
       "          publisher location        age  \n",
       "0  Ballantine Books      usa  37.944083  \n",
       "1  Ballantine Books      usa  23.000000  "
      ]
     },
     "execution_count": 13,
     "metadata": {},
     "output_type": "execute_result"
    }
   ],
   "source": [
    "ratings_merged=ratings.merge(books,on='ISBN')\n",
    "ratings_merged = ratings_merged.merge(users,on='userid')\n",
    "\n",
    "ratings_merged.head(2)"
   ]
  },
  {
   "cell_type": "markdown",
   "id": "44183d0d",
   "metadata": {},
   "source": [
    "## Collaborative Filtering"
   ]
  },
  {
   "cell_type": "code",
   "execution_count": 14,
   "id": "22c5c517",
   "metadata": {},
   "outputs": [],
   "source": [
    "x=ratings_merged.groupby('userid').count()['bookrating']>100            # userid with rating >100\n",
    "user_rated=x[x].index      # # userid with rating >100\n",
    "\n",
    "rated_filter=ratings_merged[ratings_merged['userid'].isin(user_rated)]"
   ]
  },
  {
   "cell_type": "code",
   "execution_count": 15,
   "id": "77707f76",
   "metadata": {},
   "outputs": [],
   "source": [
    "y=rated_filter.groupby('title').count()['bookrating']>50               # books with rating given by more than 50 users\n",
    "rated_books=y[y].index"
   ]
  },
  {
   "cell_type": "code",
   "execution_count": 16,
   "id": "97f6ab0f",
   "metadata": {
    "scrolled": true
   },
   "outputs": [
    {
     "data": {
      "text/html": [
       "<div>\n",
       "<style scoped>\n",
       "    .dataframe tbody tr th:only-of-type {\n",
       "        vertical-align: middle;\n",
       "    }\n",
       "\n",
       "    .dataframe tbody tr th {\n",
       "        vertical-align: top;\n",
       "    }\n",
       "\n",
       "    .dataframe thead th {\n",
       "        text-align: right;\n",
       "    }\n",
       "</style>\n",
       "<table border=\"1\" class=\"dataframe\">\n",
       "  <thead>\n",
       "    <tr style=\"text-align: right;\">\n",
       "      <th></th>\n",
       "      <th>userid</th>\n",
       "      <th>ISBN</th>\n",
       "      <th>bookrating</th>\n",
       "      <th>title</th>\n",
       "      <th>author</th>\n",
       "      <th>year</th>\n",
       "      <th>publisher</th>\n",
       "      <th>location</th>\n",
       "      <th>age</th>\n",
       "    </tr>\n",
       "  </thead>\n",
       "  <tbody>\n",
       "    <tr>\n",
       "      <th>38</th>\n",
       "      <td>6543</td>\n",
       "      <td>0316666343</td>\n",
       "      <td>0</td>\n",
       "      <td>The Lovely Bones: A Novel</td>\n",
       "      <td>Alice Sebold</td>\n",
       "      <td>2002.0</td>\n",
       "      <td>Little, Brown</td>\n",
       "      <td>usa</td>\n",
       "      <td>34.0</td>\n",
       "    </tr>\n",
       "    <tr>\n",
       "      <th>39</th>\n",
       "      <td>6543</td>\n",
       "      <td>0385504209</td>\n",
       "      <td>0</td>\n",
       "      <td>The Da Vinci Code</td>\n",
       "      <td>Dan Brown</td>\n",
       "      <td>2003.0</td>\n",
       "      <td>Doubleday</td>\n",
       "      <td>usa</td>\n",
       "      <td>34.0</td>\n",
       "    </tr>\n",
       "    <tr>\n",
       "      <th>40</th>\n",
       "      <td>6543</td>\n",
       "      <td>0971880107</td>\n",
       "      <td>0</td>\n",
       "      <td>Wild Animus</td>\n",
       "      <td>Rich Shapero</td>\n",
       "      <td>2004.0</td>\n",
       "      <td>Too Far</td>\n",
       "      <td>usa</td>\n",
       "      <td>34.0</td>\n",
       "    </tr>\n",
       "    <tr>\n",
       "      <th>41</th>\n",
       "      <td>6543</td>\n",
       "      <td>0312966970</td>\n",
       "      <td>0</td>\n",
       "      <td>Four To Score (A Stephanie Plum Novel)</td>\n",
       "      <td>Janet Evanovich</td>\n",
       "      <td>1999.0</td>\n",
       "      <td>St. Martin's Paperbacks</td>\n",
       "      <td>usa</td>\n",
       "      <td>34.0</td>\n",
       "    </tr>\n",
       "    <tr>\n",
       "      <th>43</th>\n",
       "      <td>6543</td>\n",
       "      <td>0446605484</td>\n",
       "      <td>10</td>\n",
       "      <td>Roses Are Red (Alex Cross Novels)</td>\n",
       "      <td>James Patterson</td>\n",
       "      <td>2001.0</td>\n",
       "      <td>Warner Vision</td>\n",
       "      <td>usa</td>\n",
       "      <td>34.0</td>\n",
       "    </tr>\n",
       "    <tr>\n",
       "      <th>...</th>\n",
       "      <td>...</td>\n",
       "      <td>...</td>\n",
       "      <td>...</td>\n",
       "      <td>...</td>\n",
       "      <td>...</td>\n",
       "      <td>...</td>\n",
       "      <td>...</td>\n",
       "      <td>...</td>\n",
       "      <td>...</td>\n",
       "    </tr>\n",
       "    <tr>\n",
       "      <th>908968</th>\n",
       "      <td>155463</td>\n",
       "      <td>0425074986</td>\n",
       "      <td>0</td>\n",
       "      <td>Dune Messiah (Dune Chronicles, Book 2)</td>\n",
       "      <td>Frank Herbert</td>\n",
       "      <td>1984.0</td>\n",
       "      <td>Penguin Putnam~mass</td>\n",
       "      <td>usa</td>\n",
       "      <td>38.0</td>\n",
       "    </tr>\n",
       "    <tr>\n",
       "      <th>910281</th>\n",
       "      <td>148966</td>\n",
       "      <td>0425148297</td>\n",
       "      <td>5</td>\n",
       "      <td>Naked in Death</td>\n",
       "      <td>J. D. Robb</td>\n",
       "      <td>2004.0</td>\n",
       "      <td>Berkley Publishing Group</td>\n",
       "      <td>usa</td>\n",
       "      <td>35.0</td>\n",
       "    </tr>\n",
       "    <tr>\n",
       "      <th>919658</th>\n",
       "      <td>86947</td>\n",
       "      <td>080523747X</td>\n",
       "      <td>10</td>\n",
       "      <td>Masquerade</td>\n",
       "      <td>Kit Williams</td>\n",
       "      <td>1984.0</td>\n",
       "      <td>Schocken Books</td>\n",
       "      <td>usa</td>\n",
       "      <td>71.0</td>\n",
       "    </tr>\n",
       "    <tr>\n",
       "      <th>935415</th>\n",
       "      <td>240543</td>\n",
       "      <td>0385424728</td>\n",
       "      <td>6</td>\n",
       "      <td>The Chamber</td>\n",
       "      <td>John Grisham</td>\n",
       "      <td>1994.0</td>\n",
       "      <td>Doubleday Books</td>\n",
       "      <td>usa</td>\n",
       "      <td>67.0</td>\n",
       "    </tr>\n",
       "    <tr>\n",
       "      <th>935417</th>\n",
       "      <td>240543</td>\n",
       "      <td>038001503X</td>\n",
       "      <td>10</td>\n",
       "      <td>One Hundred Years of Solitude</td>\n",
       "      <td>Gabriel Garcia Marquez</td>\n",
       "      <td>1970.0</td>\n",
       "      <td>Avon Books</td>\n",
       "      <td>usa</td>\n",
       "      <td>67.0</td>\n",
       "    </tr>\n",
       "  </tbody>\n",
       "</table>\n",
       "<p>95790 rows × 9 columns</p>\n",
       "</div>"
      ],
      "text/plain": [
       "        userid        ISBN  bookrating  \\\n",
       "38        6543  0316666343           0   \n",
       "39        6543  0385504209           0   \n",
       "40        6543  0971880107           0   \n",
       "41        6543  0312966970           0   \n",
       "43        6543  0446605484          10   \n",
       "...        ...         ...         ...   \n",
       "908968  155463  0425074986           0   \n",
       "910281  148966  0425148297           5   \n",
       "919658   86947  080523747X          10   \n",
       "935415  240543  0385424728           6   \n",
       "935417  240543  038001503X          10   \n",
       "\n",
       "                                         title                  author  \\\n",
       "38                   The Lovely Bones: A Novel            Alice Sebold   \n",
       "39                           The Da Vinci Code               Dan Brown   \n",
       "40                                 Wild Animus            Rich Shapero   \n",
       "41      Four To Score (A Stephanie Plum Novel)         Janet Evanovich   \n",
       "43           Roses Are Red (Alex Cross Novels)         James Patterson   \n",
       "...                                        ...                     ...   \n",
       "908968  Dune Messiah (Dune Chronicles, Book 2)           Frank Herbert   \n",
       "910281                          Naked in Death              J. D. Robb   \n",
       "919658                              Masquerade            Kit Williams   \n",
       "935415                             The Chamber            John Grisham   \n",
       "935417           One Hundred Years of Solitude  Gabriel Garcia Marquez   \n",
       "\n",
       "          year                 publisher location   age  \n",
       "38      2002.0             Little, Brown      usa  34.0  \n",
       "39      2003.0                 Doubleday      usa  34.0  \n",
       "40      2004.0                   Too Far      usa  34.0  \n",
       "41      1999.0   St. Martin's Paperbacks      usa  34.0  \n",
       "43      2001.0             Warner Vision      usa  34.0  \n",
       "...        ...                       ...      ...   ...  \n",
       "908968  1984.0       Penguin Putnam~mass      usa  38.0  \n",
       "910281  2004.0  Berkley Publishing Group      usa  35.0  \n",
       "919658  1984.0            Schocken Books      usa  71.0  \n",
       "935415  1994.0           Doubleday Books      usa  67.0  \n",
       "935417  1970.0                Avon Books      usa  67.0  \n",
       "\n",
       "[95790 rows x 9 columns]"
      ]
     },
     "execution_count": 16,
     "metadata": {},
     "output_type": "execute_result"
    }
   ],
   "source": [
    "final_ratings= rated_filter[rated_filter['title'].isin(rated_books)]\n",
    "final_ratings"
   ]
  },
  {
   "cell_type": "code",
   "execution_count": 17,
   "id": "8a0d9c59",
   "metadata": {},
   "outputs": [],
   "source": [
    "final_ratings.to_csv('final_ratings.csv')"
   ]
  },
  {
   "cell_type": "markdown",
   "id": "fa8d852d",
   "metadata": {},
   "source": [
    "final_ratings = final_ratings[['userid','bookrating','title']]"
   ]
  },
  {
   "cell_type": "code",
   "execution_count": 18,
   "id": "23afe145",
   "metadata": {},
   "outputs": [
    {
     "data": {
      "text/html": [
       "<div>\n",
       "<style scoped>\n",
       "    .dataframe tbody tr th:only-of-type {\n",
       "        vertical-align: middle;\n",
       "    }\n",
       "\n",
       "    .dataframe tbody tr th {\n",
       "        vertical-align: top;\n",
       "    }\n",
       "\n",
       "    .dataframe thead th {\n",
       "        text-align: right;\n",
       "    }\n",
       "</style>\n",
       "<table border=\"1\" class=\"dataframe\">\n",
       "  <thead>\n",
       "    <tr style=\"text-align: right;\">\n",
       "      <th>userid</th>\n",
       "      <th>254</th>\n",
       "      <th>507</th>\n",
       "      <th>882</th>\n",
       "      <th>1424</th>\n",
       "      <th>1435</th>\n",
       "      <th>1733</th>\n",
       "      <th>1903</th>\n",
       "      <th>2033</th>\n",
       "      <th>2110</th>\n",
       "      <th>2276</th>\n",
       "      <th>...</th>\n",
       "      <th>275020</th>\n",
       "      <th>275970</th>\n",
       "      <th>276463</th>\n",
       "      <th>276680</th>\n",
       "      <th>277427</th>\n",
       "      <th>277478</th>\n",
       "      <th>277639</th>\n",
       "      <th>278137</th>\n",
       "      <th>278188</th>\n",
       "      <th>278418</th>\n",
       "    </tr>\n",
       "    <tr>\n",
       "      <th>title</th>\n",
       "      <th></th>\n",
       "      <th></th>\n",
       "      <th></th>\n",
       "      <th></th>\n",
       "      <th></th>\n",
       "      <th></th>\n",
       "      <th></th>\n",
       "      <th></th>\n",
       "      <th></th>\n",
       "      <th></th>\n",
       "      <th></th>\n",
       "      <th></th>\n",
       "      <th></th>\n",
       "      <th></th>\n",
       "      <th></th>\n",
       "      <th></th>\n",
       "      <th></th>\n",
       "      <th></th>\n",
       "      <th></th>\n",
       "      <th></th>\n",
       "      <th></th>\n",
       "    </tr>\n",
       "  </thead>\n",
       "  <tbody>\n",
       "    <tr>\n",
       "      <th>1984</th>\n",
       "      <td>9.0</td>\n",
       "      <td>0.0</td>\n",
       "      <td>0.0</td>\n",
       "      <td>0.0</td>\n",
       "      <td>0.0</td>\n",
       "      <td>0.0</td>\n",
       "      <td>0.0</td>\n",
       "      <td>0.0</td>\n",
       "      <td>0.0</td>\n",
       "      <td>0.0</td>\n",
       "      <td>...</td>\n",
       "      <td>0.0</td>\n",
       "      <td>0.0</td>\n",
       "      <td>0.0</td>\n",
       "      <td>0.0</td>\n",
       "      <td>0.0</td>\n",
       "      <td>0.0</td>\n",
       "      <td>0.0</td>\n",
       "      <td>0.0</td>\n",
       "      <td>0.0</td>\n",
       "      <td>0.0</td>\n",
       "    </tr>\n",
       "    <tr>\n",
       "      <th>1st to Die: A Novel</th>\n",
       "      <td>0.0</td>\n",
       "      <td>0.0</td>\n",
       "      <td>0.0</td>\n",
       "      <td>0.0</td>\n",
       "      <td>0.0</td>\n",
       "      <td>0.0</td>\n",
       "      <td>0.0</td>\n",
       "      <td>0.0</td>\n",
       "      <td>0.0</td>\n",
       "      <td>0.0</td>\n",
       "      <td>...</td>\n",
       "      <td>0.0</td>\n",
       "      <td>0.0</td>\n",
       "      <td>0.0</td>\n",
       "      <td>0.0</td>\n",
       "      <td>0.0</td>\n",
       "      <td>0.0</td>\n",
       "      <td>0.0</td>\n",
       "      <td>0.0</td>\n",
       "      <td>0.0</td>\n",
       "      <td>0.0</td>\n",
       "    </tr>\n",
       "    <tr>\n",
       "      <th>2010: Odyssey Two</th>\n",
       "      <td>0.0</td>\n",
       "      <td>0.0</td>\n",
       "      <td>0.0</td>\n",
       "      <td>0.0</td>\n",
       "      <td>0.0</td>\n",
       "      <td>0.0</td>\n",
       "      <td>0.0</td>\n",
       "      <td>0.0</td>\n",
       "      <td>0.0</td>\n",
       "      <td>0.0</td>\n",
       "      <td>...</td>\n",
       "      <td>0.0</td>\n",
       "      <td>0.0</td>\n",
       "      <td>0.0</td>\n",
       "      <td>0.0</td>\n",
       "      <td>0.0</td>\n",
       "      <td>0.0</td>\n",
       "      <td>0.0</td>\n",
       "      <td>0.0</td>\n",
       "      <td>0.0</td>\n",
       "      <td>0.0</td>\n",
       "    </tr>\n",
       "    <tr>\n",
       "      <th>24 Hours</th>\n",
       "      <td>0.0</td>\n",
       "      <td>0.0</td>\n",
       "      <td>0.0</td>\n",
       "      <td>0.0</td>\n",
       "      <td>0.0</td>\n",
       "      <td>0.0</td>\n",
       "      <td>0.0</td>\n",
       "      <td>0.0</td>\n",
       "      <td>0.0</td>\n",
       "      <td>0.0</td>\n",
       "      <td>...</td>\n",
       "      <td>0.0</td>\n",
       "      <td>0.0</td>\n",
       "      <td>0.0</td>\n",
       "      <td>0.0</td>\n",
       "      <td>10.0</td>\n",
       "      <td>0.0</td>\n",
       "      <td>0.0</td>\n",
       "      <td>0.0</td>\n",
       "      <td>0.0</td>\n",
       "      <td>0.0</td>\n",
       "    </tr>\n",
       "    <tr>\n",
       "      <th>2nd Chance</th>\n",
       "      <td>0.0</td>\n",
       "      <td>0.0</td>\n",
       "      <td>0.0</td>\n",
       "      <td>0.0</td>\n",
       "      <td>0.0</td>\n",
       "      <td>0.0</td>\n",
       "      <td>0.0</td>\n",
       "      <td>0.0</td>\n",
       "      <td>0.0</td>\n",
       "      <td>10.0</td>\n",
       "      <td>...</td>\n",
       "      <td>0.0</td>\n",
       "      <td>0.0</td>\n",
       "      <td>0.0</td>\n",
       "      <td>0.0</td>\n",
       "      <td>0.0</td>\n",
       "      <td>0.0</td>\n",
       "      <td>0.0</td>\n",
       "      <td>0.0</td>\n",
       "      <td>0.0</td>\n",
       "      <td>0.0</td>\n",
       "    </tr>\n",
       "    <tr>\n",
       "      <th>...</th>\n",
       "      <td>...</td>\n",
       "      <td>...</td>\n",
       "      <td>...</td>\n",
       "      <td>...</td>\n",
       "      <td>...</td>\n",
       "      <td>...</td>\n",
       "      <td>...</td>\n",
       "      <td>...</td>\n",
       "      <td>...</td>\n",
       "      <td>...</td>\n",
       "      <td>...</td>\n",
       "      <td>...</td>\n",
       "      <td>...</td>\n",
       "      <td>...</td>\n",
       "      <td>...</td>\n",
       "      <td>...</td>\n",
       "      <td>...</td>\n",
       "      <td>...</td>\n",
       "      <td>...</td>\n",
       "      <td>...</td>\n",
       "      <td>...</td>\n",
       "    </tr>\n",
       "    <tr>\n",
       "      <th>Year of Wonders</th>\n",
       "      <td>0.0</td>\n",
       "      <td>0.0</td>\n",
       "      <td>0.0</td>\n",
       "      <td>7.0</td>\n",
       "      <td>0.0</td>\n",
       "      <td>0.0</td>\n",
       "      <td>0.0</td>\n",
       "      <td>0.0</td>\n",
       "      <td>0.0</td>\n",
       "      <td>0.0</td>\n",
       "      <td>...</td>\n",
       "      <td>0.0</td>\n",
       "      <td>0.0</td>\n",
       "      <td>0.0</td>\n",
       "      <td>0.0</td>\n",
       "      <td>0.0</td>\n",
       "      <td>0.0</td>\n",
       "      <td>0.0</td>\n",
       "      <td>0.0</td>\n",
       "      <td>0.0</td>\n",
       "      <td>0.0</td>\n",
       "    </tr>\n",
       "    <tr>\n",
       "      <th>You Belong To Me</th>\n",
       "      <td>0.0</td>\n",
       "      <td>0.0</td>\n",
       "      <td>0.0</td>\n",
       "      <td>0.0</td>\n",
       "      <td>0.0</td>\n",
       "      <td>0.0</td>\n",
       "      <td>0.0</td>\n",
       "      <td>0.0</td>\n",
       "      <td>0.0</td>\n",
       "      <td>0.0</td>\n",
       "      <td>...</td>\n",
       "      <td>0.0</td>\n",
       "      <td>0.0</td>\n",
       "      <td>0.0</td>\n",
       "      <td>0.0</td>\n",
       "      <td>0.0</td>\n",
       "      <td>0.0</td>\n",
       "      <td>0.0</td>\n",
       "      <td>0.0</td>\n",
       "      <td>0.0</td>\n",
       "      <td>0.0</td>\n",
       "    </tr>\n",
       "    <tr>\n",
       "      <th>Zen and the Art of Motorcycle Maintenance: An Inquiry into Values</th>\n",
       "      <td>0.0</td>\n",
       "      <td>0.0</td>\n",
       "      <td>0.0</td>\n",
       "      <td>0.0</td>\n",
       "      <td>0.0</td>\n",
       "      <td>0.0</td>\n",
       "      <td>0.0</td>\n",
       "      <td>0.0</td>\n",
       "      <td>0.0</td>\n",
       "      <td>0.0</td>\n",
       "      <td>...</td>\n",
       "      <td>0.0</td>\n",
       "      <td>0.0</td>\n",
       "      <td>0.0</td>\n",
       "      <td>0.0</td>\n",
       "      <td>0.0</td>\n",
       "      <td>0.0</td>\n",
       "      <td>0.0</td>\n",
       "      <td>0.0</td>\n",
       "      <td>0.0</td>\n",
       "      <td>0.0</td>\n",
       "    </tr>\n",
       "    <tr>\n",
       "      <th>Zoya</th>\n",
       "      <td>0.0</td>\n",
       "      <td>0.0</td>\n",
       "      <td>0.0</td>\n",
       "      <td>0.0</td>\n",
       "      <td>0.0</td>\n",
       "      <td>0.0</td>\n",
       "      <td>0.0</td>\n",
       "      <td>0.0</td>\n",
       "      <td>0.0</td>\n",
       "      <td>0.0</td>\n",
       "      <td>...</td>\n",
       "      <td>0.0</td>\n",
       "      <td>0.0</td>\n",
       "      <td>0.0</td>\n",
       "      <td>0.0</td>\n",
       "      <td>0.0</td>\n",
       "      <td>0.0</td>\n",
       "      <td>0.0</td>\n",
       "      <td>0.0</td>\n",
       "      <td>0.0</td>\n",
       "      <td>0.0</td>\n",
       "    </tr>\n",
       "    <tr>\n",
       "      <th>\\O\\\" Is for Outlaw\"</th>\n",
       "      <td>0.0</td>\n",
       "      <td>0.0</td>\n",
       "      <td>0.0</td>\n",
       "      <td>0.0</td>\n",
       "      <td>0.0</td>\n",
       "      <td>0.0</td>\n",
       "      <td>0.0</td>\n",
       "      <td>0.0</td>\n",
       "      <td>0.0</td>\n",
       "      <td>0.0</td>\n",
       "      <td>...</td>\n",
       "      <td>0.0</td>\n",
       "      <td>0.0</td>\n",
       "      <td>0.0</td>\n",
       "      <td>0.0</td>\n",
       "      <td>0.0</td>\n",
       "      <td>0.0</td>\n",
       "      <td>0.0</td>\n",
       "      <td>0.0</td>\n",
       "      <td>0.0</td>\n",
       "      <td>0.0</td>\n",
       "    </tr>\n",
       "  </tbody>\n",
       "</table>\n",
       "<p>1035 rows × 1634 columns</p>\n",
       "</div>"
      ],
      "text/plain": [
       "userid                                              254     507     882     \\\n",
       "title                                                                        \n",
       "1984                                                   9.0     0.0     0.0   \n",
       "1st to Die: A Novel                                    0.0     0.0     0.0   \n",
       "2010: Odyssey Two                                      0.0     0.0     0.0   \n",
       "24 Hours                                               0.0     0.0     0.0   \n",
       "2nd Chance                                             0.0     0.0     0.0   \n",
       "...                                                    ...     ...     ...   \n",
       "Year of Wonders                                        0.0     0.0     0.0   \n",
       "You Belong To Me                                       0.0     0.0     0.0   \n",
       "Zen and the Art of Motorcycle Maintenance: An I...     0.0     0.0     0.0   \n",
       "Zoya                                                   0.0     0.0     0.0   \n",
       "\\O\\\" Is for Outlaw\"                                    0.0     0.0     0.0   \n",
       "\n",
       "userid                                              1424    1435    1733    \\\n",
       "title                                                                        \n",
       "1984                                                   0.0     0.0     0.0   \n",
       "1st to Die: A Novel                                    0.0     0.0     0.0   \n",
       "2010: Odyssey Two                                      0.0     0.0     0.0   \n",
       "24 Hours                                               0.0     0.0     0.0   \n",
       "2nd Chance                                             0.0     0.0     0.0   \n",
       "...                                                    ...     ...     ...   \n",
       "Year of Wonders                                        7.0     0.0     0.0   \n",
       "You Belong To Me                                       0.0     0.0     0.0   \n",
       "Zen and the Art of Motorcycle Maintenance: An I...     0.0     0.0     0.0   \n",
       "Zoya                                                   0.0     0.0     0.0   \n",
       "\\O\\\" Is for Outlaw\"                                    0.0     0.0     0.0   \n",
       "\n",
       "userid                                              1903    2033    2110    \\\n",
       "title                                                                        \n",
       "1984                                                   0.0     0.0     0.0   \n",
       "1st to Die: A Novel                                    0.0     0.0     0.0   \n",
       "2010: Odyssey Two                                      0.0     0.0     0.0   \n",
       "24 Hours                                               0.0     0.0     0.0   \n",
       "2nd Chance                                             0.0     0.0     0.0   \n",
       "...                                                    ...     ...     ...   \n",
       "Year of Wonders                                        0.0     0.0     0.0   \n",
       "You Belong To Me                                       0.0     0.0     0.0   \n",
       "Zen and the Art of Motorcycle Maintenance: An I...     0.0     0.0     0.0   \n",
       "Zoya                                                   0.0     0.0     0.0   \n",
       "\\O\\\" Is for Outlaw\"                                    0.0     0.0     0.0   \n",
       "\n",
       "userid                                              2276    ...  275020  \\\n",
       "title                                                       ...           \n",
       "1984                                                   0.0  ...     0.0   \n",
       "1st to Die: A Novel                                    0.0  ...     0.0   \n",
       "2010: Odyssey Two                                      0.0  ...     0.0   \n",
       "24 Hours                                               0.0  ...     0.0   \n",
       "2nd Chance                                            10.0  ...     0.0   \n",
       "...                                                    ...  ...     ...   \n",
       "Year of Wonders                                        0.0  ...     0.0   \n",
       "You Belong To Me                                       0.0  ...     0.0   \n",
       "Zen and the Art of Motorcycle Maintenance: An I...     0.0  ...     0.0   \n",
       "Zoya                                                   0.0  ...     0.0   \n",
       "\\O\\\" Is for Outlaw\"                                    0.0  ...     0.0   \n",
       "\n",
       "userid                                              275970  276463  276680  \\\n",
       "title                                                                        \n",
       "1984                                                   0.0     0.0     0.0   \n",
       "1st to Die: A Novel                                    0.0     0.0     0.0   \n",
       "2010: Odyssey Two                                      0.0     0.0     0.0   \n",
       "24 Hours                                               0.0     0.0     0.0   \n",
       "2nd Chance                                             0.0     0.0     0.0   \n",
       "...                                                    ...     ...     ...   \n",
       "Year of Wonders                                        0.0     0.0     0.0   \n",
       "You Belong To Me                                       0.0     0.0     0.0   \n",
       "Zen and the Art of Motorcycle Maintenance: An I...     0.0     0.0     0.0   \n",
       "Zoya                                                   0.0     0.0     0.0   \n",
       "\\O\\\" Is for Outlaw\"                                    0.0     0.0     0.0   \n",
       "\n",
       "userid                                              277427  277478  277639  \\\n",
       "title                                                                        \n",
       "1984                                                   0.0     0.0     0.0   \n",
       "1st to Die: A Novel                                    0.0     0.0     0.0   \n",
       "2010: Odyssey Two                                      0.0     0.0     0.0   \n",
       "24 Hours                                              10.0     0.0     0.0   \n",
       "2nd Chance                                             0.0     0.0     0.0   \n",
       "...                                                    ...     ...     ...   \n",
       "Year of Wonders                                        0.0     0.0     0.0   \n",
       "You Belong To Me                                       0.0     0.0     0.0   \n",
       "Zen and the Art of Motorcycle Maintenance: An I...     0.0     0.0     0.0   \n",
       "Zoya                                                   0.0     0.0     0.0   \n",
       "\\O\\\" Is for Outlaw\"                                    0.0     0.0     0.0   \n",
       "\n",
       "userid                                              278137  278188  278418  \n",
       "title                                                                       \n",
       "1984                                                   0.0     0.0     0.0  \n",
       "1st to Die: A Novel                                    0.0     0.0     0.0  \n",
       "2010: Odyssey Two                                      0.0     0.0     0.0  \n",
       "24 Hours                                               0.0     0.0     0.0  \n",
       "2nd Chance                                             0.0     0.0     0.0  \n",
       "...                                                    ...     ...     ...  \n",
       "Year of Wonders                                        0.0     0.0     0.0  \n",
       "You Belong To Me                                       0.0     0.0     0.0  \n",
       "Zen and the Art of Motorcycle Maintenance: An I...     0.0     0.0     0.0  \n",
       "Zoya                                                   0.0     0.0     0.0  \n",
       "\\O\\\" Is for Outlaw\"                                    0.0     0.0     0.0  \n",
       "\n",
       "[1035 rows x 1634 columns]"
      ]
     },
     "execution_count": 18,
     "metadata": {},
     "output_type": "execute_result"
    }
   ],
   "source": [
    "books_table=final_ratings.pivot_table(index='title',columns='userid',values='bookrating')\n",
    "\n",
    "books_table.fillna(0,inplace=True)\n",
    "books_table"
   ]
  },
  {
   "cell_type": "code",
   "execution_count": 19,
   "id": "125da3ed",
   "metadata": {
    "scrolled": true
   },
   "outputs": [
    {
     "data": {
      "text/plain": [
       "(1035, 1035)"
      ]
     },
     "execution_count": 19,
     "metadata": {},
     "output_type": "execute_result"
    }
   ],
   "source": [
    "similarities=cosine_similarity(books_table)\n",
    "similarities.shape"
   ]
  },
  {
   "cell_type": "markdown",
   "id": "56aac193",
   "metadata": {},
   "source": [
    "# 2dec - old code <br>\n",
    "index number is fetched without sorting the pivot table"
   ]
  },
  {
   "cell_type": "code",
   "execution_count": 20,
   "id": "1551fba5",
   "metadata": {},
   "outputs": [],
   "source": [
    "def recommendation(userid):\n",
    "    index=np.where(books_table.columns==userid)[0][0]       #title\n",
    "    book_indices=sorted(list(enumerate(similarities[index])),key=lambda x:x[1],reverse=True)[1:11]\n",
    "    for book_index in book_indices:\n",
    "        print(final_ratings.iloc[book_index[0]].title)"
   ]
  },
  {
   "cell_type": "code",
   "execution_count": null,
   "id": "1ebce1c9",
   "metadata": {},
   "outputs": [],
   "source": []
  },
  {
   "cell_type": "code",
   "execution_count": null,
   "id": "5f9ed6b4",
   "metadata": {},
   "outputs": [],
   "source": []
  },
  {
   "cell_type": "code",
   "execution_count": 21,
   "id": "1cdb5d01",
   "metadata": {
    "scrolled": true
   },
   "outputs": [
    {
     "name": "stdout",
     "output_type": "stream",
     "text": [
      "The Undertaker's Widow\n",
      "Dance upon the Air (Three Sisters Island Trilogy)\n",
      "The Pilot's Wife : A Novel\n",
      "Animal Husbandry\n",
      "The Surgeon\n",
      "Rising Sun\n",
      "Blow Fly: A Scarpetta Novel\n",
      "Vital Signs\n",
      "The Thief Lord\n",
      "Hard Eight : A Stephanie Plum Novel (A Stephanie Plum Novel)\n"
     ]
    }
   ],
   "source": [
    "recommendation(11676)"
   ]
  },
  {
   "cell_type": "code",
   "execution_count": 22,
   "id": "3007506d",
   "metadata": {
    "scrolled": false
   },
   "outputs": [
    {
     "name": "stdout",
     "output_type": "stream",
     "text": [
      "Dr. Atkins' New Diet Revolution : True\n",
      "0\n",
      "The Chamber : True\n",
      "0\n",
      "The Conquest : True\n",
      "9\n",
      "Heartbreaker : True\n",
      "8\n",
      "Flesh Tones: A Novel : False\n",
      "Don't Sweat the Small Stuff and It's All Small Stuff : Simple Ways to Keep the Little Things from Taking Over Your Life (Don't Sweat the Small Stuff Series) : True\n",
      "6\n",
      "Absolute Power : True\n",
      "7\n",
      "My American Journey : False\n",
      "Final Target : True\n",
      "8\n",
      "Wild Animus : True\n",
      "6\n"
     ]
    }
   ],
   "source": [
    "abc  = ratings_merged[ratings_merged['userid']==11676]\n",
    "\n",
    "for i in [\"Dr. Atkins' New Diet Revolution\",\"The Chamber\",\"The Conquest\",\"Heartbreaker\",\"Flesh Tones: A Novel\",\n",
    "          \"Don't Sweat the Small Stuff and It's All Small Stuff : Simple Ways to Keep the Little Things from Taking Over Your Life (Don't Sweat the Small Stuff Series)\",\n",
    "          \"Absolute Power\",\"My American Journey\",\"Final Target\",\"Wild Animus\"]:\n",
    "    print(i,':', i in list(ratings_merged[ratings_merged['userid']==11676]['title'].values))\n",
    "    if (i in list(ratings_merged[ratings_merged['userid']==11676]['title'].values))== True:\n",
    "        print( abc[abc['title']== i]['bookrating'].values[0])"
   ]
  },
  {
   "cell_type": "code",
   "execution_count": 23,
   "id": "551caa4d",
   "metadata": {},
   "outputs": [
    {
     "name": "stdout",
     "output_type": "stream",
     "text": [
      "Dr. Atkins' New Diet Revolution : True\n",
      "0\n",
      "The Chamber : True\n",
      "0\n",
      "The Conquest : False\n",
      "Heartbreaker : True\n",
      "8\n",
      "Flesh Tones: A Novel : False\n",
      "Don't Sweat the Small Stuff and It's All Small Stuff : Simple Ways to Keep the Little Things from Taking Over Your Life (Don't Sweat the Small Stuff Series) : True\n",
      "6\n",
      "Absolute Power : True\n",
      "7\n",
      "My American Journey : False\n",
      "Final Target : True\n",
      "8\n",
      "Wild Animus : True\n",
      "6\n"
     ]
    }
   ],
   "source": [
    "abc  = final_ratings[final_ratings['userid']==11676]\n",
    "\n",
    "for i in [\"Dr. Atkins' New Diet Revolution\",\"The Chamber\",\"The Conquest\",\"Heartbreaker\",\"Flesh Tones: A Novel\",\n",
    "          \"Don't Sweat the Small Stuff and It's All Small Stuff : Simple Ways to Keep the Little Things from Taking Over Your Life (Don't Sweat the Small Stuff Series)\",\n",
    "          \"Absolute Power\",\"My American Journey\",\"Final Target\",\"Wild Animus\"]:\n",
    "    print(i,':', i in list(final_ratings[final_ratings['userid']==11676]['title'].values))\n",
    "    if (i in list(final_ratings[final_ratings['userid']==11676]['title'].values))== True:\n",
    "        print( abc[abc['title']== i]['bookrating'].values[0])"
   ]
  },
  {
   "cell_type": "code",
   "execution_count": 24,
   "id": "3548ce2f",
   "metadata": {},
   "outputs": [
    {
     "name": "stdout",
     "output_type": "stream",
     "text": [
      "Schindler's List\n",
      "Cold Mountain : A Novel\n",
      "Table For Two\n",
      "A Walk to Remember\n",
      "The Boy Next Door\n",
      "The Da Vinci Code\n",
      "Word Freak: Heartbreak, Triumph, Genius, and Obsession in the World of Competitive Scrabble Players\n",
      "The Testament\n",
      "Relic\n",
      "Hannibal\n"
     ]
    }
   ],
   "source": [
    "recommendation(254)"
   ]
  },
  {
   "cell_type": "code",
   "execution_count": 25,
   "id": "1a06807e",
   "metadata": {},
   "outputs": [
    {
     "name": "stdout",
     "output_type": "stream",
     "text": [
      "The Locket : A Novel (Christmas Box Trilogy) : False\n",
      "Pale Kings and Princes : False\n",
      "Hit List : False\n",
      "Night Prey : False\n",
      "Chicken Soup for the Woman's Soul (Chicken Soup for the Soul Series (Paper)) : False\n",
      "Murder Gets a Life: : A Southern Sisters Mystery (Southern Sisters Mysteries (Paperback)) : False\n",
      "Mr. Ives' Christmas : False\n",
      "Engaging The Enemy : False\n",
      "It Came from Beneath the Sink! (Goosebumps, No 30) : False\n",
      "The Hours: A Novel : True\n",
      "0\n"
     ]
    }
   ],
   "source": [
    "abc  = ratings_merged[ratings_merged['userid']==254]\n",
    "\n",
    "for i in [\"The Locket : A Novel (Christmas Box Trilogy)\",\"Pale Kings and Princes\",\"Hit List\",\n",
    "          \"Night Prey\",\"Chicken Soup for the Woman's Soul (Chicken Soup for the Soul Series (Paper))\",\n",
    "          \"Murder Gets a Life: : A Southern Sisters Mystery (Southern Sisters Mysteries (Paperback))\",\n",
    "          \"Mr. Ives' Christmas\",\"Engaging The Enemy\",\"It Came from Beneath the Sink! (Goosebumps, No 30)\",\"The Hours: A Novel\"]:\n",
    "    print(i,':', i in list(ratings_merged[ratings_merged['userid']==254]['title'].values))\n",
    "    if (i in list(ratings_merged[ratings_merged['userid']==254]['title'].values))== True:\n",
    "        print( abc[abc['title']== i]['bookrating'].values[0])"
   ]
  },
  {
   "cell_type": "code",
   "execution_count": 26,
   "id": "e5de35d4",
   "metadata": {},
   "outputs": [
    {
     "name": "stdout",
     "output_type": "stream",
     "text": [
      "The Locket : A Novel (Christmas Box Trilogy) : False\n",
      "Pale Kings and Princes : False\n",
      "Hit List : False\n",
      "Night Prey : False\n",
      "Chicken Soup for the Woman's Soul (Chicken Soup for the Soul Series (Paper)) : False\n",
      "Murder Gets a Life: : A Southern Sisters Mystery (Southern Sisters Mysteries (Paperback)) : False\n",
      "Mr. Ives' Christmas : False\n",
      "Engaging The Enemy : False\n",
      "It Came from Beneath the Sink! (Goosebumps, No 30) : False\n",
      "The Hours: A Novel : True\n",
      "0\n"
     ]
    }
   ],
   "source": [
    "final_ratings\n",
    "abc  = ratings_merged[ratings_merged['userid']==254]\n",
    "\n",
    "for i in [\"The Locket : A Novel (Christmas Box Trilogy)\",\"Pale Kings and Princes\",\"Hit List\",\n",
    "          \"Night Prey\",\"Chicken Soup for the Woman's Soul (Chicken Soup for the Soul Series (Paper))\",\n",
    "          \"Murder Gets a Life: : A Southern Sisters Mystery (Southern Sisters Mysteries (Paperback))\",\n",
    "          \"Mr. Ives' Christmas\",\"Engaging The Enemy\",\"It Came from Beneath the Sink! (Goosebumps, No 30)\",\"The Hours: A Novel\"]:\n",
    "    print(i,':', i in list(ratings_merged[ratings_merged['userid']==254]['title'].values))\n",
    "    if (i in list(ratings_merged[ratings_merged['userid']==254]['title'].values))== True:\n",
    "        print( abc[abc['title']== i]['bookrating'].values[0])"
   ]
  },
  {
   "cell_type": "code",
   "execution_count": 27,
   "id": "502ea51b",
   "metadata": {
    "scrolled": true
   },
   "outputs": [
    {
     "name": "stdout",
     "output_type": "stream",
     "text": [
      "The Secret\n",
      "Catch Me If You Can: The True Story of a Real Fake\n",
      "Balzac and the Little Chinese Seamstress : A Novel\n",
      "All That Remains (Kay Scarpetta Mysteries (Paperback))\n",
      "Hot Six : A Stephanie Plum Novel (A Stephanie Plum Novel)\n",
      "Seventh Heaven\n",
      "The Rescue\n",
      "How Stella Got Her Groove Back\n",
      "Ransom\n",
      "Beach House\n"
     ]
    }
   ],
   "source": [
    "recommendation(2766)"
   ]
  },
  {
   "cell_type": "code",
   "execution_count": 28,
   "id": "e45d1d4e",
   "metadata": {},
   "outputs": [
    {
     "name": "stdout",
     "output_type": "stream",
     "text": [
      "The Bonesetter's Daughter : False\n",
      "The Senator's Wife : False\n",
      "Garden of Rama : False\n",
      "LIFE SUPPORT : False\n",
      "Slightly Settled (Red Dress Ink) : False\n",
      "Rising Tides : False\n",
      "Presumed Innocent : False\n",
      "The Firm : False\n",
      "World Without End : False\n",
      "2nd Chance : False\n"
     ]
    }
   ],
   "source": [
    "abc  = ratings_merged[ratings_merged['userid']==2766]\n",
    "\n",
    "for i in [\"The Bonesetter's Daughter\",\"The Senator's Wife\",\"Garden of Rama\",\"LIFE SUPPORT\",\n",
    "          \"Slightly Settled (Red Dress Ink)\",\"Rising Tides\",\"Presumed Innocent\",\"The Firm\",\"World Without End\",\"2nd Chance\"]:\n",
    "    print(i,':', i in list(ratings_merged[ratings_merged['userid']==2766]['title'].values))\n",
    "    if (i in list(ratings_merged[ratings_merged['userid']==2766]['title'].values))== True:\n",
    "        print( abc[abc['title']== i]['bookrating'].values[0])"
   ]
  },
  {
   "cell_type": "code",
   "execution_count": 29,
   "id": "64b11a59",
   "metadata": {},
   "outputs": [
    {
     "name": "stdout",
     "output_type": "stream",
     "text": [
      "The Bonesetter's Daughter : False\n",
      "The Senator's Wife : False\n",
      "Garden of Rama : False\n",
      "LIFE SUPPORT : False\n",
      "Slightly Settled (Red Dress Ink) : False\n",
      "Rising Tides : False\n",
      "Presumed Innocent : False\n",
      "The Firm : False\n",
      "World Without End : False\n",
      "2nd Chance : False\n"
     ]
    }
   ],
   "source": [
    "abc  = final_ratings[final_ratings['userid']==2766]\n",
    "\n",
    "for i in [\"The Bonesetter's Daughter\",\"The Senator's Wife\",\"Garden of Rama\",\"LIFE SUPPORT\",\n",
    "          \"Slightly Settled (Red Dress Ink)\",\"Rising Tides\",\"Presumed Innocent\",\"The Firm\",\"World Without End\",\"2nd Chance\"]:\n",
    "    print(i,':', i in list(final_ratings[final_ratings['userid']==2766]['title'].values))\n",
    "    if (i in list(final_ratings[final_ratings['userid']==2766]['title'].values))== True:\n",
    "        print( abc[abc['title']== i]['bookrating'].values[0])"
   ]
  },
  {
   "cell_type": "code",
   "execution_count": 30,
   "id": "8b659181",
   "metadata": {},
   "outputs": [
    {
     "ename": "IndexError",
     "evalue": "index 0 is out of bounds for axis 0 with size 0",
     "output_type": "error",
     "traceback": [
      "\u001b[1;31m---------------------------------------------------------------------------\u001b[0m",
      "\u001b[1;31mIndexError\u001b[0m                                Traceback (most recent call last)",
      "\u001b[1;32m~\\AppData\\Local\\Temp/ipykernel_1572/719849915.py\u001b[0m in \u001b[0;36m<module>\u001b[1;34m\u001b[0m\n\u001b[1;32m----> 1\u001b[1;33m \u001b[0mrecommendation\u001b[0m\u001b[1;33m(\u001b[0m\u001b[1;36m901\u001b[0m\u001b[1;33m)\u001b[0m\u001b[1;33m\u001b[0m\u001b[1;33m\u001b[0m\u001b[0m\n\u001b[0m",
      "\u001b[1;32m~\\AppData\\Local\\Temp/ipykernel_1572/1932542149.py\u001b[0m in \u001b[0;36mrecommendation\u001b[1;34m(userid)\u001b[0m\n\u001b[0;32m      1\u001b[0m \u001b[1;32mdef\u001b[0m \u001b[0mrecommendation\u001b[0m\u001b[1;33m(\u001b[0m\u001b[0muserid\u001b[0m\u001b[1;33m)\u001b[0m\u001b[1;33m:\u001b[0m\u001b[1;33m\u001b[0m\u001b[1;33m\u001b[0m\u001b[0m\n\u001b[1;32m----> 2\u001b[1;33m     \u001b[0mindex\u001b[0m\u001b[1;33m=\u001b[0m\u001b[0mnp\u001b[0m\u001b[1;33m.\u001b[0m\u001b[0mwhere\u001b[0m\u001b[1;33m(\u001b[0m\u001b[0mbooks_table\u001b[0m\u001b[1;33m.\u001b[0m\u001b[0mcolumns\u001b[0m\u001b[1;33m==\u001b[0m\u001b[0muserid\u001b[0m\u001b[1;33m)\u001b[0m\u001b[1;33m[\u001b[0m\u001b[1;36m0\u001b[0m\u001b[1;33m]\u001b[0m\u001b[1;33m[\u001b[0m\u001b[1;36m0\u001b[0m\u001b[1;33m]\u001b[0m       \u001b[1;31m#title\u001b[0m\u001b[1;33m\u001b[0m\u001b[1;33m\u001b[0m\u001b[0m\n\u001b[0m\u001b[0;32m      3\u001b[0m     \u001b[0mbook_indices\u001b[0m\u001b[1;33m=\u001b[0m\u001b[0msorted\u001b[0m\u001b[1;33m(\u001b[0m\u001b[0mlist\u001b[0m\u001b[1;33m(\u001b[0m\u001b[0menumerate\u001b[0m\u001b[1;33m(\u001b[0m\u001b[0msimilarities\u001b[0m\u001b[1;33m[\u001b[0m\u001b[0mindex\u001b[0m\u001b[1;33m]\u001b[0m\u001b[1;33m)\u001b[0m\u001b[1;33m)\u001b[0m\u001b[1;33m,\u001b[0m\u001b[0mkey\u001b[0m\u001b[1;33m=\u001b[0m\u001b[1;32mlambda\u001b[0m \u001b[0mx\u001b[0m\u001b[1;33m:\u001b[0m\u001b[0mx\u001b[0m\u001b[1;33m[\u001b[0m\u001b[1;36m1\u001b[0m\u001b[1;33m]\u001b[0m\u001b[1;33m,\u001b[0m\u001b[0mreverse\u001b[0m\u001b[1;33m=\u001b[0m\u001b[1;32mTrue\u001b[0m\u001b[1;33m)\u001b[0m\u001b[1;33m[\u001b[0m\u001b[1;36m1\u001b[0m\u001b[1;33m:\u001b[0m\u001b[1;36m11\u001b[0m\u001b[1;33m]\u001b[0m\u001b[1;33m\u001b[0m\u001b[1;33m\u001b[0m\u001b[0m\n\u001b[0;32m      4\u001b[0m     \u001b[1;32mfor\u001b[0m \u001b[0mbook_index\u001b[0m \u001b[1;32min\u001b[0m \u001b[0mbook_indices\u001b[0m\u001b[1;33m:\u001b[0m\u001b[1;33m\u001b[0m\u001b[1;33m\u001b[0m\u001b[0m\n\u001b[0;32m      5\u001b[0m         \u001b[0mprint\u001b[0m\u001b[1;33m(\u001b[0m\u001b[0mfinal_ratings\u001b[0m\u001b[1;33m.\u001b[0m\u001b[0miloc\u001b[0m\u001b[1;33m[\u001b[0m\u001b[0mbook_index\u001b[0m\u001b[1;33m[\u001b[0m\u001b[1;36m0\u001b[0m\u001b[1;33m]\u001b[0m\u001b[1;33m]\u001b[0m\u001b[1;33m.\u001b[0m\u001b[0mtitle\u001b[0m\u001b[1;33m)\u001b[0m\u001b[1;33m\u001b[0m\u001b[1;33m\u001b[0m\u001b[0m\n",
      "\u001b[1;31mIndexError\u001b[0m: index 0 is out of bounds for axis 0 with size 0"
     ]
    }
   ],
   "source": [
    "recommendation(901)"
   ]
  },
  {
   "cell_type": "code",
   "execution_count": 31,
   "id": "ba8ec964",
   "metadata": {
    "scrolled": true
   },
   "outputs": [
    {
     "name": "stdout",
     "output_type": "stream",
     "text": [
      "Merrick (Vampire/Witches Chronicles) : False\n",
      "The Magician's Tale : False\n",
      "Whirlwind (The X-Files) : False\n",
      "The Bride : False\n",
      "The Apprentice : False\n",
      "Remember Summer : False\n",
      "Couplehood : False\n",
      "A College of Magics : False\n",
      "The Taming : False\n",
      "How Stella Got Her Groove Back : False\n"
     ]
    }
   ],
   "source": [
    "abc  = ratings_merged[ratings_merged['userid']==901]\n",
    "\n",
    "for i in [\"Merrick (Vampire/Witches Chronicles)\",\"The Magician's Tale\",\"Whirlwind (The X-Files)\",\"The Bride\",\"The Apprentice\",\n",
    "          \"Remember Summer\",\"Couplehood\",\"A College of Magics\",\"The Taming\",\"How Stella Got Her Groove Back\"]:\n",
    "    print(i,':', i in list(ratings_merged[ratings_merged['userid']==901]['title'].values))\n",
    "    if (i in list(ratings_merged[ratings_merged['userid']==901]['title'].values))== True:\n",
    "        print( abc[abc['title']== i]['bookrating'].values[0])"
   ]
  },
  {
   "cell_type": "code",
   "execution_count": 32,
   "id": "d41790cd",
   "metadata": {},
   "outputs": [
    {
     "name": "stdout",
     "output_type": "stream",
     "text": [
      "Merrick (Vampire/Witches Chronicles) : False\n",
      "The Magician's Tale : False\n",
      "Whirlwind (The X-Files) : False\n",
      "The Bride : False\n",
      "The Apprentice : False\n",
      "Remember Summer : False\n",
      "Couplehood : False\n",
      "A College of Magics : False\n",
      "The Taming : False\n",
      "How Stella Got Her Groove Back : False\n"
     ]
    }
   ],
   "source": [
    "abc  = final_ratings[final_ratings['userid']==901]\n",
    "\n",
    "for i in [\"Merrick (Vampire/Witches Chronicles)\",\"The Magician's Tale\",\"Whirlwind (The X-Files)\",\"The Bride\",\"The Apprentice\",\n",
    "          \"Remember Summer\",\"Couplehood\",\"A College of Magics\",\"The Taming\",\"How Stella Got Her Groove Back\"]:\n",
    "    print(i,':', i in list(final_ratings[final_ratings['userid']==901]['title'].values))\n",
    "    if (i in list(final_ratings[final_ratings['userid']==901]['title'].values))== True:\n",
    "        print( abc[abc['title']== i]['bookrating'].values[0])"
   ]
  },
  {
   "cell_type": "code",
   "execution_count": 33,
   "id": "1d8d5c3f",
   "metadata": {},
   "outputs": [
    {
     "name": "stdout",
     "output_type": "stream",
     "text": [
      "The Nanny Diaries: A Novel\n",
      "The Waste Lands (The Dark Tower, Book 3)\n",
      "A Widow for One Year\n",
      "How Stella Got Her Groove Back\n",
      "The Client\n",
      "The Sweet Potato Queens' Book of Love\n",
      "Black Friday\n",
      "The Pilot's Wife : A Novel\n",
      "Mutation\n",
      "Into Thin Air : A Personal Account of the Mt. Everest Disaster\n"
     ]
    }
   ],
   "source": [
    "recommendation(2276)"
   ]
  },
  {
   "cell_type": "code",
   "execution_count": 34,
   "id": "70ca09b9",
   "metadata": {},
   "outputs": [
    {
     "name": "stdout",
     "output_type": "stream",
     "text": [
      "The Sands of Time : False\n",
      "Blue Shoe : False\n",
      "The Temple of My Familiar : False\n",
      "Wild Mind: Living the Writer's Life : False\n",
      "Lord Foul's Bane (The Chronicles of Thomas Covenant the Unbeliever, Book 1) : False\n",
      "one hundred years of solitude : False\n",
      "Irish Hearts : False\n",
      "The Night of Four Hundred Rabbits : False\n",
      "Riptide : False\n",
      "Death du Jour : False\n"
     ]
    }
   ],
   "source": [
    "abc  = ratings_merged[ratings_merged['userid']==2276]\n",
    "\n",
    "for i in [\"The Sands of Time\",\"Blue Shoe\",\"The Temple of My Familiar\",\n",
    "          \"Wild Mind: Living the Writer's Life\",\"Lord Foul's Bane (The Chronicles of Thomas Covenant the Unbeliever, Book 1)\",\n",
    "          \"one hundred years of solitude\",\"Irish Hearts\",\"The Night of Four Hundred Rabbits\",\"Riptide\",\"Death du Jour\"]:\n",
    "    print(i,':', i in list(ratings_merged[ratings_merged['userid']==2276]['title'].values))\n",
    "    if (i in list(ratings_merged[ratings_merged['userid']==2276]['title'].values))== True:\n",
    "        print( abc[abc['title']== i]['bookrating'].values[0])"
   ]
  },
  {
   "cell_type": "code",
   "execution_count": 35,
   "id": "9198fe2c",
   "metadata": {},
   "outputs": [
    {
     "name": "stdout",
     "output_type": "stream",
     "text": [
      "The Sands of Time : False\n",
      "Blue Shoe : False\n",
      "The Temple of My Familiar : False\n",
      "Wild Mind: Living the Writer's Life : False\n",
      "Lord Foul's Bane (The Chronicles of Thomas Covenant the Unbeliever, Book 1) : False\n",
      "one hundred years of solitude : False\n",
      "Irish Hearts : False\n",
      "The Night of Four Hundred Rabbits : False\n",
      "Riptide : False\n",
      "Death du Jour : False\n"
     ]
    }
   ],
   "source": [
    "abc  = final_ratings[final_ratings['userid']==2276]\n",
    "\n",
    "for i in [\"The Sands of Time\",\"Blue Shoe\",\"The Temple of My Familiar\",\n",
    "          \"Wild Mind: Living the Writer's Life\",\"Lord Foul's Bane (The Chronicles of Thomas Covenant the Unbeliever, Book 1)\",\n",
    "          \"one hundred years of solitude\",\"Irish Hearts\",\"The Night of Four Hundred Rabbits\",\"Riptide\",\"Death du Jour\"]:\n",
    "    print(i,':', i in list(final_ratings[final_ratings['userid']==2276]['title'].values))\n",
    "    if (i in list(final_ratings[final_ratings['userid']==2276]['title'].values))== True:\n",
    "        print( abc[abc['title']== i]['bookrating'].values[0])"
   ]
  },
  {
   "cell_type": "code",
   "execution_count": 36,
   "id": "0ee61fab",
   "metadata": {
    "scrolled": true
   },
   "outputs": [
    {
     "ename": "IndexError",
     "evalue": "index 0 is out of bounds for axis 0 with size 0",
     "output_type": "error",
     "traceback": [
      "\u001b[1;31m---------------------------------------------------------------------------\u001b[0m",
      "\u001b[1;31mIndexError\u001b[0m                                Traceback (most recent call last)",
      "\u001b[1;32m~\\AppData\\Local\\Temp/ipykernel_1572/4195110324.py\u001b[0m in \u001b[0;36m<module>\u001b[1;34m\u001b[0m\n\u001b[1;32m----> 1\u001b[1;33m \u001b[0mrecommendation\u001b[0m\u001b[1;33m(\u001b[0m\u001b[1;36m1011\u001b[0m\u001b[1;33m)\u001b[0m\u001b[1;33m\u001b[0m\u001b[1;33m\u001b[0m\u001b[0m\n\u001b[0m",
      "\u001b[1;32m~\\AppData\\Local\\Temp/ipykernel_1572/1932542149.py\u001b[0m in \u001b[0;36mrecommendation\u001b[1;34m(userid)\u001b[0m\n\u001b[0;32m      1\u001b[0m \u001b[1;32mdef\u001b[0m \u001b[0mrecommendation\u001b[0m\u001b[1;33m(\u001b[0m\u001b[0muserid\u001b[0m\u001b[1;33m)\u001b[0m\u001b[1;33m:\u001b[0m\u001b[1;33m\u001b[0m\u001b[1;33m\u001b[0m\u001b[0m\n\u001b[1;32m----> 2\u001b[1;33m     \u001b[0mindex\u001b[0m\u001b[1;33m=\u001b[0m\u001b[0mnp\u001b[0m\u001b[1;33m.\u001b[0m\u001b[0mwhere\u001b[0m\u001b[1;33m(\u001b[0m\u001b[0mbooks_table\u001b[0m\u001b[1;33m.\u001b[0m\u001b[0mcolumns\u001b[0m\u001b[1;33m==\u001b[0m\u001b[0muserid\u001b[0m\u001b[1;33m)\u001b[0m\u001b[1;33m[\u001b[0m\u001b[1;36m0\u001b[0m\u001b[1;33m]\u001b[0m\u001b[1;33m[\u001b[0m\u001b[1;36m0\u001b[0m\u001b[1;33m]\u001b[0m       \u001b[1;31m#title\u001b[0m\u001b[1;33m\u001b[0m\u001b[1;33m\u001b[0m\u001b[0m\n\u001b[0m\u001b[0;32m      3\u001b[0m     \u001b[0mbook_indices\u001b[0m\u001b[1;33m=\u001b[0m\u001b[0msorted\u001b[0m\u001b[1;33m(\u001b[0m\u001b[0mlist\u001b[0m\u001b[1;33m(\u001b[0m\u001b[0menumerate\u001b[0m\u001b[1;33m(\u001b[0m\u001b[0msimilarities\u001b[0m\u001b[1;33m[\u001b[0m\u001b[0mindex\u001b[0m\u001b[1;33m]\u001b[0m\u001b[1;33m)\u001b[0m\u001b[1;33m)\u001b[0m\u001b[1;33m,\u001b[0m\u001b[0mkey\u001b[0m\u001b[1;33m=\u001b[0m\u001b[1;32mlambda\u001b[0m \u001b[0mx\u001b[0m\u001b[1;33m:\u001b[0m\u001b[0mx\u001b[0m\u001b[1;33m[\u001b[0m\u001b[1;36m1\u001b[0m\u001b[1;33m]\u001b[0m\u001b[1;33m,\u001b[0m\u001b[0mreverse\u001b[0m\u001b[1;33m=\u001b[0m\u001b[1;32mTrue\u001b[0m\u001b[1;33m)\u001b[0m\u001b[1;33m[\u001b[0m\u001b[1;36m1\u001b[0m\u001b[1;33m:\u001b[0m\u001b[1;36m11\u001b[0m\u001b[1;33m]\u001b[0m\u001b[1;33m\u001b[0m\u001b[1;33m\u001b[0m\u001b[0m\n\u001b[0;32m      4\u001b[0m     \u001b[1;32mfor\u001b[0m \u001b[0mbook_index\u001b[0m \u001b[1;32min\u001b[0m \u001b[0mbook_indices\u001b[0m\u001b[1;33m:\u001b[0m\u001b[1;33m\u001b[0m\u001b[1;33m\u001b[0m\u001b[0m\n\u001b[0;32m      5\u001b[0m         \u001b[0mprint\u001b[0m\u001b[1;33m(\u001b[0m\u001b[0mfinal_ratings\u001b[0m\u001b[1;33m.\u001b[0m\u001b[0miloc\u001b[0m\u001b[1;33m[\u001b[0m\u001b[0mbook_index\u001b[0m\u001b[1;33m[\u001b[0m\u001b[1;36m0\u001b[0m\u001b[1;33m]\u001b[0m\u001b[1;33m]\u001b[0m\u001b[1;33m.\u001b[0m\u001b[0mtitle\u001b[0m\u001b[1;33m)\u001b[0m\u001b[1;33m\u001b[0m\u001b[1;33m\u001b[0m\u001b[0m\n",
      "\u001b[1;31mIndexError\u001b[0m: index 0 is out of bounds for axis 0 with size 0"
     ]
    }
   ],
   "source": [
    "recommendation(1011)"
   ]
  },
  {
   "cell_type": "code",
   "execution_count": 37,
   "id": "a5d6132b",
   "metadata": {},
   "outputs": [
    {
     "name": "stdout",
     "output_type": "stream",
     "text": [
      "Smilla's Sense of Snow : False\n",
      "Shadows : False\n",
      "Jade Island (Donovan) : False\n",
      "STONES FROM THE RIVER : False\n",
      "Inappropriate Men (Red Dress Ink) : False\n",
      "What You Wish for : False\n",
      "Executive Orders (Jack Ryan Novels) : False\n",
      "A Is for Alibi (Kinsey Millhone Mysteries (Paperback)) : False\n",
      "Round Ireland With a Fridge : False\n",
      "Mystique : False\n"
     ]
    }
   ],
   "source": [
    "abc  = ratings_merged[ratings_merged['userid']==1011]\n",
    "\n",
    "for i in [\"Smilla's Sense of Snow\",\"Shadows\",\"Jade Island (Donovan)\",\"STONES FROM THE RIVER\",\n",
    "          \"Inappropriate Men (Red Dress Ink)\",\"What You Wish for\",\"Executive Orders (Jack Ryan Novels)\",\n",
    "          \"A Is for Alibi (Kinsey Millhone Mysteries (Paperback))\",\"Round Ireland With a Fridge\",\"Mystique\"]:\n",
    "    print(i,':', i in list(ratings_merged[ratings_merged['userid']==1011]['title'].values))\n",
    "    if (i in list(ratings_merged[ratings_merged['userid']==1011]['title'].values))== True:\n",
    "        print( abc[abc['title']== i]['bookrating'].values[0])"
   ]
  },
  {
   "cell_type": "code",
   "execution_count": 38,
   "id": "1b2b5412",
   "metadata": {},
   "outputs": [
    {
     "name": "stdout",
     "output_type": "stream",
     "text": [
      "Smilla's Sense of Snow : False\n",
      "Shadows : False\n",
      "Jade Island (Donovan) : False\n",
      "STONES FROM THE RIVER : False\n",
      "Inappropriate Men (Red Dress Ink) : False\n",
      "What You Wish for : False\n",
      "Executive Orders (Jack Ryan Novels) : False\n",
      "A Is for Alibi (Kinsey Millhone Mysteries (Paperback)) : False\n",
      "Round Ireland With a Fridge : False\n",
      "Mystique : False\n"
     ]
    }
   ],
   "source": [
    "abc  = final_ratings[final_ratings['userid']==1011]\n",
    "\n",
    "for i in [\"Smilla's Sense of Snow\",\"Shadows\",\"Jade Island (Donovan)\",\"STONES FROM THE RIVER\",\n",
    "          \"Inappropriate Men (Red Dress Ink)\",\"What You Wish for\",\"Executive Orders (Jack Ryan Novels)\",\n",
    "          \"A Is for Alibi (Kinsey Millhone Mysteries (Paperback))\",\"Round Ireland With a Fridge\",\"Mystique\"]:\n",
    "    print(i,':', i in list(ratings_merged[ratings_merged['userid']==1011]['title'].values))\n",
    "    if (i in list(ratings_merged[ratings_merged['userid']==1011]['title'].values))== True:\n",
    "        print( abc[abc['title']== i]['bookrating'].values[0])"
   ]
  },
  {
   "cell_type": "code",
   "execution_count": 39,
   "id": "5497f46f",
   "metadata": {
    "scrolled": true
   },
   "outputs": [
    {
     "name": "stdout",
     "output_type": "stream",
     "text": [
      "The Fourth Hand\n",
      "Anne of Green Gables (Anne of Green Gables Novels (Paperback))\n",
      "Over the Edge\n",
      "The Murder Book\n",
      "Congo\n",
      "Seven Up (A Stephanie Plum Novel)\n",
      "P Is for Peril (Kinsey Millhone Mysteries (Hardcover))\n",
      "The Cradle Will Fall\n",
      "Neuromancer (Remembering Tomorrow)\n",
      "The Thief Lord\n"
     ]
    }
   ],
   "source": [
    "recommendation(35859)"
   ]
  },
  {
   "attachments": {
    "image.png": {
     "image/png": "[encoded data removed]"
    }
   },
   "cell_type": "markdown",
   "id": "92577a95",
   "metadata": {},
   "source": [
    "### Evaluation\n",
    "\n",
    "* Get the 10 recommended books for users\n",
    "* find how many books out of recommended books are read by corresponding user.\n",
    "* Fill the below table\n",
    "* The model is good if the sum or percnetage of column, rating >5 is more\n",
    "* This means that the model we have built is recommending the the correct books to users.\n",
    "\n",
    "Evaluation table for above model\n",
    "![image.png](attachment:image.png)\n",
    "\n",
    "This is not a good model\n",
    "\n",
    "Reason :\n",
    "1. The pivot table, books_table is not sorted as per user.<br>\n",
    "SO it is taking the random books and suggesting books similar to that random book."
   ]
  },
  {
   "cell_type": "markdown",
   "id": "478277b0",
   "metadata": {},
   "source": [
    "### Solution to above model 5 dec"
   ]
  },
  {
   "cell_type": "code",
   "execution_count": 40,
   "id": "47f48b30",
   "metadata": {},
   "outputs": [],
   "source": [
    "from sklearn.neighbors import NearestNeighbors\n",
    "     \n",
    "\n",
    "knn = NearestNeighbors(metric='cosine', algorithm='brute')\n",
    "knn.fit(books_table.values)\n",
    "distances, indices = knn.kneighbors(books_table.values, n_neighbors=11, return_distance=True)\n",
    "\n",
    "\n",
    "# Returns\n",
    "# -------\n",
    "# neigh_dist : ndarray of shape (n_queries, n_neighbors)\n",
    "#     Array representing the lengths to points, only present if\n",
    "#     return_distance=True.\n",
    "\n",
    "# neigh_ind : ndarray of shape (n_queries, n_neighbors)\n",
    "#     Indices of the nearest points in the population matrix."
   ]
  },
  {
   "cell_type": "markdown",
   "id": "fefb8e8a",
   "metadata": {},
   "source": [
    "#### description"
   ]
  },
  {
   "cell_type": "code",
   "execution_count": 41,
   "id": "9ac126d2",
   "metadata": {},
   "outputs": [],
   "source": [
    "def recommendation(userid):\n",
    "    sorted_df = books_table.sort_values(by=userid,ascending=False)   # sort the pivot table as per user id\n",
    "    book_name = sorted_df[userid].index[0]                           # get the book name for which user has given highest raitng\n",
    "\n",
    "    index_user_likes = books_table.index.tolist().index(book_name)   # get an index for a book_name in original pivot table books_table\n",
    "    sim_books = indices[index_user_likes].tolist()                   # list of indices of similar books -- used KNN\n",
    "    book_distances = distances[index_user_likes].tolist()            # the list for distances of similar books from book_name\n",
    "    print('Similar Books to '+str(books_table.index[index_user_likes])+': \\n')    \n",
    "    \n",
    "    for i in sim_books:\n",
    "        print(str(books_table.index[i]))"
   ]
  },
  {
   "cell_type": "code",
   "execution_count": 42,
   "id": "1a724520",
   "metadata": {},
   "outputs": [
    {
     "name": "stdout",
     "output_type": "stream",
     "text": [
      "Similar Books to American Gods: \n",
      "\n",
      "American Gods\n",
      "Coraline\n",
      "Slaughterhouse Five or the Children's Crusade: A Duty Dance With Death\n",
      "The Amber Spyglass (His Dark Materials, Book 3)\n",
      "Artemis Fowl (Artemis Fowl, Book 1)\n",
      "Sword of Shannara\n",
      "The Golden Compass (His Dark Materials, Book 1)\n",
      "Neverwhere\n",
      "The Bonesetter's Daughter\n",
      "The Fourth Hand\n",
      "Animal Farm\n"
     ]
    }
   ],
   "source": [
    "recommendation(254)"
   ]
  },
  {
   "cell_type": "code",
   "execution_count": 127,
   "id": "6653d146",
   "metadata": {
    "scrolled": true
   },
   "outputs": [
    {
     "name": "stdout",
     "output_type": "stream",
     "text": [
      "American Gods : True\n",
      "10\n",
      "Coraline : True\n",
      "0\n",
      "Slaughterhouse Five or the Children's Crusade: A Duty Dance With Death : False\n",
      "The Amber Spyglass (His Dark Materials, Book 3) : True\n",
      "0\n",
      "Artemis Fowl (Artemis Fowl, Book 1) : False\n",
      "Sword of Shannara : False\n",
      "The Golden Compass (His Dark Materials, Book 1) : True\n",
      "9\n",
      "Neverwhere : True\n",
      "0\n",
      "The Bonesetter's Daughter : True\n",
      "9\n",
      "The Fourth Hand : False\n",
      "Animal Farm : True\n",
      "8\n"
     ]
    }
   ],
   "source": [
    "ls = [\"American Gods\",\"Coraline\",\"Slaughterhouse Five or the Children's Crusade: A Duty Dance With Death\",\"The Amber Spyglass (His Dark Materials, Book 3)\",\"Artemis Fowl (Artemis Fowl, Book 1)\",\"Sword of Shannara\",\"The Golden Compass (His Dark Materials, Book 1)\",\"Neverwhere\",\"The Bonesetter's Daughter\",\"The Fourth Hand\",\"Animal Farm\"]\n",
    "\n",
    "abc  = final_ratings[final_ratings['userid']==254]\n",
    "for i in ls:\n",
    "    print(i,':', i in list(ratings_merged[ratings_merged['userid']==254]['title'].values))\n",
    "    if (i in list(ratings_merged[ratings_merged['userid']==254]['title'].values))== True:\n",
    "        print( abc[abc['title']== i]['bookrating'].values[0])"
   ]
  },
  {
   "cell_type": "code",
   "execution_count": 66,
   "id": "0d800f99",
   "metadata": {},
   "outputs": [
    {
     "name": "stdout",
     "output_type": "stream",
     "text": [
      "Similar Movies to The Secret Life of Bees: \n",
      "\n",
      "The Secret Life of Bees\n",
      "The No. 1 Ladies' Detective Agency\n",
      "Good in Bed\n",
      "Wicked: The Life and Times of the Wicked Witch of the West\n",
      "Girl in Hyacinth Blue\n",
      "Snow Falling on Cedars\n",
      "The Lovely Bones: A Novel\n",
      "Good Harbor: A Novel\n",
      "House of Sand and Fog\n",
      "The Five People You Meet in Heaven\n",
      "How to Be Good\n"
     ]
    }
   ],
   "source": [
    "recommendation(507)"
   ]
  },
  {
   "cell_type": "code",
   "execution_count": 67,
   "id": "c8732ce8",
   "metadata": {},
   "outputs": [
    {
     "name": "stdout",
     "output_type": "stream",
     "text": [
      "The Secret Life of Bees : True\n",
      "10\n",
      "The No. 1 Ladies' Detective Agency : False\n",
      "Good in Bed : False\n",
      "Wicked: The Life and Times of the Wicked Witch of the West : False\n",
      "Girl in Hyacinth Blue : True\n",
      "0\n",
      "Snow Falling on Cedars : False\n",
      "The Lovely Bones: A Novel : False\n",
      "Good Harbor: A Novel : False\n",
      "House of Sand and Fog : False\n",
      "The Five People You Meet in Heaven : False\n",
      "How to Be Good : False\n"
     ]
    }
   ],
   "source": [
    "ls = [\"The Secret Life of Bees\",\"The No. 1 Ladies' Detective Agency\",\"Good in Bed\",\"Wicked: The Life and Times of the Wicked Witch of the West\",\"Girl in Hyacinth Blue\",\"Snow Falling on Cedars\",\"The Lovely Bones: A Novel\",\"Good Harbor: A Novel\",\"House of Sand and Fog\",\"The Five People You Meet in Heaven\",\"How to Be Good\"]\n",
    "\n",
    "abc  = final_ratings[final_ratings['userid']==507]\n",
    "for i in ls:\n",
    "    print(i,':', i in list(ratings_merged[ratings_merged['userid']==507]['title'].values))\n",
    "    if (i in list(ratings_merged[ratings_merged['userid']==507]['title'].values))== True:\n",
    "        print( abc[abc['title']== i]['bookrating'].values[0])"
   ]
  },
  {
   "cell_type": "code",
   "execution_count": 63,
   "id": "cedcd04a",
   "metadata": {
    "scrolled": true
   },
   "outputs": [
    {
     "name": "stdout",
     "output_type": "stream",
     "text": [
      "Similar Movies to The Secret Life of Bees: \n",
      "\n",
      "The No. 1 Ladies' Detective Agency\n",
      "Good in Bed\n",
      "Wicked: The Life and Times of the Wicked Witch of the West\n",
      "Girl in Hyacinth Blue\n",
      "Snow Falling on Cedars\n",
      "The Lovely Bones: A Novel\n",
      "Good Harbor: A Novel\n",
      "House of Sand and Fog\n",
      "The Five People You Meet in Heaven\n",
      "How to Be Good\n"
     ]
    }
   ],
   "source": [
    "recommendation(507)"
   ]
  },
  {
   "cell_type": "code",
   "execution_count": 64,
   "id": "7a39b120",
   "metadata": {},
   "outputs": [
    {
     "name": "stdout",
     "output_type": "stream",
     "text": [
      "The No. 1 Ladies' Detective Agency : False\n",
      "Good in Bed : False\n",
      "Wicked: The Life and Times of the Wicked Witch of the West : False\n",
      "Girl in Hyacinth Blue : True\n",
      "0\n",
      "Snow Falling on Cedars : False\n",
      "The Lovely Bones: A Novel : False\n",
      "Good Harbor: A Novel : False\n",
      "House of Sand and Fog : False\n",
      "The Five People You Meet in Heaven : False\n",
      "How to Be Good : False\n"
     ]
    }
   ],
   "source": [
    "ls = [\"The No. 1 Ladies' Detective Agency\",\"Good in Bed\",\"Wicked: The Life and Times of the Wicked Witch of the West\",\"Girl in Hyacinth Blue\",\"Snow Falling on Cedars\",\"The Lovely Bones: A Novel\",\"Good Harbor: A Novel\",\"House of Sand and Fog\",\"The Five People You Meet in Heaven\",\"How to Be Good\"]\n",
    "      \n",
    "abc  = final_ratings[final_ratings['userid']==507]\n",
    "for i in ls:\n",
    "    print(i,':', i in list(ratings_merged[ratings_merged['userid']==507]['title'].values))\n",
    "    if (i in list(ratings_merged[ratings_merged['userid']==507]['title'].values))== True:\n",
    "        print( abc[abc['title']== i]['bookrating'].values[0])"
   ]
  },
  {
   "cell_type": "code",
   "execution_count": 71,
   "id": "54b246a9",
   "metadata": {
    "scrolled": true
   },
   "outputs": [
    {
     "name": "stdout",
     "output_type": "stream",
     "text": [
      "Similar Movies to To Kill a Mockingbird: \n",
      "\n",
      "To Kill a Mockingbird\n",
      "Snow Falling on Cedars\n",
      "The Catcher in the Rye\n",
      "Five Quarters of the Orange\n",
      "The Bean Trees\n",
      "The Color of Water: A Black Man's Tribute to His White Mother\n",
      "STONES FROM THE RIVER\n",
      "The Corrections\n",
      "The World According to Garp\n",
      "Of Mice and Men (Penguin Great Books of the 20th Century)\n",
      "Like Water for Chocolate : A Novel in Monthly Installments with Recipes, Romances, and Home Remedies\n"
     ]
    }
   ],
   "source": [
    "recommendation(2766)"
   ]
  },
  {
   "cell_type": "code",
   "execution_count": 92,
   "id": "cd0e7726",
   "metadata": {},
   "outputs": [
    {
     "name": "stdout",
     "output_type": "stream",
     "text": [
      "To Kill a Mockingbird : True\n",
      "10\n",
      "Snow Falling on Cedars : True\n",
      "0\n",
      "The Catcher in the Rye : False\n",
      "Five Quarters of the Orange : True\n",
      "8\n",
      "The Bean Trees : False\n",
      "The Color of Water: A Black Man's Tribute to His White Mother : True\n",
      "0\n",
      "STONES FROM THE RIVER : False\n",
      "The Corrections : False\n",
      "The World According to Garp : False\n",
      "Of Mice and Men (Penguin Great Books of the 20th Century) : False\n",
      "Like Water for Chocolate : A Novel in Monthly Installments with Recipes, Romances, and Home Remedies : False\n"
     ]
    }
   ],
   "source": [
    "abc  = ratings_merged[ratings_merged['userid']==2766]\n",
    "\n",
    "for i in [\"To Kill a Mockingbird\",\"Snow Falling on Cedars\",\"The Catcher in the Rye\",\"Five Quarters of the Orange\",\"The Bean Trees\",\"The Color of Water: A Black Man's Tribute to His White Mother\",\"STONES FROM THE RIVER\",\"The Corrections\",\"The World According to Garp\",\"Of Mice and Men (Penguin Great Books of the 20th Century)\",\"Like Water for Chocolate : A Novel in Monthly Installments with Recipes, Romances, and Home Remedies\"]:\n",
    "    print(i,':', i in list(ratings_merged[ratings_merged['userid']==2766]['title'].values))\n",
    "    if (i in list(ratings_merged[ratings_merged['userid']==2766]['title'].values))== True:\n",
    "        print( abc[abc['title']== i]['bookrating'].values[0])"
   ]
  },
  {
   "cell_type": "code",
   "execution_count": 76,
   "id": "5c14227c",
   "metadata": {
    "scrolled": true
   },
   "outputs": [
    {
     "name": "stdout",
     "output_type": "stream",
     "text": [
      "Similar Movies to The Smoke Jumper: \n",
      "\n",
      "The Smoke Jumper\n",
      "The Loop\n",
      "Forever... : A Novel of Good and Evil, Love and Hope\n",
      "The Summerhouse\n",
      "Shogun\n",
      "The Last Time They Met : A Novel\n",
      "Drums of Autumn\n",
      "Wish You Well\n",
      "Stanislaski Brothers (Silhouette Promo)\n",
      "The Jury\n",
      "Left Behind: A Novel of the Earth's Last Days (Left Behind #1)\n"
     ]
    }
   ],
   "source": [
    "recommendation(882)"
   ]
  },
  {
   "cell_type": "code",
   "execution_count": 77,
   "id": "45984d80",
   "metadata": {},
   "outputs": [
    {
     "name": "stdout",
     "output_type": "stream",
     "text": [
      "The Smoke Jumper : True\n",
      "10\n",
      "The Loop : False\n",
      "Forever... : A Novel of Good and Evil, Love and Hope : True\n",
      "4\n",
      "The Summerhouse : False\n",
      "Shogun : False\n",
      "The Last Time They Met : A Novel : False\n",
      "Drums of Autumn : True\n",
      "0\n",
      "Wish You Well : False\n",
      "Stanislaski Brothers (Silhouette Promo) : True\n",
      "7\n",
      "The Jury : False\n",
      "Left Behind: A Novel of the Earth's Last Days (Left Behind #1) : False\n"
     ]
    }
   ],
   "source": [
    "abc  = ratings_merged[ratings_merged['userid']==882]\n",
    "ls = [\"The Smoke Jumper\",\"The Loop\",\n",
    "      \"Forever... : A Novel of Good and Evil, Love and Hope\",\n",
    "      \"The Summerhouse\",\"Shogun\",\"The Last Time They Met : A Novel\",\"Drums of Autumn\",\"Wish You Well\",\n",
    "      \"Stanislaski Brothers (Silhouette Promo)\",\"The Jury\",\"Left Behind: A Novel of the Earth's Last Days (Left Behind #1)\"]\n",
    "      \n",
    "for i in ls:\n",
    "    print(i,':', i in list(ratings_merged[ratings_merged['userid']==882]['title'].values))\n",
    "    if (i in list(ratings_merged[ratings_merged['userid']==882]['title'].values))== True:\n",
    "        print( abc[abc['title']== i]['bookrating'].values[0])"
   ]
  },
  {
   "cell_type": "code",
   "execution_count": 78,
   "id": "21921a22",
   "metadata": {
    "scrolled": false
   },
   "outputs": [
    {
     "name": "stdout",
     "output_type": "stream",
     "text": [
      "Similar Movies to A Walk in the Woods: Rediscovering America on the Appalachian Trail (Official Guides to the Appalachian Trail): \n",
      "\n",
      "A Walk in the Woods: Rediscovering America on the Appalachian Trail (Official Guides to the Appalachian Trail)\n",
      "Notes from a Small Island\n",
      "Quentins\n",
      "Seabiscuit: An American Legend\n",
      "Digital Fortress : A Thriller\n",
      "Stupid White Men ...and Other Sorry Excuses for the State of the Nation!\n",
      "A Year in Provence\n",
      "Mama Makes Up Her Mind: And Other Dangers of Southern Living\n",
      "The Little Friend\n",
      "Round Ireland With a Fridge\n",
      "The Poisonwood Bible\n"
     ]
    }
   ],
   "source": [
    "recommendation(1424)"
   ]
  },
  {
   "cell_type": "code",
   "execution_count": 94,
   "id": "95b62eb1",
   "metadata": {
    "scrolled": true
   },
   "outputs": [
    {
     "name": "stdout",
     "output_type": "stream",
     "text": [
      "A Walk in the Woods: Rediscovering America on the Appalachian Trail (Official Guides to the Appalachian Trail) : True\n",
      "8\n",
      "Notes from a Small Island : False\n",
      "Quentins : False\n",
      "Seabiscuit: An American Legend : False\n",
      "Digital Fortress : A Thriller : False\n",
      "Stupid White Men ...and Other Sorry Excuses for the State of the Nation! : False\n",
      "A Year in Provence : False\n",
      "Mama Makes Up Her Mind: And Other Dangers of Southern Living : False\n",
      "The Little Friend : False\n",
      "Round Ireland With a Fridge : False\n",
      "The Poisonwood Bible : True\n",
      "7\n"
     ]
    }
   ],
   "source": [
    "abc  = ratings_merged[ratings_merged['userid']==1424]\n",
    "ls = [\"A Walk in the Woods: Rediscovering America on the Appalachian Trail (Official Guides to the Appalachian Trail)\",\"Notes from a Small Island\",\"Quentins\",\"Seabiscuit: An American Legend\",\"Digital Fortress : A Thriller\",\"Stupid White Men ...and Other Sorry Excuses for the State of the Nation!\",\"A Year in Provence\",\"Mama Makes Up Her Mind: And Other Dangers of Southern Living\",\"The Little Friend\",\"Round Ireland With a Fridge\",\"The Poisonwood Bible\"]\n",
    "      \n",
    "for i in ls:\n",
    "    print(i,':', i in list(ratings_merged[ratings_merged['userid']==1424]['title'].values))\n",
    "    if (i in list(ratings_merged[ratings_merged['userid']==1424]['title'].values))== True:\n",
    "        print( abc[abc['title']== i]['bookrating'].values[0])"
   ]
  },
  {
   "cell_type": "code",
   "execution_count": 95,
   "id": "9a4e151a",
   "metadata": {
    "scrolled": true
   },
   "outputs": [
    {
     "name": "stdout",
     "output_type": "stream",
     "text": [
      "Similar Movies to The Surgeon: \n",
      "\n",
      "The Surgeon\n",
      "The Mulberry Tree\n",
      "Faking It\n",
      "Hard Eight : A Stephanie Plum Novel (A Stephanie Plum Novel)\n",
      "Forever... : A Novel of Good and Evil, Love and Hope\n",
      "Mercy\n",
      "Seven Up (A Stephanie Plum Novel)\n",
      "Touching Evil\n",
      "The Apprentice\n",
      "Midnight Bayou\n",
      "Mortal Prey\n"
     ]
    }
   ],
   "source": [
    "recommendation(1733)"
   ]
  },
  {
   "cell_type": "code",
   "execution_count": 96,
   "id": "54511c77",
   "metadata": {},
   "outputs": [
    {
     "name": "stdout",
     "output_type": "stream",
     "text": [
      "The Surgeon : True\n",
      "10\n",
      "The Mulberry Tree : False\n",
      "Faking It : True\n",
      "5\n",
      "Hard Eight : A Stephanie Plum Novel (A Stephanie Plum Novel) : False\n",
      "Forever... : A Novel of Good and Evil, Love and Hope : False\n",
      "Mercy : False\n",
      "Seven Up (A Stephanie Plum Novel) : False\n",
      "Touching Evil : False\n",
      "The Apprentice : True\n",
      "0\n",
      "Midnight Bayou : False\n",
      "Mortal Prey : False\n"
     ]
    }
   ],
   "source": [
    "abc  = ratings_merged[ratings_merged['userid']==1733]\n",
    "ls = [\"The Surgeon\",\"The Mulberry Tree\",\"Faking It\",\"Hard Eight : A Stephanie Plum Novel (A Stephanie Plum Novel)\",\"Forever... : A Novel of Good and Evil, Love and Hope\",\"Mercy\",\"Seven Up (A Stephanie Plum Novel)\",\"Touching Evil\",\"The Apprentice\",\"Midnight Bayou\",\"Mortal Prey\"]\n",
    "      \n",
    "for i in ls:\n",
    "    print(i,':', i in list(ratings_merged[ratings_merged['userid']==1733]['title'].values))\n",
    "    if (i in list(ratings_merged[ratings_merged['userid']==1733]['title'].values))== True:\n",
    "        print( abc[abc['title']== i]['bookrating'].values[0])"
   ]
  },
  {
   "cell_type": "code",
   "execution_count": 110,
   "id": "e5abef3f",
   "metadata": {
    "scrolled": true
   },
   "outputs": [
    {
     "name": "stdout",
     "output_type": "stream",
     "text": [
      "Similar Movies to Charlie and the Chocolate Factory: \n",
      "\n",
      "Charlie and the Chocolate Factory\n",
      "Harry Potter and the Prisoner of Azkaban (Book 3)\n",
      "Matilda\n",
      "Harry Potter and the Chamber of Secrets (Book 2)\n",
      "Charlotte's Web (Trophy Newbery)\n",
      "The Indian in the Cupboard\n",
      "Harry Potter and the Sorcerer's Stone (Book 1)\n",
      "Plainsong (Vintage Contemporaries)\n",
      "Tom Clancy's Op-Center (Tom Clancy's Op Center (Paperback))\n",
      "A Year in Provence\n",
      "Under the Tuscan Sun\n"
     ]
    }
   ],
   "source": [
    "recommendation(2033)"
   ]
  },
  {
   "cell_type": "code",
   "execution_count": 111,
   "id": "245fb22a",
   "metadata": {},
   "outputs": [
    {
     "name": "stdout",
     "output_type": "stream",
     "text": [
      "Charlie and the Chocolate Factory : True\n",
      "10\n",
      "Harry Potter and the Prisoner of Azkaban (Book 3) : True\n",
      "9\n",
      "Matilda : False\n",
      "Harry Potter and the Chamber of Secrets (Book 2) : True\n",
      "9\n",
      "Charlotte's Web (Trophy Newbery) : False\n",
      "The Indian in the Cupboard : False\n",
      "Harry Potter and the Sorcerer's Stone (Book 1) : True\n",
      "9\n",
      "Plainsong (Vintage Contemporaries) : False\n",
      "Tom Clancy's Op-Center (Tom Clancy's Op Center (Paperback)) : False\n",
      "A Year in Provence : False\n",
      "Under the Tuscan Sun : False\n"
     ]
    }
   ],
   "source": [
    "abc  = ratings_merged[ratings_merged['userid']==2033]\n",
    "ls = [\"Charlie and the Chocolate Factory\",\"Harry Potter and the Prisoner of Azkaban (Book 3)\",\"Matilda\",\"Harry Potter and the Chamber of Secrets (Book 2)\",\"Charlotte's Web (Trophy Newbery)\",\"The Indian in the Cupboard\",\"Harry Potter and the Sorcerer's Stone (Book 1)\",\"Plainsong (Vintage Contemporaries)\",\"Tom Clancy's Op-Center (Tom Clancy's Op Center (Paperback))\",\"A Year in Provence\",\"Under the Tuscan Sun\"]\n",
    "      \n",
    "for i in ls:\n",
    "    print(i,':', i in list(ratings_merged[ratings_merged['userid']==2033]['title'].values))\n",
    "    if (i in list(ratings_merged[ratings_merged['userid']==2033]['title'].values))== True:\n",
    "        print( abc[abc['title']== i]['bookrating'].values[0])"
   ]
  },
  {
   "cell_type": "code",
   "execution_count": 109,
   "id": "c10b1417",
   "metadata": {
    "scrolled": true
   },
   "outputs": [
    {
     "name": "stdout",
     "output_type": "stream",
     "text": [
      "Similar Movies to The Two Towers (The Lord of the Rings, Part 2): \n",
      "\n",
      "The Two Towers (The Lord of the Rings, Part 2)\n",
      "The Fellowship of the Ring (The Lord of the Rings, Part 1)\n",
      "The Return of the King (The Lord of the Rings, Part 3)\n",
      "The Hobbit : The Enchanting Prelude to The Lord of the Rings\n",
      "Stranger in a Strange Land (Remembering Tomorrow)\n",
      "Charlotte's Web (Trophy Newbery)\n",
      "Harry Potter and the Prisoner of Azkaban (Book 3)\n",
      "Harry Potter and the Goblet of Fire (Book 4)\n",
      "Harry Potter and the Sorcerer's Stone (Book 1)\n",
      "The Clan of the Cave Bear (Earth's Children (Paperback))\n",
      "Needful Things\n"
     ]
    }
   ],
   "source": [
    "recommendation(276463)"
   ]
  },
  {
   "cell_type": "code",
   "execution_count": 112,
   "id": "dba14f22",
   "metadata": {
    "scrolled": true
   },
   "outputs": [
    {
     "name": "stdout",
     "output_type": "stream",
     "text": [
      "The Two Towers (The Lord of the Rings, Part 2) : True\n",
      "10\n",
      "The Fellowship of the Ring (The Lord of the Rings, Part 1) : True\n",
      "0\n",
      "The Return of the King (The Lord of the Rings, Part 3) : True\n",
      "0\n",
      "The Hobbit : The Enchanting Prelude to The Lord of the Rings : False\n",
      "Stranger in a Strange Land (Remembering Tomorrow) : False\n",
      "Charlotte's Web (Trophy Newbery) : False\n",
      "Harry Potter and the Prisoner of Azkaban (Book 3) : False\n",
      "Harry Potter and the Goblet of Fire (Book 4) : True\n",
      "0\n",
      "Harry Potter and the Sorcerer's Stone (Book 1) : False\n",
      "The Clan of the Cave Bear (Earth's Children (Paperback)) : False\n",
      "Needful Things : False\n"
     ]
    }
   ],
   "source": [
    "abc  = ratings_merged[ratings_merged['userid']==276463]\n",
    "ls = [\"The Two Towers (The Lord of the Rings, Part 2)\",\"The Fellowship of the Ring (The Lord of the Rings, Part 1)\",\n",
    "      \"The Return of the King (The Lord of the Rings, Part 3)\",\"The Hobbit : The Enchanting Prelude to The Lord of the Rings\",\n",
    "      \"Stranger in a Strange Land (Remembering Tomorrow)\",\"Charlotte's Web (Trophy Newbery)\",\n",
    "      \"Harry Potter and the Prisoner of Azkaban (Book 3)\",\"Harry Potter and the Goblet of Fire (Book 4)\",\n",
    "      \"Harry Potter and the Sorcerer's Stone (Book 1)\",\"The Clan of the Cave Bear (Earth's Children (Paperback))\",\n",
    "      \"Needful Things\"]\n",
    "for i in ls:\n",
    "    print(i,':', i in list(ratings_merged[ratings_merged['userid']==276463]['title'].values))\n",
    "    if (i in list(ratings_merged[ratings_merged['userid']==276463]['title'].values))== True:\n",
    "        print( abc[abc['title']== i]['bookrating'].values[0])"
   ]
  },
  {
   "cell_type": "code",
   "execution_count": 113,
   "id": "6489292b",
   "metadata": {
    "scrolled": true
   },
   "outputs": [
    {
     "name": "stdout",
     "output_type": "stream",
     "text": [
      "Similar Movies to Sword of Shannara: \n",
      "\n",
      "Sword of Shannara\n",
      "Fatal Cure\n",
      "American Gods\n",
      "Darkfall\n",
      "Harry Potter and the Sorcerer's Stone (Harry Potter (Paperback))\n",
      "Dune Messiah (Dune Chronicles, Book 2)\n",
      "Reflections And Dreams\n",
      "Table For Two\n",
      "Pet Sematary\n",
      "The Eye of the World (The Wheel of Time, Book 1)\n",
      "The Plains of Passage (Earth's Children (Paperback))\n"
     ]
    }
   ],
   "source": [
    "recommendation(2110)"
   ]
  },
  {
   "cell_type": "code",
   "execution_count": 114,
   "id": "645a21d8",
   "metadata": {},
   "outputs": [
    {
     "name": "stdout",
     "output_type": "stream",
     "text": [
      "TSword of Shannara : False\n",
      "Fatal Cure : False\n",
      "American Gods : False\n",
      "Darkfall : False\n",
      "Harry Potter and the Sorcerer's Stone (Harry Potter (Paperback)) : True\n",
      "10\n",
      "Dune Messiah (Dune Chronicles, Book 2) : False\n",
      "Reflections And Dreams : False\n",
      "Table For Two : False\n",
      "Pet Sematary : False\n",
      "The Eye of the World (The Wheel of Time, Book 1) : False\n",
      "The Plains of Passage (Earth's Children (Paperback)) : False\n"
     ]
    }
   ],
   "source": [
    "abc  = ratings_merged[ratings_merged['userid']==2110]\n",
    "ls = [\"TSword of Shannara\",\"Fatal Cure\",\"American Gods\",\"Darkfall\",\"Harry Potter and the Sorcerer's Stone (Harry Potter (Paperback))\",\"Dune Messiah (Dune Chronicles, Book 2)\",\"Reflections And Dreams\",\"Table For Two\",\"Pet Sematary\",\"The Eye of the World (The Wheel of Time, Book 1)\",\"The Plains of Passage (Earth's Children (Paperback))\"]\n",
    "\n",
    "for i in ls:\n",
    "    print(i,':', i in list(ratings_merged[ratings_merged['userid']==2110]['title'].values))\n",
    "    if (i in list(ratings_merged[ratings_merged['userid']==2110]['title'].values))== True:\n",
    "        print( abc[abc['title']== i]['bookrating'].values[0])"
   ]
  },
  {
   "cell_type": "code",
   "execution_count": 115,
   "id": "5c242708",
   "metadata": {
    "scrolled": true
   },
   "outputs": [
    {
     "name": "stdout",
     "output_type": "stream",
     "text": [
      "Similar Movies to Politically Correct Bedtime Stories: Modern Tales for Our Life and Times: \n",
      "\n",
      "Politically Correct Bedtime Stories: Modern Tales for Our Life and Times\n",
      "Don't Stand Too Close to a Naked Man\n",
      "My Side of the Mountain\n",
      "24 Hours\n",
      "Lucky : A Memoir\n",
      "The English Patient\n",
      "Round Ireland With a Fridge\n",
      "The Reptile Room (A Series of Unfortunate Events, Book 2)\n",
      "The Long Road Home\n",
      "Pay It Forward\n",
      "The Bad Beginning (A Series of Unfortunate Events, Book 1)\n"
     ]
    }
   ],
   "source": [
    "recommendation(277427)"
   ]
  },
  {
   "cell_type": "code",
   "execution_count": 116,
   "id": "5dfd8367",
   "metadata": {
    "scrolled": true
   },
   "outputs": [
    {
     "name": "stdout",
     "output_type": "stream",
     "text": [
      "Politically Correct Bedtime Stories: Modern Tales for Our Life and Times : True\n",
      "10\n",
      "Don't Stand Too Close to a Naked Man : False\n",
      "My Side of the Mountain : False\n",
      "24 Hours : True\n",
      "10\n",
      "Lucky : A Memoir : True\n",
      "0\n",
      "The English Patient : False\n",
      "Round Ireland With a Fridge : False\n",
      "The Reptile Room (A Series of Unfortunate Events, Book 2) : False\n",
      "The Long Road Home : False\n",
      "Pay It Forward : True\n",
      "9\n",
      "The Bad Beginning (A Series of Unfortunate Events, Book 1) : False\n"
     ]
    }
   ],
   "source": [
    "abc  = ratings_merged[ratings_merged['userid']==277427]\n",
    "ls = [\"Politically Correct Bedtime Stories: Modern Tales for Our Life and Times\",\"Don't Stand Too Close to a Naked Man\",\n",
    "      \"My Side of the Mountain\",\"24 Hours\",\"Lucky : A Memoir\",\"The English Patient\",\"Round Ireland With a Fridge\",\n",
    "      \"The Reptile Room (A Series of Unfortunate Events, Book 2)\",\"The Long Road Home\",\"Pay It Forward\",\n",
    "      \"The Bad Beginning (A Series of Unfortunate Events, Book 1)\"]\n",
    "\n",
    "for i in ls:\n",
    "    print(i,':', i in list(ratings_merged[ratings_merged['userid']==277427]['title'].values))\n",
    "    if (i in list(ratings_merged[ratings_merged['userid']==277427]['title'].values))== True:\n",
    "        print( abc[abc['title']== i]['bookrating'].values[0])"
   ]
  },
  {
   "cell_type": "code",
   "execution_count": 117,
   "id": "e213789b",
   "metadata": {
    "scrolled": false
   },
   "outputs": [
    {
     "name": "stdout",
     "output_type": "stream",
     "text": [
      "Similar Movies to The Street Lawyer: \n",
      "\n",
      "The Street Lawyer\n",
      "The Partner\n",
      "The Chamber\n",
      "The Runaway Jury\n",
      "The Testament\n",
      "The Pelican Brief\n",
      "The Firm\n",
      "The Summons\n",
      "The Brethren\n",
      "The Rainmaker\n",
      "Disclosure\n"
     ]
    }
   ],
   "source": [
    "recommendation(278188)"
   ]
  },
  {
   "cell_type": "code",
   "execution_count": 118,
   "id": "c169eab7",
   "metadata": {},
   "outputs": [
    {
     "name": "stdout",
     "output_type": "stream",
     "text": [
      "The Street Lawyer : True\n",
      "9\n",
      "The Partner : False\n",
      "The Chamber : False\n",
      "The Runaway Jury : False\n",
      "The Testament : False\n",
      "The Pelican Brief : False\n",
      "The Firm : False\n",
      "The Summons : False\n",
      "The Brethren : False\n",
      "The Rainmaker : False\n",
      "Disclosure : False\n"
     ]
    }
   ],
   "source": [
    "abc  = ratings_merged[ratings_merged['userid']==278188]\n",
    "ls = [\"The Street Lawyer\",\"The Partner\",\"The Chamber\",\"The Runaway Jury\",\"The Testament\",\"The Pelican Brief\",\n",
    "      \"The Firm\",\"The Summons\",\"The Brethren\",\"The Rainmaker\",\"Disclosure\"]\n",
    "      \n",
    "for i in ls:\n",
    "    print(i,':', i in list(ratings_merged[ratings_merged['userid']==278188]['title'].values))\n",
    "    if (i in list(ratings_merged[ratings_merged['userid']==278188]['title'].values))== True:\n",
    "        print( abc[abc['title']== i]['bookrating'].values[0])"
   ]
  },
  {
   "cell_type": "code",
   "execution_count": 117,
   "id": "bf9bccc1",
   "metadata": {
    "scrolled": false
   },
   "outputs": [
    {
     "name": "stdout",
     "output_type": "stream",
     "text": [
      "Similar Movies to The Street Lawyer: \n",
      "\n",
      "The Street Lawyer\n",
      "The Partner\n",
      "The Chamber\n",
      "The Runaway Jury\n",
      "The Testament\n",
      "The Pelican Brief\n",
      "The Firm\n",
      "The Summons\n",
      "The Brethren\n",
      "The Rainmaker\n",
      "Disclosure\n"
     ]
    }
   ],
   "source": [
    "recommendation(278188)"
   ]
  },
  {
   "cell_type": "code",
   "execution_count": 118,
   "id": "b1efe2c0",
   "metadata": {},
   "outputs": [
    {
     "name": "stdout",
     "output_type": "stream",
     "text": [
      "The Street Lawyer : True\n",
      "9\n",
      "The Partner : False\n",
      "The Chamber : False\n",
      "The Runaway Jury : False\n",
      "The Testament : False\n",
      "The Pelican Brief : False\n",
      "The Firm : False\n",
      "The Summons : False\n",
      "The Brethren : False\n",
      "The Rainmaker : False\n",
      "Disclosure : False\n"
     ]
    }
   ],
   "source": [
    "abc  = ratings_merged[ratings_merged['userid']==278188]\n",
    "ls = [\"The Street Lawyer\",\"The Partner\",\"The Chamber\",\"The Runaway Jury\",\"The Testament\",\"The Pelican Brief\",\n",
    "      \"The Firm\",\"The Summons\",\"The Brethren\",\"The Rainmaker\",\"Disclosure\"]\n",
    "      \n",
    "for i in ls:\n",
    "    print(i,':', i in list(ratings_merged[ratings_merged['userid']==278188]['title'].values))\n",
    "    if (i in list(ratings_merged[ratings_merged['userid']==278188]['title'].values))== True:\n",
    "        print( abc[abc['title']== i]['bookrating'].values[0])"
   ]
  },
  {
   "cell_type": "code",
   "execution_count": 119,
   "id": "383390e2",
   "metadata": {
    "scrolled": true
   },
   "outputs": [
    {
     "name": "stdout",
     "output_type": "stream",
     "text": [
      "Similar Movies to The Bean Trees: \n",
      "\n",
      "The Bean Trees\n",
      "Animal Dreams\n",
      "Pigs in Heaven\n",
      "The Virgin Blue\n",
      "Black and Blue : A Novel\n",
      "To Kill a Mockingbird\n",
      "Tears of the Giraffe (No.1 Ladies Detective Agency)\n",
      "The Apprentice\n",
      "A Thousand Acres (Ballantine Reader's Circle)\n",
      "Bel Canto: A Novel\n",
      "Snow Falling on Cedars\n"
     ]
    }
   ],
   "source": [
    "recommendation(1435)"
   ]
  },
  {
   "cell_type": "code",
   "execution_count": 120,
   "id": "9de0dd84",
   "metadata": {},
   "outputs": [
    {
     "name": "stdout",
     "output_type": "stream",
     "text": [
      "The Bean Trees : True\n",
      "10\n",
      "Animal Dreams : False\n",
      "Pigs in Heaven : True\n",
      "0\n",
      "The Virgin Blue : False\n",
      "Black and Blue : A Novel : False\n",
      "To Kill a Mockingbird : False\n",
      "Tears of the Giraffe (No.1 Ladies Detective Agency) : False\n",
      "The Apprentice : False\n",
      "A Thousand Acres (Ballantine Reader's Circle) : False\n",
      "Bel Canto: A Novel : False\n",
      "Snow Falling on Cedars : False\n"
     ]
    }
   ],
   "source": [
    "abc  = ratings_merged[ratings_merged['userid']==1435]\n",
    "ls = [\"The Bean Trees\",\"Animal Dreams\",\"Pigs in Heaven\",\"The Virgin Blue\",\"Black and Blue : A Novel\",\n",
    "      \"To Kill a Mockingbird\",\"Tears of the Giraffe (No.1 Ladies Detective Agency)\",\"The Apprentice\",\n",
    "      \"A Thousand Acres (Ballantine Reader's Circle)\",\"Bel Canto: A Novel\",\"Snow Falling on Cedars\"]\n",
    "      \n",
    "for i in ls:\n",
    "    print(i,':', i in list(ratings_merged[ratings_merged['userid']==1435]['title'].values))\n",
    "    if (i in list(ratings_merged[ratings_merged['userid']==1435]['title'].values))== True:\n",
    "        print( abc[abc['title']== i]['bookrating'].values[0])"
   ]
  },
  {
   "cell_type": "code",
   "execution_count": 122,
   "id": "8401ac45",
   "metadata": {
    "scrolled": true
   },
   "outputs": [
    {
     "name": "stdout",
     "output_type": "stream",
     "text": [
      "Similar Movies to The Hot Zone: \n",
      "\n",
      "The Hot Zone\n",
      "Chromosome 6\n",
      "Geek Love\n",
      "The House on Mango Street (Vintage Contemporaries)\n",
      "Island of the Blue Dolphins (Laurel Leaf Books)\n",
      "The Temple of My Familiar\n",
      "The Sweet Potato Queens' Book of Love\n",
      "Pigs in Heaven\n",
      "American Psycho (Vintage Contemporaries)\n",
      "Mind Prey\n",
      "The Bone Collector (Lincoln Rhyme Novels (Paperback))\n"
     ]
    }
   ],
   "source": [
    "recommendation(1903)"
   ]
  },
  {
   "cell_type": "code",
   "execution_count": 123,
   "id": "7afda181",
   "metadata": {},
   "outputs": [
    {
     "name": "stdout",
     "output_type": "stream",
     "text": [
      "The Hot Zone : True\n",
      "10\n",
      "Chromosome 6 : False\n",
      "Geek Love : False\n",
      "The House on Mango Street (Vintage Contemporaries) : False\n",
      "Island of the Blue Dolphins (Laurel Leaf Books) : False\n",
      "The Temple of My Familiar : False\n",
      "The Sweet Potato Queens' Book of Love : False\n",
      "Pigs in Heaven : False\n",
      "American Psycho (Vintage Contemporaries) : False\n",
      "Mind Prey : False\n",
      "The Bone Collector (Lincoln Rhyme Novels (Paperback)) : False\n"
     ]
    }
   ],
   "source": [
    "abc  = ratings_merged[ratings_merged['userid']==1903]\n",
    "ls = [\"The Hot Zone\",\"Chromosome 6\",\"Geek Love\",\"The House on Mango Street (Vintage Contemporaries)\",\"Island of the Blue Dolphins (Laurel Leaf Books)\",\"The Temple of My Familiar\",\"The Sweet Potato Queens' Book of Love\",\"Pigs in Heaven\",\"American Psycho (Vintage Contemporaries)\",\"Mind Prey\",\"The Bone Collector (Lincoln Rhyme Novels (Paperback))\"]\n",
    "      \n",
    "for i in ls:\n",
    "    print(i,':', i in list(ratings_merged[ratings_merged['userid']==1903]['title'].values))\n",
    "    if (i in list(ratings_merged[ratings_merged['userid']==1903]['title'].values))== True:\n",
    "        print( abc[abc['title']== i]['bookrating'].values[0])"
   ]
  },
  {
   "cell_type": "code",
   "execution_count": 124,
   "id": "ffaa70d6",
   "metadata": {
    "scrolled": false
   },
   "outputs": [
    {
     "name": "stdout",
     "output_type": "stream",
     "text": [
      "Similar Movies to The Jury: \n",
      "\n",
      "The Jury\n",
      "Chosen Prey\n",
      "2nd Chance\n",
      "Nothing Lasts Forever\n",
      "Dust to Dust\n",
      "Mutation\n",
      "Mortal Prey\n",
      "The Blue Nowhere : A Novel\n",
      "To the Nines: A Stephanie Plum Novel\n",
      "The Playboy\n",
      "Easy Prey\n"
     ]
    }
   ],
   "source": [
    "recommendation(2276)"
   ]
  },
  {
   "cell_type": "code",
   "execution_count": 125,
   "id": "67e317b7",
   "metadata": {
    "scrolled": true
   },
   "outputs": [
    {
     "name": "stdout",
     "output_type": "stream",
     "text": [
      "The Jury : True\n",
      "10\n",
      "Chosen Prey : False\n",
      "2nd Chance : True\n",
      "10\n",
      "Nothing Lasts Forever : False\n",
      "Dust to Dust : True\n",
      "9\n",
      "Mutation : True\n",
      "8\n",
      "Mortal Prey : False\n",
      "The Blue Nowhere : A Novel : False\n",
      "To the Nines: A Stephanie Plum Novel : False\n",
      "The Playboy : False\n",
      "Easy Prey : False\n"
     ]
    }
   ],
   "source": [
    "abc  = ratings_merged[ratings_merged['userid']==2276]\n",
    "ls = [\"The Jury\",\"Chosen Prey\",\"2nd Chance\",\"Nothing Lasts Forever\",\"Dust to Dust\",\"Mutation\",\"Mortal Prey\",\n",
    "      \"The Blue Nowhere : A Novel\",\"To the Nines: A Stephanie Plum Novel\",\"The Playboy\",\"Easy Prey\"]\n",
    "      \n",
    "for i in ls:\n",
    "    print(i,':', i in list(ratings_merged[ratings_merged['userid']==2276]['title'].values))\n",
    "    if (i in list(ratings_merged[ratings_merged['userid']==2276]['title'].values))== True:\n",
    "        print( abc[abc['title']== i]['bookrating'].values[0])"
   ]
  },
  {
   "cell_type": "code",
   "execution_count": 130,
   "id": "35e9b298",
   "metadata": {
    "scrolled": false
   },
   "outputs": [
    {
     "name": "stdout",
     "output_type": "stream",
     "text": [
      "Similar Movies to 84 Charing Cross Road: \n",
      "\n",
      "84 Charing Cross Road\n",
      "Notes from a Small Island\n",
      "To the Lighthouse\n",
      "Fingersmith\n",
      "Under the Tuscan Sun\n",
      "Cold Mountain\n",
      "The Little Friend\n",
      "The Phantom Tollbooth\n",
      "Lamb : The Gospel According to Biff, Christ's Childhood Pal\n",
      "C Is for Corpse (Kinsey Millhone Mysteries (Paperback))\n",
      "The Amazing Adventures of Kavalier &amp; Clay\n"
     ]
    }
   ],
   "source": [
    "recommendation(275970)"
   ]
  },
  {
   "cell_type": "code",
   "execution_count": 131,
   "id": "539f6007",
   "metadata": {
    "scrolled": false
   },
   "outputs": [
    {
     "name": "stdout",
     "output_type": "stream",
     "text": [
      "84 Charing Cross Road : True\n",
      "10\n",
      "Notes from a Small Island : False\n",
      "To the Lighthouse : True\n",
      "10\n",
      "Fingersmith : True\n",
      "0\n",
      "Under the Tuscan Sun : False\n",
      "Cold Mountain : False\n",
      "The Little Friend : False\n",
      "The Phantom Tollbooth : False\n",
      "Lamb : The Gospel According to Biff, Christ's Childhood Pal : False\n",
      "C Is for Corpse (Kinsey Millhone Mysteries (Paperback)) : False\n",
      "The Amazing Adventures of Kavalier &amp; Clay : True\n",
      "0\n"
     ]
    }
   ],
   "source": [
    "abc  = ratings_merged[ratings_merged['userid']==275970]\n",
    "ls = [\"84 Charing Cross Road\",\"Notes from a Small Island\",\"To the Lighthouse\",\n",
    "      \"Fingersmith\",\"Under the Tuscan Sun\",\"Cold Mountain\",\"The Little Friend\",\n",
    "      \"The Phantom Tollbooth\",\n",
    "      \"Lamb : The Gospel According to Biff, Christ's Childhood Pal\",\n",
    "      \"C Is for Corpse (Kinsey Millhone Mysteries (Paperback))\",\n",
    "      \"The Amazing Adventures of Kavalier &amp; Clay\"]\n",
    "      \n",
    "for i in ls:\n",
    "    print(i,':', i in list(ratings_merged[ratings_merged['userid']==275970]['title'].values))\n",
    "    if (i in list(ratings_merged[ratings_merged['userid']==275970]['title'].values))== True:\n",
    "        print( abc[abc['title']== i]['bookrating'].values[0])"
   ]
  },
  {
   "cell_type": "code",
   "execution_count": 132,
   "id": "20f96bfb",
   "metadata": {
    "scrolled": false
   },
   "outputs": [
    {
     "name": "stdout",
     "output_type": "stream",
     "text": [
      "Similar Movies to The Hundred Secret Senses: \n",
      "\n",
      "The Hundred Secret Senses\n",
      "Bridget Jones: The Edge of Reason\n",
      "One Hundred Years of Solitude\n",
      "The Kitchen God's Wife\n",
      "Seabiscuit\n",
      "White Oleander : A Novel\n",
      "The Stone Diaries\n",
      "We Were the Mulvaneys\n",
      "The Bonesetter's Daughter\n",
      "Good Harbor: A Novel\n",
      "The World According to Garp\n"
     ]
    }
   ],
   "source": [
    "recommendation(276680)"
   ]
  },
  {
   "cell_type": "code",
   "execution_count": 133,
   "id": "86380f99",
   "metadata": {
    "scrolled": false
   },
   "outputs": [
    {
     "name": "stdout",
     "output_type": "stream",
     "text": [
      "The Hundred Secret Senses : True\n",
      "10\n",
      "Bridget Jones: The Edge of Reason : False\n",
      "One Hundred Years of Solitude : False\n",
      "The Kitchen God's Wife : False\n",
      "Seabiscuit : False\n",
      "White Oleander : A Novel : False\n",
      "The Stone Diaries : False\n",
      "We Were the Mulvaneys : False\n",
      "The Bonesetter's Daughter : False\n",
      "Good Harbor: A Novel : False\n",
      "The World According to Garp : False\n"
     ]
    }
   ],
   "source": [
    "abc  = ratings_merged[ratings_merged['userid']==276680]\n",
    "\n",
    "ls = [\"The Hundred Secret Senses\",\"Bridget Jones: The Edge of Reason\",\"One Hundred Years of Solitude\",\"The Kitchen God's Wife\",\"Seabiscuit\",\"White Oleander : A Novel\",\"The Stone Diaries\",\"We Were the Mulvaneys\",\"The Bonesetter's Daughter\",\"Good Harbor: A Novel\",\"The World According to Garp\"]\n",
    "      \n",
    "for i in ls:\n",
    "    print(i,':', i in list(ratings_merged[ratings_merged['userid']==276680]['title'].values))\n",
    "    if (i in list(ratings_merged[ratings_merged['userid']==276680]['title'].values))== True:\n",
    "        print( abc[abc['title']== i]['bookrating'].values[0])"
   ]
  },
  {
   "cell_type": "code",
   "execution_count": 134,
   "id": "7d5c31b0",
   "metadata": {
    "scrolled": true
   },
   "outputs": [
    {
     "name": "stdout",
     "output_type": "stream",
     "text": [
      "Similar Movies to Get Shorty: \n",
      "\n",
      "Get Shorty\n",
      "Untamed\n",
      "The Bear and the Dragon (Jack Ryan Novels)\n",
      "The Vendetta Defense\n",
      "Little Altars Everywhere: A Novel\n",
      "Twilight Eyes\n",
      "A Heartbreaking Work of Staggering Genius\n",
      "Nothing Lasts Forever\n",
      "I Know This Much Is True (Oprah's Book Club)\n",
      "The Shipping News : A Novel\n",
      "Catch Me If You Can: The True Story of a Real Fake\n"
     ]
    }
   ],
   "source": [
    "recommendation(277478)"
   ]
  },
  {
   "cell_type": "code",
   "execution_count": 135,
   "id": "f9b5521e",
   "metadata": {
    "scrolled": false
   },
   "outputs": [
    {
     "name": "stdout",
     "output_type": "stream",
     "text": [
      "Get Shorty : True\n",
      "6\n",
      "Untamed : False\n",
      "The Bear and the Dragon (Jack Ryan Novels) : False\n",
      "The Vendetta Defense : False\n",
      "Little Altars Everywhere: A Novel : False\n",
      "Twilight Eyes : False\n",
      "A Heartbreaking Work of Staggering Genius : False\n",
      "Nothing Lasts Forever : False\n",
      "I Know This Much Is True (Oprah's Book Club) : False\n",
      "The Shipping News : A Novel : False\n",
      "Catch Me If You Can: The True Story of a Real Fake : False\n"
     ]
    }
   ],
   "source": [
    "abc  = ratings_merged[ratings_merged['userid']==277478]\n",
    "ls = [\"Get Shorty\",\"Untamed\",\"The Bear and the Dragon (Jack Ryan Novels)\",\"The Vendetta Defense\",\"Little Altars Everywhere: A Novel\",\"Twilight Eyes\",\"A Heartbreaking Work of Staggering Genius\",\"Nothing Lasts Forever\",\"I Know This Much Is True (Oprah's Book Club)\",\"The Shipping News : A Novel\",\"Catch Me If You Can: The True Story of a Real Fake\"]\n",
    "      \n",
    "for i in ls:\n",
    "    print(i,':', i in list(ratings_merged[ratings_merged['userid']==277478]['title'].values))\n",
    "    if (i in list(ratings_merged[ratings_merged['userid']==277478]['title'].values))== True:\n",
    "        print( abc[abc['title']== i]['bookrating'].values[0])"
   ]
  },
  {
   "cell_type": "code",
   "execution_count": null,
   "id": "f9950a67",
   "metadata": {},
   "outputs": [],
   "source": []
  },
  {
   "cell_type": "code",
   "execution_count": 136,
   "id": "dede1e3e",
   "metadata": {
    "scrolled": true
   },
   "outputs": [
    {
     "name": "stdout",
     "output_type": "stream",
     "text": [
      "Similar Movies to Chicken Soup for the Woman's Soul (Chicken Soup for the Soul Series (Paper)): \n",
      "\n",
      "Chicken Soup for the Woman's Soul (Chicken Soup for the Soul Series (Paper))\n",
      "Ellen Foster\n",
      "Genuine Lies\n",
      "Night Whispers\n",
      "Harvest\n",
      "Border Music\n",
      "The Mulberry Tree\n",
      "A Lesson Before Dying (Vintage Contemporaries (Paperback))\n",
      "Secrets\n",
      "Vinegar Hill (Oprah's Book Club (Paperback))\n",
      "Echoes\n"
     ]
    }
   ],
   "source": [
    "recommendation(278137)"
   ]
  },
  {
   "cell_type": "code",
   "execution_count": 137,
   "id": "b940cc2c",
   "metadata": {
    "scrolled": false
   },
   "outputs": [
    {
     "name": "stdout",
     "output_type": "stream",
     "text": [
      "Chicken Soup for the Woman's Soul (Chicken Soup for the Soul Series (Paper)) : True\n",
      "9\n",
      "Ellen Foster : False\n",
      "Genuine Lies : False\n",
      "Night Whispers : False\n",
      "Harvest : False\n",
      "Border Music : False\n",
      "The Mulberry Tree : False\n",
      "A Lesson Before Dying (Vintage Contemporaries (Paperback)) : False\n",
      "Secrets : False\n",
      "Vinegar Hill (Oprah's Book Club (Paperback)) : False\n",
      "Echoes : False\n"
     ]
    }
   ],
   "source": [
    "abc  = ratings_merged[ratings_merged['userid']==278137]\n",
    "ls = [\"Chicken Soup for the Woman's Soul (Chicken Soup for the Soul Series (Paper))\",\n",
    "      \"Ellen Foster\",\"Genuine Lies\",\"Night Whispers\",\"Harvest\",\"Border Music\",\n",
    "      \"The Mulberry Tree\",\n",
    "      \"A Lesson Before Dying (Vintage Contemporaries (Paperback))\",\"Secrets\",\n",
    "      \"Vinegar Hill (Oprah's Book Club (Paperback))\",\"Echoes\"]\n",
    "for i in ls:\n",
    "    print(i,':', i in list(ratings_merged[ratings_merged['userid']==278137]['title'].values))\n",
    "    if (i in list(ratings_merged[ratings_merged['userid']==278137]['title'].values))== True:\n",
    "        print( abc[abc['title']== i]['bookrating'].values[0])"
   ]
  },
  {
   "cell_type": "code",
   "execution_count": 139,
   "id": "a948f411",
   "metadata": {
    "scrolled": true
   },
   "outputs": [
    {
     "name": "stdout",
     "output_type": "stream",
     "text": [
      "Similar Movies to Smilla's Sense of Snow: \n",
      "\n",
      "Smilla's Sense of Snow\n",
      "Harvest\n",
      "Critical Judgment\n",
      "All the Pretty Horses (The Border Trilogy, Vol 1)\n",
      "Slow Waltz in Cedar Bend\n",
      "Chromosome 6\n",
      "Total Control\n",
      "Fall On Your Knees (Oprah #45)\n",
      "Gone But Not Forgotten\n",
      "I'll Be Seeing You\n",
      "The Scarlet Letter\n"
     ]
    }
   ],
   "source": [
    "recommendation(275020)"
   ]
  },
  {
   "cell_type": "code",
   "execution_count": 140,
   "id": "153618f6",
   "metadata": {
    "scrolled": false
   },
   "outputs": [
    {
     "name": "stdout",
     "output_type": "stream",
     "text": [
      "Smilla's Sense of Snow : True\n",
      "10\n",
      "Harvest : False\n",
      "Critical Judgment : False\n",
      "All the Pretty Horses (The Border Trilogy, Vol 1) : False\n",
      "Slow Waltz in Cedar Bend : False\n",
      "Chromosome 6 : False\n",
      "Total Control : False\n",
      "Fall On Your Knees (Oprah #45) : True\n",
      "9\n",
      "Gone But Not Forgotten : False\n",
      "I'll Be Seeing You : False\n",
      "The Scarlet Letter : False\n"
     ]
    }
   ],
   "source": [
    "abc  = ratings_merged[ratings_merged['userid']==275020]\n",
    "ls = [\"Smilla's Sense of Snow\",\"Harvest\",\"Critical Judgment\",\n",
    "      \"All the Pretty Horses (The Border Trilogy, Vol 1)\",\n",
    "      \"Slow Waltz in Cedar Bend\",\"Chromosome 6\",\"Total Control\",\n",
    "      \"Fall On Your Knees (Oprah #45)\",\"Gone But Not Forgotten\",\n",
    "      \"I'll Be Seeing You\",\"The Scarlet Letter\"]      \n",
    "for i in ls:\n",
    "    print(i,':', i in list(ratings_merged[ratings_merged['userid']==275020]['title'].values))\n",
    "    if (i in list(ratings_merged[ratings_merged['userid']==275020]['title'].values))== True:\n",
    "        print( abc[abc['title']== i]['bookrating'].values[0])"
   ]
  },
  {
   "cell_type": "code",
   "execution_count": 142,
   "id": "4ae40e69",
   "metadata": {},
   "outputs": [
    {
     "name": "stdout",
     "output_type": "stream",
     "text": [
      "Similar Movies to The Poisonwood Bible: \n",
      "\n",
      "The Poisonwood Bible\n",
      "The Midnight Club\n",
      "Prodigal Summer\n",
      "Darkness\n",
      "Kiss the Girls\n",
      "Postmortem\n",
      "My Side of the Mountain\n",
      "Pigs in Heaven\n",
      "Geek Love\n",
      "The Brethren\n",
      "The Alienist\n"
     ]
    }
   ],
   "source": [
    "recommendation(11676)"
   ]
  },
  {
   "cell_type": "code",
   "execution_count": 143,
   "id": "32f4358c",
   "metadata": {},
   "outputs": [
    {
     "name": "stdout",
     "output_type": "stream",
     "text": [
      "The Poisonwood Bible : True\n",
      "10\n",
      "The Midnight Club : True\n",
      "8\n",
      "Prodigal Summer : True\n",
      "10\n",
      "Darkness : True\n",
      "10\n",
      "Kiss the Girls : True\n",
      "9\n",
      "Postmortem : True\n",
      "8\n",
      "My Side of the Mountain : True\n",
      "10\n",
      "Pigs in Heaven : True\n",
      "8\n",
      "Geek Love : True\n",
      "7\n",
      "The Brethren : True\n",
      "8\n",
      "The Alienist : True\n",
      "7\n"
     ]
    }
   ],
   "source": [
    "abc  = ratings_merged[ratings_merged['userid']==11676]\n",
    "ls = [\"The Poisonwood Bible\",\"The Midnight Club\",\"Prodigal Summer\",\"Darkness\",\"Kiss the Girls\",\"Postmortem\",\n",
    "      \"My Side of the Mountain\",\"Pigs in Heaven\",\"Geek Love\",\"The Brethren\",\"The Alienist\"]    \n",
    "      \n",
    "for i in ls:\n",
    "    print(i,':', i in list(ratings_merged[ratings_merged['userid']==11676]['title'].values))\n",
    "    if (i in list(ratings_merged[ratings_merged['userid']==11676]['title'].values))== True:\n",
    "        print( abc[abc['title']== i]['bookrating'].values[0])"
   ]
  },
  {
   "cell_type": "markdown",
   "id": "381ab465",
   "metadata": {
    "scrolled": true
   },
   "source": [
    "recommendation(901)"
   ]
  },
  {
   "attachments": {
    "image.png": {
     "image/png": "[encoded data removed]"
    }
   },
   "cell_type": "markdown",
   "id": "e374f8f6",
   "metadata": {},
   "source": [
    "# Evaluation Matrix\n",
    "\n",
    "![image.png](attachment:image.png)"
   ]
  },
  {
   "cell_type": "markdown",
   "id": "f835e3fd",
   "metadata": {},
   "source": [
    "# Recommend users those books that they have not read"
   ]
  },
  {
   "cell_type": "markdown",
   "id": "238ef19c",
   "metadata": {},
   "source": [
    "# deployment function"
   ]
  },
  {
   "cell_type": "markdown",
   "id": "bf0000d1",
   "metadata": {},
   "source": [
    "###### **To exclude the books that user has already read**\n",
    "\n",
    "abc = ratings_merged[ratings_merged['userid']==userid]\n",
    "\n",
    "for i in sim_books:\n",
    "    if books_table.index[i] not in abc['title'].tolist():\n",
    "        print(str(books_table.index[i]))"
   ]
  },
  {
   "cell_type": "code",
   "execution_count": 301,
   "id": "7385b5b8",
   "metadata": {},
   "outputs": [],
   "source": [
    "def recommendation(userid):\n",
    "    abc = ratings_merged[ratings_merged['userid']==userid]\n",
    "    sorted_df = books_table.sort_values(by=userid,ascending=False)\n",
    "    book_name = sorted_df[userid].index[0]\n",
    "\n",
    "    index_user_likes = books_table.index.tolist().index(book_name) # get an index for a movie\n",
    "    sim_books = indices[index_user_likes].tolist() # make list for similar movies\n",
    "    book_distances = distances[index_user_likes].tolist() # the list for distances of similar movies\n",
    "    print('Similar Movies to '+str(books_table.index[index_user_likes])+': \\n')\n",
    "\n",
    "    sim_books.remove(index_user_likes) # remove the movie itself in indices\n",
    "    book_distances.pop(id_book) # remove the movie itself in distances    \n",
    "    \n",
    "    for i in sim_books:\n",
    "        if books_table.index[i] not in abc['title'].tolist():\n",
    "            print(str(books_table.index[i]))"
   ]
  },
  {
   "cell_type": "code",
   "execution_count": 302,
   "id": "0916b34c",
   "metadata": {},
   "outputs": [
    {
     "name": "stdout",
     "output_type": "stream",
     "text": [
      "Similar Movies to Smilla's Sense of Snow: \n",
      "\n",
      "Harvest\n",
      "Critical Judgment\n",
      "All the Pretty Horses (The Border Trilogy, Vol 1)\n",
      "Slow Waltz in Cedar Bend\n",
      "Chromosome 6\n",
      "Total Control\n",
      "Gone But Not Forgotten\n",
      "I'll Be Seeing You\n",
      "The Scarlet Letter\n"
     ]
    }
   ],
   "source": [
    "recommendation(275020)"
   ]
  },
  {
   "cell_type": "code",
   "execution_count": null,
   "id": "50a7fcc3",
   "metadata": {},
   "outputs": [],
   "source": [
    "Harvest : False\n",
    "Critical Judgment : False\n",
    "All the Pretty Horses (The Border Trilogy, Vol 1) : False\n",
    "Slow Waltz in Cedar Bend : False\n",
    "Chromosome 6 : False\n",
    "Total Control : False\n",
    "Fall On Your Knees (Oprah #45) : True\n",
    "9\n",
    "Gone But Not Forgotten : False\n",
    "I'll Be Seeing You : False\n",
    "The Scarlet Letter : False"
   ]
  },
  {
   "cell_type": "code",
   "execution_count": 303,
   "id": "0acf7cfa",
   "metadata": {},
   "outputs": [
    {
     "name": "stdout",
     "output_type": "stream",
     "text": [
      "Similar Movies to 84 Charing Cross Road: \n",
      "\n",
      "Notes from a Small Island\n",
      "Under the Tuscan Sun\n",
      "Cold Mountain\n",
      "The Little Friend\n",
      "The Phantom Tollbooth\n",
      "Lamb : The Gospel According to Biff, Christ's Childhood Pal\n",
      "C Is for Corpse (Kinsey Millhone Mysteries (Paperback))\n"
     ]
    }
   ],
   "source": [
    "recommendation(275970)"
   ]
  },
  {
   "cell_type": "code",
   "execution_count": null,
   "id": "6b5d6a7c",
   "metadata": {},
   "outputs": [],
   "source": [
    "To the Lighthouse : True\n",
    "10\n",
    "Fingersmith : True\n",
    "0\n",
    "Under the Tuscan Sun : False\n",
    "Cold Mountain : False\n",
    "The Little Friend : False\n",
    "The Phantom Tollbooth : False\n",
    "Lamb : The Gospel According to Biff, Christ's Childhood Pal : False\n",
    "C Is for Corpse (Kinsey Millhone Mysteries (Paperback)) : False\n",
    "The Amazing Adventures of Kavalier &amp; Clay : True\n",
    "0"
   ]
  }
 ],
 "metadata": {
  "kernelspec": {
   "display_name": "Python 3 (ipykernel)",
   "language": "python",
   "name": "python3"
  },
  "language_info": {
   "codemirror_mode": {
    "name": "ipython",
    "version": 3
   },
   "file_extension": ".py",
   "mimetype": "text/x-python",
   "name": "python",
   "nbconvert_exporter": "python",
   "pygments_lexer": "ipython3",
   "version": "3.9.13"
  }
 },
 "nbformat": 4,
 "nbformat_minor": 5
}
