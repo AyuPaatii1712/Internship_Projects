{
 "cells": [
  {
   "cell_type": "code",
   "execution_count": 1,
   "id": "6cfac507",
   "metadata": {},
   "outputs": [],
   "source": [
    "import pandas as pd\n",
    "import numpy as np\n",
    "import matplotlib.pyplot as plt\n",
    "import seaborn as sns\n",
    "import statistics as st\n",
    "\n",
    "from sklearn.neighbors import NearestNeighbors\n",
    "import warnings\n",
    "warnings.filterwarnings(\"ignore\")"
   ]
  },
  {
   "cell_type": "markdown",
   "id": "a23c603b",
   "metadata": {},
   "source": [
    "## Book DataSet"
   ]
  },
  {
   "cell_type": "code",
   "execution_count": 2,
   "id": "dddbc3ea",
   "metadata": {},
   "outputs": [],
   "source": [
    "book= pd.read_csv('Books.csv')"
   ]
  },
  {
   "cell_type": "markdown",
   "id": "f8935536",
   "metadata": {},
   "source": [
    "### Information of data set"
   ]
  },
  {
   "cell_type": "code",
   "execution_count": 3,
   "id": "1529f10e",
   "metadata": {},
   "outputs": [],
   "source": [
    "#droping the Image columns which is not Required in EDA\n",
    "book.drop(['Image-URL-S', 'Image-URL-L'],axis=1,inplace=True)"
   ]
  },
  {
   "cell_type": "code",
   "execution_count": 4,
   "id": "9c70e6f0",
   "metadata": {},
   "outputs": [],
   "source": [
    "book.rename(columns = {'Book-Title':'title', 'Book-Author':'author', 'Year-Of-Publication':'year', 'Publisher':'publisher', 'Image-URL-M':'image-m'}, inplace=True)"
   ]
  },
  {
   "cell_type": "code",
   "execution_count": 5,
   "id": "06825dc2",
   "metadata": {},
   "outputs": [],
   "source": [
    "book.loc[book.ISBN == '0789466953','year'] = 2000\n",
    "book.loc[book.ISBN == '0789466953','author'] = \"James Buckley\"\n",
    "book.loc[book.ISBN == '0789466953','publisher'] = \"DK Publishing Inc\"\n",
    "book.loc[book.ISBN == '0789466953','title'] = \"DK Readers: Creating the X-Men, How Comic Books Come to Life (Level 4: Proficient Readers)\""
   ]
  },
  {
   "cell_type": "code",
   "execution_count": 6,
   "id": "2a2ccfa8",
   "metadata": {},
   "outputs": [],
   "source": [
    "book.loc[book.ISBN == '078946697X','year'] = 2000\n",
    "book.loc[book.ISBN == '078946697X','author'] = \"Michael Teitelbaum\"\n",
    "book.loc[book.ISBN == '078946697X','publisher'] = \"DK Publishing Inc\"\n",
    "book.loc[book.ISBN == '078946697X','title'] = \"DK Readers: Creating the X-Men, How It All Began (Level 4: Proficient Readers)\""
   ]
  },
  {
   "cell_type": "code",
   "execution_count": 7,
   "id": "06fa591c",
   "metadata": {},
   "outputs": [
    {
     "data": {
      "text/html": [
       "<div>\n",
       "<style scoped>\n",
       "    .dataframe tbody tr th:only-of-type {\n",
       "        vertical-align: middle;\n",
       "    }\n",
       "\n",
       "    .dataframe tbody tr th {\n",
       "        vertical-align: top;\n",
       "    }\n",
       "\n",
       "    .dataframe thead th {\n",
       "        text-align: right;\n",
       "    }\n",
       "</style>\n",
       "<table border=\"1\" class=\"dataframe\">\n",
       "  <thead>\n",
       "    <tr style=\"text-align: right;\">\n",
       "      <th></th>\n",
       "      <th>ISBN</th>\n",
       "      <th>title</th>\n",
       "      <th>author</th>\n",
       "      <th>year</th>\n",
       "      <th>publisher</th>\n",
       "      <th>image-m</th>\n",
       "    </tr>\n",
       "  </thead>\n",
       "  <tbody>\n",
       "    <tr>\n",
       "      <th>209538</th>\n",
       "      <td>078946697X</td>\n",
       "      <td>DK Readers: Creating the X-Men, How It All Beg...</td>\n",
       "      <td>Michael Teitelbaum</td>\n",
       "      <td>2000</td>\n",
       "      <td>DK Publishing Inc</td>\n",
       "      <td>http://images.amazon.com/images/P/078946697X.0...</td>\n",
       "    </tr>\n",
       "    <tr>\n",
       "      <th>221678</th>\n",
       "      <td>0789466953</td>\n",
       "      <td>DK Readers: Creating the X-Men, How Comic Book...</td>\n",
       "      <td>James Buckley</td>\n",
       "      <td>2000</td>\n",
       "      <td>DK Publishing Inc</td>\n",
       "      <td>http://images.amazon.com/images/P/0789466953.0...</td>\n",
       "    </tr>\n",
       "  </tbody>\n",
       "</table>\n",
       "</div>"
      ],
      "text/plain": [
       "              ISBN                                              title  \\\n",
       "209538  078946697X  DK Readers: Creating the X-Men, How It All Beg...   \n",
       "221678  0789466953  DK Readers: Creating the X-Men, How Comic Book...   \n",
       "\n",
       "                    author  year          publisher  \\\n",
       "209538  Michael Teitelbaum  2000  DK Publishing Inc   \n",
       "221678       James Buckley  2000  DK Publishing Inc   \n",
       "\n",
       "                                                  image-m  \n",
       "209538  http://images.amazon.com/images/P/078946697X.0...  \n",
       "221678  http://images.amazon.com/images/P/0789466953.0...  "
      ]
     },
     "execution_count": 7,
     "metadata": {},
     "output_type": "execute_result"
    }
   ],
   "source": [
    "book.loc[(book.ISBN == '0789466953') | (book.ISBN == '078946697X'),:]"
   ]
  },
  {
   "cell_type": "code",
   "execution_count": 8,
   "id": "852f912d",
   "metadata": {},
   "outputs": [
    {
     "data": {
      "text/html": [
       "<div>\n",
       "<style scoped>\n",
       "    .dataframe tbody tr th:only-of-type {\n",
       "        vertical-align: middle;\n",
       "    }\n",
       "\n",
       "    .dataframe tbody tr th {\n",
       "        vertical-align: top;\n",
       "    }\n",
       "\n",
       "    .dataframe thead th {\n",
       "        text-align: right;\n",
       "    }\n",
       "</style>\n",
       "<table border=\"1\" class=\"dataframe\">\n",
       "  <thead>\n",
       "    <tr style=\"text-align: right;\">\n",
       "      <th></th>\n",
       "      <th>ISBN</th>\n",
       "      <th>title</th>\n",
       "      <th>author</th>\n",
       "      <th>year</th>\n",
       "      <th>publisher</th>\n",
       "      <th>image-m</th>\n",
       "    </tr>\n",
       "  </thead>\n",
       "  <tbody>\n",
       "    <tr>\n",
       "      <th>220731</th>\n",
       "      <td>2070426769</td>\n",
       "      <td>Peuple du ciel, suivi de 'Les Bergers\\\";Jean-M...</td>\n",
       "      <td>2003</td>\n",
       "      <td>Gallimard</td>\n",
       "      <td>http://images.amazon.com/images/P/2070426769.0...</td>\n",
       "      <td>http://images.amazon.com/images/P/2070426769.0...</td>\n",
       "    </tr>\n",
       "  </tbody>\n",
       "</table>\n",
       "</div>"
      ],
      "text/plain": [
       "              ISBN                                              title author  \\\n",
       "220731  2070426769  Peuple du ciel, suivi de 'Les Bergers\\\";Jean-M...   2003   \n",
       "\n",
       "             year                                          publisher  \\\n",
       "220731  Gallimard  http://images.amazon.com/images/P/2070426769.0...   \n",
       "\n",
       "                                                  image-m  \n",
       "220731  http://images.amazon.com/images/P/2070426769.0...  "
      ]
     },
     "execution_count": 8,
     "metadata": {},
     "output_type": "execute_result"
    }
   ],
   "source": [
    "book.loc[book['year'] == 'Gallimard',:]"
   ]
  },
  {
   "cell_type": "code",
   "execution_count": 9,
   "id": "6cd1d95f",
   "metadata": {},
   "outputs": [],
   "source": [
    "book.loc[book.ISBN == '2070426769','year'] = 2003\n",
    "book.loc[book.ISBN == '2070426769','author'] = \"Jean-Marie Gustave Le ClÃ?Â©zio\"\n",
    "book.loc[book.ISBN == '2070426769','publisher'] = \"Gallimard\"\n",
    "book.loc[book.ISBN == '2070426769','title'] = \"Peuple du ciel, suivi de 'Les Bergers\""
   ]
  },
  {
   "cell_type": "code",
   "execution_count": 10,
   "id": "baf52c89",
   "metadata": {},
   "outputs": [
    {
     "data": {
      "text/html": [
       "<div>\n",
       "<style scoped>\n",
       "    .dataframe tbody tr th:only-of-type {\n",
       "        vertical-align: middle;\n",
       "    }\n",
       "\n",
       "    .dataframe tbody tr th {\n",
       "        vertical-align: top;\n",
       "    }\n",
       "\n",
       "    .dataframe thead th {\n",
       "        text-align: right;\n",
       "    }\n",
       "</style>\n",
       "<table border=\"1\" class=\"dataframe\">\n",
       "  <thead>\n",
       "    <tr style=\"text-align: right;\">\n",
       "      <th></th>\n",
       "      <th>ISBN</th>\n",
       "      <th>title</th>\n",
       "      <th>author</th>\n",
       "      <th>year</th>\n",
       "      <th>publisher</th>\n",
       "      <th>image-m</th>\n",
       "    </tr>\n",
       "  </thead>\n",
       "  <tbody>\n",
       "    <tr>\n",
       "      <th>220731</th>\n",
       "      <td>2070426769</td>\n",
       "      <td>Peuple du ciel, suivi de 'Les Bergers</td>\n",
       "      <td>Jean-Marie Gustave Le ClÃ?Â©zio</td>\n",
       "      <td>2003</td>\n",
       "      <td>Gallimard</td>\n",
       "      <td>http://images.amazon.com/images/P/2070426769.0...</td>\n",
       "    </tr>\n",
       "  </tbody>\n",
       "</table>\n",
       "</div>"
      ],
      "text/plain": [
       "              ISBN                                  title  \\\n",
       "220731  2070426769  Peuple du ciel, suivi de 'Les Bergers   \n",
       "\n",
       "                                 author  year  publisher  \\\n",
       "220731  Jean-Marie Gustave Le ClÃ?Â©zio  2003  Gallimard   \n",
       "\n",
       "                                                  image-m  \n",
       "220731  http://images.amazon.com/images/P/2070426769.0...  "
      ]
     },
     "execution_count": 10,
     "metadata": {},
     "output_type": "execute_result"
    }
   ],
   "source": [
    "book.loc[book.ISBN == '2070426769',:]"
   ]
  },
  {
   "cell_type": "code",
   "execution_count": 11,
   "id": "8a6b0c3e",
   "metadata": {},
   "outputs": [
    {
     "data": {
      "text/plain": [
       "array([2002, 2001, 1991, 1999, 2000, 1993, 1996, 1988, 2004, 1998, 1994,\n",
       "       2003, 1997, 1983, 1979, 1995, 1982, 1985, 1992, 1986, 1978, 1980,\n",
       "       1952, 1987, 1990, 1981, 1989, 1984, 0, 1968, 1961, 1958, 1974,\n",
       "       1976, 1971, 1977, 1975, 1965, 1941, 1970, 1962, 1973, 1972, 1960,\n",
       "       1966, 1920, 1956, 1959, 1953, 1951, 1942, 1963, 1964, 1969, 1954,\n",
       "       1950, 1967, 2005, 1957, 1940, 1937, 1955, 1946, 1936, 1930, 2011,\n",
       "       1925, 1948, 1943, 1947, 1945, 1923, 2020, 1939, 1926, 1938, 2030,\n",
       "       1911, 1904, 1949, 1932, 1928, 1929, 1927, 1931, 1914, 2050, 1934,\n",
       "       1910, 1933, 1902, 1924, 1921, 1900, 2038, 2026, 1944, 1917, 1901,\n",
       "       2010, 1908, 1906, 1935, 1806, 2021, '2000', '1995', '1999', '2004',\n",
       "       '2003', '1990', '1994', '1986', '1989', '2002', '1981', '1993',\n",
       "       '1983', '1982', '1976', '1991', '1977', '1998', '1992', '1996',\n",
       "       '0', '1997', '2001', '1974', '1968', '1987', '1984', '1988',\n",
       "       '1963', '1956', '1970', '1985', '1978', '1973', '1980', '1979',\n",
       "       '1975', '1969', '1961', '1965', '1939', '1958', '1950', '1953',\n",
       "       '1966', '1971', '1959', '1972', '1955', '1957', '1945', '1960',\n",
       "       '1967', '1932', '1924', '1964', '2012', '1911', '1927', '1948',\n",
       "       '1962', '2006', '1952', '1940', '1951', '1931', '1954', '2005',\n",
       "       '1930', '1941', '1944', '1943', '1938', '1900', '1942', '1923',\n",
       "       '1920', '1933', '1909', '1946', '2008', '1378', '2030', '1936',\n",
       "       '1947', '2011', '2020', '1919', '1949', '1922', '1897', '2024',\n",
       "       '1376', '1926', '2037'], dtype=object)"
      ]
     },
     "execution_count": 11,
     "metadata": {},
     "output_type": "execute_result"
    }
   ],
   "source": [
    "book['year'].unique()"
   ]
  },
  {
   "cell_type": "code",
   "execution_count": 12,
   "id": "f2ed5246",
   "metadata": {},
   "outputs": [
    {
     "data": {
      "text/plain": [
       "count     271360\n",
       "unique       200\n",
       "top         2002\n",
       "freq       13903\n",
       "Name: year, dtype: int64"
      ]
     },
     "execution_count": 12,
     "metadata": {},
     "output_type": "execute_result"
    }
   ],
   "source": [
    "book['year'].describe()"
   ]
  },
  {
   "cell_type": "code",
   "execution_count": 13,
   "id": "1c63135e",
   "metadata": {},
   "outputs": [
    {
     "name": "stdout",
     "output_type": "stream",
     "text": [
      "              ISBN         title          author  year       publisher  \\\n",
      "253750  964442011X  Tasht-i khun  IsmaÂ°il Fasih  1376  Nashr-i Alburz   \n",
      "\n",
      "                                                  image-m  \n",
      "253750  http://images.amazon.com/images/P/964442011X.0...  \n",
      "              ISBN                             title       author  year  \\\n",
      "227531  9643112136  Dalan-i bihisht (Dastan-i Irani)  Nazi Safavi  1378   \n",
      "\n",
      "                  publisher                                            image-m  \n",
      "227531  Intisharat-i Quqnus  http://images.amazon.com/images/P/9643112136.0...  \n",
      "Empty DataFrame\n",
      "Columns: [ISBN, title, author, year, publisher, image-m]\n",
      "Index: []\n",
      "              ISBN                                              title  \\\n",
      "245607  0781268001  Hugh Wynne, Free Quaker (2 Volumes (BCL1-PS Am...   \n",
      "\n",
      "                     author  year              publisher  \\\n",
      "245607  Silas Weir Mitchell  1897  Reprint Services Corp   \n",
      "\n",
      "                                                  image-m  \n",
      "245607  http://images.amazon.com/images/P/0781268001.0...  \n"
     ]
    }
   ],
   "source": [
    "print(book.loc[book.year == '1376',:])\n",
    "print(book.loc[book.year == '1378',:])\n",
    "print(book.loc[book.year == '1806',:])\n",
    "print(book.loc[book.year == '1897',:])"
   ]
  },
  {
   "cell_type": "code",
   "execution_count": 14,
   "id": "20b23fe7",
   "metadata": {},
   "outputs": [],
   "source": [
    "book.year=pd.to_numeric(book.year, errors='coerce')"
   ]
  },
  {
   "cell_type": "code",
   "execution_count": 15,
   "id": "60b51e25",
   "metadata": {},
   "outputs": [],
   "source": [
    "book.loc[(book['year'] > 2022) | (book.year == 0),'year'] = np.NAN"
   ]
  },
  {
   "cell_type": "code",
   "execution_count": 16,
   "id": "291dbe07",
   "metadata": {},
   "outputs": [],
   "source": [
    "book.year.fillna(round(book.year.max()), inplace=True)"
   ]
  },
  {
   "cell_type": "code",
   "execution_count": 17,
   "id": "2d7663db",
   "metadata": {},
   "outputs": [
    {
     "data": {
      "text/plain": [
       "0"
      ]
     },
     "execution_count": 17,
     "metadata": {},
     "output_type": "execute_result"
    }
   ],
   "source": [
    "book.loc[(book['year'] < 1897) | (book.year == 0),'year'] = np.NAN\n",
    "book = book.dropna(subset=['year'])\n",
    "book.year.isnull().sum()"
   ]
  },
  {
   "cell_type": "code",
   "execution_count": 18,
   "id": "8de1c17b",
   "metadata": {},
   "outputs": [
    {
     "name": "stdout",
     "output_type": "stream",
     "text": [
      "[1897.0, 1900.0, 1901.0, 1902.0, 1904.0, 1906.0, 1908.0, 1909.0, 1910.0, 1911.0, 1914.0, 1917.0, 1919.0, 1920.0, 1921.0, 1922.0, 1923.0, 1924.0, 1925.0, 1926.0, 1927.0, 1928.0, 1929.0, 1930.0, 1931.0, 1932.0, 1933.0, 1934.0, 1935.0, 1936.0, 1937.0, 1938.0, 1939.0, 1940.0, 1941.0, 1942.0, 1943.0, 1944.0, 1945.0, 1946.0, 1947.0, 1948.0, 1949.0, 1950.0, 1951.0, 1952.0, 1953.0, 1954.0, 1955.0, 1956.0, 1957.0, 1958.0, 1959.0, 1960.0, 1961.0, 1962.0, 1963.0, 1964.0, 1965.0, 1966.0, 1967.0, 1968.0, 1969.0, 1970.0, 1971.0, 1972.0, 1973.0, 1974.0, 1975.0, 1976.0, 1977.0, 1978.0, 1979.0, 1980.0, 1981.0, 1982.0, 1983.0, 1984.0, 1985.0, 1986.0, 1987.0, 1988.0, 1989.0, 1990.0, 1991.0, 1992.0, 1993.0, 1994.0, 1995.0, 1996.0, 1997.0, 1998.0, 1999.0, 2000.0, 2001.0, 2002.0, 2003.0, 2004.0, 2005.0, 2006.0, 2008.0, 2010.0, 2011.0, 2012.0, 2020.0, 2021.0]\n"
     ]
    }
   ],
   "source": [
    "print(sorted(book['year'].unique()))"
   ]
  },
  {
   "cell_type": "code",
   "execution_count": 19,
   "id": "58246943",
   "metadata": {},
   "outputs": [],
   "source": [
    "book.loc[(book.ISBN == '193169656X'),'publisher'] = 'other'\n",
    "book.loc[(book.ISBN == '1931696993'),'publisher'] = 'other'"
   ]
  },
  {
   "cell_type": "code",
   "execution_count": 20,
   "id": "098a67a0",
   "metadata": {},
   "outputs": [
    {
     "data": {
      "text/html": [
       "<div>\n",
       "<style scoped>\n",
       "    .dataframe tbody tr th:only-of-type {\n",
       "        vertical-align: middle;\n",
       "    }\n",
       "\n",
       "    .dataframe tbody tr th {\n",
       "        vertical-align: top;\n",
       "    }\n",
       "\n",
       "    .dataframe thead th {\n",
       "        text-align: right;\n",
       "    }\n",
       "</style>\n",
       "<table border=\"1\" class=\"dataframe\">\n",
       "  <thead>\n",
       "    <tr style=\"text-align: right;\">\n",
       "      <th></th>\n",
       "      <th>ISBN</th>\n",
       "      <th>title</th>\n",
       "      <th>author</th>\n",
       "      <th>year</th>\n",
       "      <th>publisher</th>\n",
       "      <th>image-m</th>\n",
       "    </tr>\n",
       "  </thead>\n",
       "  <tbody>\n",
       "    <tr>\n",
       "      <th>187689</th>\n",
       "      <td>9627982032</td>\n",
       "      <td>The Credit Suisse Guide to Managing Your Perso...</td>\n",
       "      <td>NaN</td>\n",
       "      <td>1995.0</td>\n",
       "      <td>Edinburgh Financial Publishing</td>\n",
       "      <td>http://images.amazon.com/images/P/9627982032.0...</td>\n",
       "    </tr>\n",
       "  </tbody>\n",
       "</table>\n",
       "</div>"
      ],
      "text/plain": [
       "              ISBN                                              title author  \\\n",
       "187689  9627982032  The Credit Suisse Guide to Managing Your Perso...    NaN   \n",
       "\n",
       "          year                       publisher  \\\n",
       "187689  1995.0  Edinburgh Financial Publishing   \n",
       "\n",
       "                                                  image-m  \n",
       "187689  http://images.amazon.com/images/P/9627982032.0...  "
      ]
     },
     "execution_count": 20,
     "metadata": {},
     "output_type": "execute_result"
    }
   ],
   "source": [
    "book.loc[(book.publisher == 'Edinburgh Financial Publishing'),:]"
   ]
  },
  {
   "cell_type": "markdown",
   "id": "37abf893",
   "metadata": {},
   "source": [
    "## Users Dataset"
   ]
  },
  {
   "cell_type": "code",
   "execution_count": 21,
   "id": "d57330ee",
   "metadata": {},
   "outputs": [],
   "source": [
    "user=pd.read_csv('Users.csv')"
   ]
  },
  {
   "cell_type": "code",
   "execution_count": 22,
   "id": "485fa2ee",
   "metadata": {},
   "outputs": [],
   "source": [
    "user.rename(columns = {'User-ID':'userid', 'Location':'location', 'Age':'age'}, inplace=True)"
   ]
  },
  {
   "cell_type": "code",
   "execution_count": 23,
   "id": "b0649bac",
   "metadata": {},
   "outputs": [
    {
     "data": {
      "text/html": [
       "<div>\n",
       "<style scoped>\n",
       "    .dataframe tbody tr th:only-of-type {\n",
       "        vertical-align: middle;\n",
       "    }\n",
       "\n",
       "    .dataframe tbody tr th {\n",
       "        vertical-align: top;\n",
       "    }\n",
       "\n",
       "    .dataframe thead th {\n",
       "        text-align: right;\n",
       "    }\n",
       "</style>\n",
       "<table border=\"1\" class=\"dataframe\">\n",
       "  <thead>\n",
       "    <tr style=\"text-align: right;\">\n",
       "      <th></th>\n",
       "      <th>location</th>\n",
       "    </tr>\n",
       "  </thead>\n",
       "  <tbody>\n",
       "    <tr>\n",
       "      <th>usa</th>\n",
       "      <td>139711</td>\n",
       "    </tr>\n",
       "    <tr>\n",
       "      <th>canada</th>\n",
       "      <td>21658</td>\n",
       "    </tr>\n",
       "    <tr>\n",
       "      <th>united kingdom</th>\n",
       "      <td>18538</td>\n",
       "    </tr>\n",
       "    <tr>\n",
       "      <th>germany</th>\n",
       "      <td>17043</td>\n",
       "    </tr>\n",
       "    <tr>\n",
       "      <th>spain</th>\n",
       "      <td>13147</td>\n",
       "    </tr>\n",
       "    <tr>\n",
       "      <th>australia</th>\n",
       "      <td>11784</td>\n",
       "    </tr>\n",
       "    <tr>\n",
       "      <th>italy</th>\n",
       "      <td>11266</td>\n",
       "    </tr>\n",
       "    <tr>\n",
       "      <th></th>\n",
       "      <td>4578</td>\n",
       "    </tr>\n",
       "    <tr>\n",
       "      <th>france</th>\n",
       "      <td>3455</td>\n",
       "    </tr>\n",
       "    <tr>\n",
       "      <th>portugal</th>\n",
       "      <td>3325</td>\n",
       "    </tr>\n",
       "  </tbody>\n",
       "</table>\n",
       "</div>"
      ],
      "text/plain": [
       "                 location\n",
       " usa               139711\n",
       " canada             21658\n",
       " united kingdom     18538\n",
       " germany            17043\n",
       " spain              13147\n",
       " australia          11784\n",
       " italy              11266\n",
       "                     4578\n",
       " france              3455\n",
       " portugal            3325"
      ]
     },
     "execution_count": 23,
     "metadata": {},
     "output_type": "execute_result"
    }
   ],
   "source": [
    "user['location'] = user['location'].apply(lambda row: str(row).split(',')[-1])\n",
    "user['location'].value_counts().to_frame().head(10)"
   ]
  },
  {
   "cell_type": "code",
   "execution_count": 24,
   "id": "74f3ff20",
   "metadata": {},
   "outputs": [
    {
     "data": {
      "text/html": [
       "<div>\n",
       "<style scoped>\n",
       "    .dataframe tbody tr th:only-of-type {\n",
       "        vertical-align: middle;\n",
       "    }\n",
       "\n",
       "    .dataframe tbody tr th {\n",
       "        vertical-align: top;\n",
       "    }\n",
       "\n",
       "    .dataframe thead th {\n",
       "        text-align: right;\n",
       "    }\n",
       "</style>\n",
       "<table border=\"1\" class=\"dataframe\">\n",
       "  <thead>\n",
       "    <tr style=\"text-align: right;\">\n",
       "      <th></th>\n",
       "      <th>userid</th>\n",
       "      <th>location</th>\n",
       "      <th>age</th>\n",
       "    </tr>\n",
       "  </thead>\n",
       "  <tbody>\n",
       "    <tr>\n",
       "      <th>0</th>\n",
       "      <td>1</td>\n",
       "      <td>usa</td>\n",
       "      <td>NaN</td>\n",
       "    </tr>\n",
       "    <tr>\n",
       "      <th>1</th>\n",
       "      <td>2</td>\n",
       "      <td>usa</td>\n",
       "      <td>18.0</td>\n",
       "    </tr>\n",
       "    <tr>\n",
       "      <th>2</th>\n",
       "      <td>3</td>\n",
       "      <td>russia</td>\n",
       "      <td>NaN</td>\n",
       "    </tr>\n",
       "    <tr>\n",
       "      <th>3</th>\n",
       "      <td>4</td>\n",
       "      <td>portugal</td>\n",
       "      <td>17.0</td>\n",
       "    </tr>\n",
       "    <tr>\n",
       "      <th>4</th>\n",
       "      <td>5</td>\n",
       "      <td>united kingdom</td>\n",
       "      <td>NaN</td>\n",
       "    </tr>\n",
       "    <tr>\n",
       "      <th>...</th>\n",
       "      <td>...</td>\n",
       "      <td>...</td>\n",
       "      <td>...</td>\n",
       "    </tr>\n",
       "    <tr>\n",
       "      <th>278853</th>\n",
       "      <td>278854</td>\n",
       "      <td>usa</td>\n",
       "      <td>NaN</td>\n",
       "    </tr>\n",
       "    <tr>\n",
       "      <th>278854</th>\n",
       "      <td>278855</td>\n",
       "      <td>united kingdom</td>\n",
       "      <td>50.0</td>\n",
       "    </tr>\n",
       "    <tr>\n",
       "      <th>278855</th>\n",
       "      <td>278856</td>\n",
       "      <td>canada</td>\n",
       "      <td>NaN</td>\n",
       "    </tr>\n",
       "    <tr>\n",
       "      <th>278856</th>\n",
       "      <td>278857</td>\n",
       "      <td>usa</td>\n",
       "      <td>NaN</td>\n",
       "    </tr>\n",
       "    <tr>\n",
       "      <th>278857</th>\n",
       "      <td>278858</td>\n",
       "      <td>ireland</td>\n",
       "      <td>NaN</td>\n",
       "    </tr>\n",
       "  </tbody>\n",
       "</table>\n",
       "<p>278858 rows × 3 columns</p>\n",
       "</div>"
      ],
      "text/plain": [
       "        userid         location   age\n",
       "0            1              usa   NaN\n",
       "1            2              usa  18.0\n",
       "2            3           russia   NaN\n",
       "3            4         portugal  17.0\n",
       "4            5   united kingdom   NaN\n",
       "...        ...              ...   ...\n",
       "278853  278854              usa   NaN\n",
       "278854  278855   united kingdom  50.0\n",
       "278855  278856           canada   NaN\n",
       "278856  278857              usa   NaN\n",
       "278857  278858          ireland   NaN\n",
       "\n",
       "[278858 rows x 3 columns]"
      ]
     },
     "execution_count": 24,
     "metadata": {},
     "output_type": "execute_result"
    }
   ],
   "source": [
    "user"
   ]
  },
  {
   "cell_type": "code",
   "execution_count": 25,
   "id": "ab5a974b",
   "metadata": {},
   "outputs": [],
   "source": [
    "user['location'].replace(['','01776','02458','19104','23232','30064','85021','87510','alachua','america','austria','autralia','cananda','geermany','italia','united kindgonm','united sates','united staes','united state','united states','us'],\n",
    "                           ['other','usa','usa','usa','usa','usa','usa','usa','usa','usa','australia','australia','canada','germany','italy','united kingdom','usa','usa','usa','usa','usa'],inplace=True)"
   ]
  },
  {
   "cell_type": "code",
   "execution_count": 26,
   "id": "725af439",
   "metadata": {},
   "outputs": [],
   "source": [
    "user.loc[(user.age > 85) | (user.age < 10), 'age'] = np.nan"
   ]
  },
  {
   "cell_type": "code",
   "execution_count": 27,
   "id": "65ee9944",
   "metadata": {},
   "outputs": [
    {
     "data": {
      "text/plain": [
       "<AxesSubplot:>"
      ]
     },
     "execution_count": 27,
     "metadata": {},
     "output_type": "execute_result"
    },
    {
     "data": {
      "image/png": "[encoded data removed]",
      "text/plain": [
       "<Figure size 1000x700 with 1 Axes>"
      ]
     },
     "metadata": {},
     "output_type": "display_data"
    }
   ],
   "source": [
    "plt.figure(figsize=(10, 7))\n",
    "user.age.hist(bins=40, color='teal')"
   ]
  },
  {
   "cell_type": "code",
   "execution_count": 28,
   "id": "bec61833",
   "metadata": {},
   "outputs": [],
   "source": [
    "user.age = user.age.fillna(user.age.mean())"
   ]
  },
  {
   "cell_type": "code",
   "execution_count": 29,
   "id": "efe0862a",
   "metadata": {},
   "outputs": [],
   "source": [
    "user.age = user.age.astype(np.int32)"
   ]
  },
  {
   "cell_type": "code",
   "execution_count": 30,
   "id": "7c9ceb9b",
   "metadata": {
    "scrolled": true
   },
   "outputs": [
    {
     "data": {
      "text/plain": [
       "0"
      ]
     },
     "execution_count": 30,
     "metadata": {},
     "output_type": "execute_result"
    }
   ],
   "source": [
    "user['age'].isnull().sum()"
   ]
  },
  {
   "cell_type": "markdown",
   "id": "ddbddd7f",
   "metadata": {},
   "source": [
    "## Rating Dataset"
   ]
  },
  {
   "cell_type": "code",
   "execution_count": 31,
   "id": "8c2aabf4",
   "metadata": {},
   "outputs": [],
   "source": [
    "rating=pd.read_csv('Ratings.csv')"
   ]
  },
  {
   "cell_type": "code",
   "execution_count": 32,
   "id": "e0374d57",
   "metadata": {},
   "outputs": [
    {
     "data": {
      "text/html": [
       "<div>\n",
       "<style scoped>\n",
       "    .dataframe tbody tr th:only-of-type {\n",
       "        vertical-align: middle;\n",
       "    }\n",
       "\n",
       "    .dataframe tbody tr th {\n",
       "        vertical-align: top;\n",
       "    }\n",
       "\n",
       "    .dataframe thead th {\n",
       "        text-align: right;\n",
       "    }\n",
       "</style>\n",
       "<table border=\"1\" class=\"dataframe\">\n",
       "  <thead>\n",
       "    <tr style=\"text-align: right;\">\n",
       "      <th></th>\n",
       "      <th>User-ID</th>\n",
       "      <th>ISBN</th>\n",
       "      <th>Book-Rating</th>\n",
       "    </tr>\n",
       "  </thead>\n",
       "  <tbody>\n",
       "    <tr>\n",
       "      <th>0</th>\n",
       "      <td>276725</td>\n",
       "      <td>034545104X</td>\n",
       "      <td>0</td>\n",
       "    </tr>\n",
       "    <tr>\n",
       "      <th>1</th>\n",
       "      <td>276726</td>\n",
       "      <td>0155061224</td>\n",
       "      <td>5</td>\n",
       "    </tr>\n",
       "    <tr>\n",
       "      <th>2</th>\n",
       "      <td>276727</td>\n",
       "      <td>0446520802</td>\n",
       "      <td>0</td>\n",
       "    </tr>\n",
       "    <tr>\n",
       "      <th>3</th>\n",
       "      <td>276729</td>\n",
       "      <td>052165615X</td>\n",
       "      <td>3</td>\n",
       "    </tr>\n",
       "    <tr>\n",
       "      <th>4</th>\n",
       "      <td>276729</td>\n",
       "      <td>0521795028</td>\n",
       "      <td>6</td>\n",
       "    </tr>\n",
       "    <tr>\n",
       "      <th>...</th>\n",
       "      <td>...</td>\n",
       "      <td>...</td>\n",
       "      <td>...</td>\n",
       "    </tr>\n",
       "    <tr>\n",
       "      <th>1149775</th>\n",
       "      <td>276704</td>\n",
       "      <td>1563526298</td>\n",
       "      <td>9</td>\n",
       "    </tr>\n",
       "    <tr>\n",
       "      <th>1149776</th>\n",
       "      <td>276706</td>\n",
       "      <td>0679447156</td>\n",
       "      <td>0</td>\n",
       "    </tr>\n",
       "    <tr>\n",
       "      <th>1149777</th>\n",
       "      <td>276709</td>\n",
       "      <td>0515107662</td>\n",
       "      <td>10</td>\n",
       "    </tr>\n",
       "    <tr>\n",
       "      <th>1149778</th>\n",
       "      <td>276721</td>\n",
       "      <td>0590442449</td>\n",
       "      <td>10</td>\n",
       "    </tr>\n",
       "    <tr>\n",
       "      <th>1149779</th>\n",
       "      <td>276723</td>\n",
       "      <td>05162443314</td>\n",
       "      <td>8</td>\n",
       "    </tr>\n",
       "  </tbody>\n",
       "</table>\n",
       "<p>1149780 rows × 3 columns</p>\n",
       "</div>"
      ],
      "text/plain": [
       "         User-ID         ISBN  Book-Rating\n",
       "0         276725   034545104X            0\n",
       "1         276726   0155061224            5\n",
       "2         276727   0446520802            0\n",
       "3         276729   052165615X            3\n",
       "4         276729   0521795028            6\n",
       "...          ...          ...          ...\n",
       "1149775   276704   1563526298            9\n",
       "1149776   276706   0679447156            0\n",
       "1149777   276709   0515107662           10\n",
       "1149778   276721   0590442449           10\n",
       "1149779   276723  05162443314            8\n",
       "\n",
       "[1149780 rows x 3 columns]"
      ]
     },
     "execution_count": 32,
     "metadata": {},
     "output_type": "execute_result"
    }
   ],
   "source": [
    "rating"
   ]
  },
  {
   "cell_type": "code",
   "execution_count": 33,
   "id": "c245b1f3",
   "metadata": {},
   "outputs": [],
   "source": [
    "rating.rename(columns = {'User-ID':'userid', 'Book-Rating':'bookrating'}, inplace=True)"
   ]
  },
  {
   "cell_type": "markdown",
   "id": "1d435bd4",
   "metadata": {},
   "source": [
    "## Collaborative Filtering Based Recommender System"
   ]
  },
  {
   "cell_type": "code",
   "execution_count": 34,
   "id": "22d75506",
   "metadata": {},
   "outputs": [
    {
     "data": {
      "text/html": [
       "<div>\n",
       "<style scoped>\n",
       "    .dataframe tbody tr th:only-of-type {\n",
       "        vertical-align: middle;\n",
       "    }\n",
       "\n",
       "    .dataframe tbody tr th {\n",
       "        vertical-align: top;\n",
       "    }\n",
       "\n",
       "    .dataframe thead th {\n",
       "        text-align: right;\n",
       "    }\n",
       "</style>\n",
       "<table border=\"1\" class=\"dataframe\">\n",
       "  <thead>\n",
       "    <tr style=\"text-align: right;\">\n",
       "      <th></th>\n",
       "      <th>userid</th>\n",
       "      <th>ISBN</th>\n",
       "      <th>bookrating</th>\n",
       "      <th>title</th>\n",
       "      <th>author</th>\n",
       "      <th>year</th>\n",
       "      <th>publisher</th>\n",
       "      <th>image-m</th>\n",
       "      <th>location</th>\n",
       "      <th>age</th>\n",
       "    </tr>\n",
       "  </thead>\n",
       "  <tbody>\n",
       "    <tr>\n",
       "      <th>0</th>\n",
       "      <td>276725</td>\n",
       "      <td>034545104X</td>\n",
       "      <td>0</td>\n",
       "      <td>Flesh Tones: A Novel</td>\n",
       "      <td>M. J. Rose</td>\n",
       "      <td>2002.0</td>\n",
       "      <td>Ballantine Books</td>\n",
       "      <td>http://images.amazon.com/images/P/034545104X.0...</td>\n",
       "      <td>usa</td>\n",
       "      <td>34</td>\n",
       "    </tr>\n",
       "    <tr>\n",
       "      <th>1</th>\n",
       "      <td>2313</td>\n",
       "      <td>034545104X</td>\n",
       "      <td>5</td>\n",
       "      <td>Flesh Tones: A Novel</td>\n",
       "      <td>M. J. Rose</td>\n",
       "      <td>2002.0</td>\n",
       "      <td>Ballantine Books</td>\n",
       "      <td>http://images.amazon.com/images/P/034545104X.0...</td>\n",
       "      <td>usa</td>\n",
       "      <td>23</td>\n",
       "    </tr>\n",
       "    <tr>\n",
       "      <th>2</th>\n",
       "      <td>2313</td>\n",
       "      <td>0812533550</td>\n",
       "      <td>9</td>\n",
       "      <td>Ender's Game (Ender Wiggins Saga (Paperback))</td>\n",
       "      <td>Orson Scott Card</td>\n",
       "      <td>1986.0</td>\n",
       "      <td>Tor Books</td>\n",
       "      <td>http://images.amazon.com/images/P/0812533550.0...</td>\n",
       "      <td>usa</td>\n",
       "      <td>23</td>\n",
       "    </tr>\n",
       "    <tr>\n",
       "      <th>3</th>\n",
       "      <td>2313</td>\n",
       "      <td>0679745580</td>\n",
       "      <td>8</td>\n",
       "      <td>In Cold Blood (Vintage International)</td>\n",
       "      <td>TRUMAN CAPOTE</td>\n",
       "      <td>1994.0</td>\n",
       "      <td>Vintage</td>\n",
       "      <td>http://images.amazon.com/images/P/0679745580.0...</td>\n",
       "      <td>usa</td>\n",
       "      <td>23</td>\n",
       "    </tr>\n",
       "    <tr>\n",
       "      <th>4</th>\n",
       "      <td>2313</td>\n",
       "      <td>0060173289</td>\n",
       "      <td>9</td>\n",
       "      <td>Divine Secrets of the Ya-Ya Sisterhood : A Novel</td>\n",
       "      <td>Rebecca Wells</td>\n",
       "      <td>1996.0</td>\n",
       "      <td>HarperCollins</td>\n",
       "      <td>http://images.amazon.com/images/P/0060173289.0...</td>\n",
       "      <td>usa</td>\n",
       "      <td>23</td>\n",
       "    </tr>\n",
       "  </tbody>\n",
       "</table>\n",
       "</div>"
      ],
      "text/plain": [
       "   userid        ISBN  bookrating  \\\n",
       "0  276725  034545104X           0   \n",
       "1    2313  034545104X           5   \n",
       "2    2313  0812533550           9   \n",
       "3    2313  0679745580           8   \n",
       "4    2313  0060173289           9   \n",
       "\n",
       "                                              title            author    year  \\\n",
       "0                              Flesh Tones: A Novel        M. J. Rose  2002.0   \n",
       "1                              Flesh Tones: A Novel        M. J. Rose  2002.0   \n",
       "2     Ender's Game (Ender Wiggins Saga (Paperback))  Orson Scott Card  1986.0   \n",
       "3             In Cold Blood (Vintage International)     TRUMAN CAPOTE  1994.0   \n",
       "4  Divine Secrets of the Ya-Ya Sisterhood : A Novel     Rebecca Wells  1996.0   \n",
       "\n",
       "          publisher                                            image-m  \\\n",
       "0  Ballantine Books  http://images.amazon.com/images/P/034545104X.0...   \n",
       "1  Ballantine Books  http://images.amazon.com/images/P/034545104X.0...   \n",
       "2         Tor Books  http://images.amazon.com/images/P/0812533550.0...   \n",
       "3           Vintage  http://images.amazon.com/images/P/0679745580.0...   \n",
       "4     HarperCollins  http://images.amazon.com/images/P/0060173289.0...   \n",
       "\n",
       "  location  age  \n",
       "0      usa   34  \n",
       "1      usa   23  \n",
       "2      usa   23  \n",
       "3      usa   23  \n",
       "4      usa   23  "
      ]
     },
     "execution_count": 34,
     "metadata": {},
     "output_type": "execute_result"
    }
   ],
   "source": [
    "ratings_merged=rating.merge(book,on='ISBN')\n",
    "ratings_merged = ratings_merged.merge(user,on='userid')\n",
    "\n",
    "ratings_merged.head()"
   ]
  },
  {
   "cell_type": "code",
   "execution_count": 38,
   "id": "0e331f11",
   "metadata": {},
   "outputs": [],
   "source": [
    "x=ratings_merged.groupby('userid').count()['bookrating']>100            # userid with rating >100\n",
    "user_rated=x[x].index      # # userid with rating >100\n",
    "\n",
    "rated_filter=ratings_merged[ratings_merged['userid'].isin(user_rated)]\n",
    "\n",
    "y=rated_filter.groupby('title').count()['bookrating']>50               # books with rating given by more than 50 users\n",
    "rated_books=y[y].index"
   ]
  },
  {
   "cell_type": "code",
   "execution_count": 39,
   "id": "8ab25b29",
   "metadata": {},
   "outputs": [
    {
     "data": {
      "text/html": [
       "<div>\n",
       "<style scoped>\n",
       "    .dataframe tbody tr th:only-of-type {\n",
       "        vertical-align: middle;\n",
       "    }\n",
       "\n",
       "    .dataframe tbody tr th {\n",
       "        vertical-align: top;\n",
       "    }\n",
       "\n",
       "    .dataframe thead th {\n",
       "        text-align: right;\n",
       "    }\n",
       "</style>\n",
       "<table border=\"1\" class=\"dataframe\">\n",
       "  <thead>\n",
       "    <tr style=\"text-align: right;\">\n",
       "      <th></th>\n",
       "      <th>userid</th>\n",
       "      <th>ISBN</th>\n",
       "      <th>bookrating</th>\n",
       "      <th>title</th>\n",
       "      <th>author</th>\n",
       "      <th>year</th>\n",
       "      <th>publisher</th>\n",
       "      <th>image-m</th>\n",
       "      <th>location</th>\n",
       "      <th>age</th>\n",
       "    </tr>\n",
       "  </thead>\n",
       "  <tbody>\n",
       "    <tr>\n",
       "      <th>38</th>\n",
       "      <td>6543</td>\n",
       "      <td>0316666343</td>\n",
       "      <td>0</td>\n",
       "      <td>The Lovely Bones: A Novel</td>\n",
       "      <td>Alice Sebold</td>\n",
       "      <td>2002.0</td>\n",
       "      <td>Little, Brown</td>\n",
       "      <td>http://images.amazon.com/images/P/0316666343.0...</td>\n",
       "      <td>usa</td>\n",
       "      <td>34</td>\n",
       "    </tr>\n",
       "    <tr>\n",
       "      <th>39</th>\n",
       "      <td>6543</td>\n",
       "      <td>0385504209</td>\n",
       "      <td>0</td>\n",
       "      <td>The Da Vinci Code</td>\n",
       "      <td>Dan Brown</td>\n",
       "      <td>2003.0</td>\n",
       "      <td>Doubleday</td>\n",
       "      <td>http://images.amazon.com/images/P/0385504209.0...</td>\n",
       "      <td>usa</td>\n",
       "      <td>34</td>\n",
       "    </tr>\n",
       "    <tr>\n",
       "      <th>40</th>\n",
       "      <td>6543</td>\n",
       "      <td>0971880107</td>\n",
       "      <td>0</td>\n",
       "      <td>Wild Animus</td>\n",
       "      <td>Rich Shapero</td>\n",
       "      <td>2004.0</td>\n",
       "      <td>Too Far</td>\n",
       "      <td>http://images.amazon.com/images/P/0971880107.0...</td>\n",
       "      <td>usa</td>\n",
       "      <td>34</td>\n",
       "    </tr>\n",
       "    <tr>\n",
       "      <th>41</th>\n",
       "      <td>6543</td>\n",
       "      <td>0312966970</td>\n",
       "      <td>0</td>\n",
       "      <td>Four To Score (A Stephanie Plum Novel)</td>\n",
       "      <td>Janet Evanovich</td>\n",
       "      <td>1999.0</td>\n",
       "      <td>St. Martin's Paperbacks</td>\n",
       "      <td>http://images.amazon.com/images/P/0312966970.0...</td>\n",
       "      <td>usa</td>\n",
       "      <td>34</td>\n",
       "    </tr>\n",
       "    <tr>\n",
       "      <th>43</th>\n",
       "      <td>6543</td>\n",
       "      <td>0446605484</td>\n",
       "      <td>10</td>\n",
       "      <td>Roses Are Red (Alex Cross Novels)</td>\n",
       "      <td>James Patterson</td>\n",
       "      <td>2001.0</td>\n",
       "      <td>Warner Vision</td>\n",
       "      <td>http://images.amazon.com/images/P/0446605484.0...</td>\n",
       "      <td>usa</td>\n",
       "      <td>34</td>\n",
       "    </tr>\n",
       "    <tr>\n",
       "      <th>...</th>\n",
       "      <td>...</td>\n",
       "      <td>...</td>\n",
       "      <td>...</td>\n",
       "      <td>...</td>\n",
       "      <td>...</td>\n",
       "      <td>...</td>\n",
       "      <td>...</td>\n",
       "      <td>...</td>\n",
       "      <td>...</td>\n",
       "      <td>...</td>\n",
       "    </tr>\n",
       "    <tr>\n",
       "      <th>908968</th>\n",
       "      <td>155463</td>\n",
       "      <td>0425074986</td>\n",
       "      <td>0</td>\n",
       "      <td>Dune Messiah (Dune Chronicles, Book 2)</td>\n",
       "      <td>Frank Herbert</td>\n",
       "      <td>1984.0</td>\n",
       "      <td>Penguin Putnam~mass</td>\n",
       "      <td>http://images.amazon.com/images/P/0425074986.0...</td>\n",
       "      <td>usa</td>\n",
       "      <td>38</td>\n",
       "    </tr>\n",
       "    <tr>\n",
       "      <th>910281</th>\n",
       "      <td>148966</td>\n",
       "      <td>0425148297</td>\n",
       "      <td>5</td>\n",
       "      <td>Naked in Death</td>\n",
       "      <td>J. D. Robb</td>\n",
       "      <td>2004.0</td>\n",
       "      <td>Berkley Publishing Group</td>\n",
       "      <td>http://images.amazon.com/images/P/0425148297.0...</td>\n",
       "      <td>usa</td>\n",
       "      <td>35</td>\n",
       "    </tr>\n",
       "    <tr>\n",
       "      <th>919658</th>\n",
       "      <td>86947</td>\n",
       "      <td>080523747X</td>\n",
       "      <td>10</td>\n",
       "      <td>Masquerade</td>\n",
       "      <td>Kit Williams</td>\n",
       "      <td>1984.0</td>\n",
       "      <td>Schocken Books</td>\n",
       "      <td>http://images.amazon.com/images/P/080523747X.0...</td>\n",
       "      <td>usa</td>\n",
       "      <td>71</td>\n",
       "    </tr>\n",
       "    <tr>\n",
       "      <th>935415</th>\n",
       "      <td>240543</td>\n",
       "      <td>0385424728</td>\n",
       "      <td>6</td>\n",
       "      <td>The Chamber</td>\n",
       "      <td>John Grisham</td>\n",
       "      <td>1994.0</td>\n",
       "      <td>Doubleday Books</td>\n",
       "      <td>http://images.amazon.com/images/P/0385424728.0...</td>\n",
       "      <td>usa</td>\n",
       "      <td>67</td>\n",
       "    </tr>\n",
       "    <tr>\n",
       "      <th>935417</th>\n",
       "      <td>240543</td>\n",
       "      <td>038001503X</td>\n",
       "      <td>10</td>\n",
       "      <td>One Hundred Years of Solitude</td>\n",
       "      <td>Gabriel Garcia Marquez</td>\n",
       "      <td>1970.0</td>\n",
       "      <td>Avon Books</td>\n",
       "      <td>http://images.amazon.com/images/P/038001503X.0...</td>\n",
       "      <td>usa</td>\n",
       "      <td>67</td>\n",
       "    </tr>\n",
       "  </tbody>\n",
       "</table>\n",
       "<p>95790 rows × 10 columns</p>\n",
       "</div>"
      ],
      "text/plain": [
       "        userid        ISBN  bookrating  \\\n",
       "38        6543  0316666343           0   \n",
       "39        6543  0385504209           0   \n",
       "40        6543  0971880107           0   \n",
       "41        6543  0312966970           0   \n",
       "43        6543  0446605484          10   \n",
       "...        ...         ...         ...   \n",
       "908968  155463  0425074986           0   \n",
       "910281  148966  0425148297           5   \n",
       "919658   86947  080523747X          10   \n",
       "935415  240543  0385424728           6   \n",
       "935417  240543  038001503X          10   \n",
       "\n",
       "                                         title                  author  \\\n",
       "38                   The Lovely Bones: A Novel            Alice Sebold   \n",
       "39                           The Da Vinci Code               Dan Brown   \n",
       "40                                 Wild Animus            Rich Shapero   \n",
       "41      Four To Score (A Stephanie Plum Novel)         Janet Evanovich   \n",
       "43           Roses Are Red (Alex Cross Novels)         James Patterson   \n",
       "...                                        ...                     ...   \n",
       "908968  Dune Messiah (Dune Chronicles, Book 2)           Frank Herbert   \n",
       "910281                          Naked in Death              J. D. Robb   \n",
       "919658                              Masquerade            Kit Williams   \n",
       "935415                             The Chamber            John Grisham   \n",
       "935417           One Hundred Years of Solitude  Gabriel Garcia Marquez   \n",
       "\n",
       "          year                 publisher  \\\n",
       "38      2002.0             Little, Brown   \n",
       "39      2003.0                 Doubleday   \n",
       "40      2004.0                   Too Far   \n",
       "41      1999.0   St. Martin's Paperbacks   \n",
       "43      2001.0             Warner Vision   \n",
       "...        ...                       ...   \n",
       "908968  1984.0       Penguin Putnam~mass   \n",
       "910281  2004.0  Berkley Publishing Group   \n",
       "919658  1984.0            Schocken Books   \n",
       "935415  1994.0           Doubleday Books   \n",
       "935417  1970.0                Avon Books   \n",
       "\n",
       "                                                  image-m location  age  \n",
       "38      http://images.amazon.com/images/P/0316666343.0...      usa   34  \n",
       "39      http://images.amazon.com/images/P/0385504209.0...      usa   34  \n",
       "40      http://images.amazon.com/images/P/0971880107.0...      usa   34  \n",
       "41      http://images.amazon.com/images/P/0312966970.0...      usa   34  \n",
       "43      http://images.amazon.com/images/P/0446605484.0...      usa   34  \n",
       "...                                                   ...      ...  ...  \n",
       "908968  http://images.amazon.com/images/P/0425074986.0...      usa   38  \n",
       "910281  http://images.amazon.com/images/P/0425148297.0...      usa   35  \n",
       "919658  http://images.amazon.com/images/P/080523747X.0...      usa   71  \n",
       "935415  http://images.amazon.com/images/P/0385424728.0...      usa   67  \n",
       "935417  http://images.amazon.com/images/P/038001503X.0...      usa   67  \n",
       "\n",
       "[95790 rows x 10 columns]"
      ]
     },
     "execution_count": 39,
     "metadata": {},
     "output_type": "execute_result"
    }
   ],
   "source": [
    "final_ratings= rated_filter[rated_filter['title'].isin(rated_books)]\n",
    "final_ratings"
   ]
  },
  {
   "cell_type": "code",
   "execution_count": 40,
   "id": "27a278c3",
   "metadata": {},
   "outputs": [
    {
     "data": {
      "text/html": [
       "<div>\n",
       "<style scoped>\n",
       "    .dataframe tbody tr th:only-of-type {\n",
       "        vertical-align: middle;\n",
       "    }\n",
       "\n",
       "    .dataframe tbody tr th {\n",
       "        vertical-align: top;\n",
       "    }\n",
       "\n",
       "    .dataframe thead th {\n",
       "        text-align: right;\n",
       "    }\n",
       "</style>\n",
       "<table border=\"1\" class=\"dataframe\">\n",
       "  <thead>\n",
       "    <tr style=\"text-align: right;\">\n",
       "      <th>userid</th>\n",
       "      <th>254</th>\n",
       "      <th>507</th>\n",
       "      <th>882</th>\n",
       "      <th>1424</th>\n",
       "      <th>1435</th>\n",
       "      <th>1733</th>\n",
       "      <th>1903</th>\n",
       "      <th>2033</th>\n",
       "      <th>2110</th>\n",
       "      <th>2276</th>\n",
       "      <th>...</th>\n",
       "      <th>275020</th>\n",
       "      <th>275970</th>\n",
       "      <th>276463</th>\n",
       "      <th>276680</th>\n",
       "      <th>277427</th>\n",
       "      <th>277478</th>\n",
       "      <th>277639</th>\n",
       "      <th>278137</th>\n",
       "      <th>278188</th>\n",
       "      <th>278418</th>\n",
       "    </tr>\n",
       "    <tr>\n",
       "      <th>title</th>\n",
       "      <th></th>\n",
       "      <th></th>\n",
       "      <th></th>\n",
       "      <th></th>\n",
       "      <th></th>\n",
       "      <th></th>\n",
       "      <th></th>\n",
       "      <th></th>\n",
       "      <th></th>\n",
       "      <th></th>\n",
       "      <th></th>\n",
       "      <th></th>\n",
       "      <th></th>\n",
       "      <th></th>\n",
       "      <th></th>\n",
       "      <th></th>\n",
       "      <th></th>\n",
       "      <th></th>\n",
       "      <th></th>\n",
       "      <th></th>\n",
       "      <th></th>\n",
       "    </tr>\n",
       "  </thead>\n",
       "  <tbody>\n",
       "    <tr>\n",
       "      <th>1984</th>\n",
       "      <td>9.0</td>\n",
       "      <td>0.0</td>\n",
       "      <td>0.0</td>\n",
       "      <td>0.0</td>\n",
       "      <td>0.0</td>\n",
       "      <td>0.0</td>\n",
       "      <td>0.0</td>\n",
       "      <td>0.0</td>\n",
       "      <td>0.0</td>\n",
       "      <td>0.0</td>\n",
       "      <td>...</td>\n",
       "      <td>0.0</td>\n",
       "      <td>0.0</td>\n",
       "      <td>0.0</td>\n",
       "      <td>0.0</td>\n",
       "      <td>0.0</td>\n",
       "      <td>0.0</td>\n",
       "      <td>0.0</td>\n",
       "      <td>0.0</td>\n",
       "      <td>0.0</td>\n",
       "      <td>0.0</td>\n",
       "    </tr>\n",
       "    <tr>\n",
       "      <th>1st to Die: A Novel</th>\n",
       "      <td>0.0</td>\n",
       "      <td>0.0</td>\n",
       "      <td>0.0</td>\n",
       "      <td>0.0</td>\n",
       "      <td>0.0</td>\n",
       "      <td>0.0</td>\n",
       "      <td>0.0</td>\n",
       "      <td>0.0</td>\n",
       "      <td>0.0</td>\n",
       "      <td>0.0</td>\n",
       "      <td>...</td>\n",
       "      <td>0.0</td>\n",
       "      <td>0.0</td>\n",
       "      <td>0.0</td>\n",
       "      <td>0.0</td>\n",
       "      <td>0.0</td>\n",
       "      <td>0.0</td>\n",
       "      <td>0.0</td>\n",
       "      <td>0.0</td>\n",
       "      <td>0.0</td>\n",
       "      <td>0.0</td>\n",
       "    </tr>\n",
       "    <tr>\n",
       "      <th>2010: Odyssey Two</th>\n",
       "      <td>0.0</td>\n",
       "      <td>0.0</td>\n",
       "      <td>0.0</td>\n",
       "      <td>0.0</td>\n",
       "      <td>0.0</td>\n",
       "      <td>0.0</td>\n",
       "      <td>0.0</td>\n",
       "      <td>0.0</td>\n",
       "      <td>0.0</td>\n",
       "      <td>0.0</td>\n",
       "      <td>...</td>\n",
       "      <td>0.0</td>\n",
       "      <td>0.0</td>\n",
       "      <td>0.0</td>\n",
       "      <td>0.0</td>\n",
       "      <td>0.0</td>\n",
       "      <td>0.0</td>\n",
       "      <td>0.0</td>\n",
       "      <td>0.0</td>\n",
       "      <td>0.0</td>\n",
       "      <td>0.0</td>\n",
       "    </tr>\n",
       "    <tr>\n",
       "      <th>24 Hours</th>\n",
       "      <td>0.0</td>\n",
       "      <td>0.0</td>\n",
       "      <td>0.0</td>\n",
       "      <td>0.0</td>\n",
       "      <td>0.0</td>\n",
       "      <td>0.0</td>\n",
       "      <td>0.0</td>\n",
       "      <td>0.0</td>\n",
       "      <td>0.0</td>\n",
       "      <td>0.0</td>\n",
       "      <td>...</td>\n",
       "      <td>0.0</td>\n",
       "      <td>0.0</td>\n",
       "      <td>0.0</td>\n",
       "      <td>0.0</td>\n",
       "      <td>10.0</td>\n",
       "      <td>0.0</td>\n",
       "      <td>0.0</td>\n",
       "      <td>0.0</td>\n",
       "      <td>0.0</td>\n",
       "      <td>0.0</td>\n",
       "    </tr>\n",
       "    <tr>\n",
       "      <th>2nd Chance</th>\n",
       "      <td>0.0</td>\n",
       "      <td>0.0</td>\n",
       "      <td>0.0</td>\n",
       "      <td>0.0</td>\n",
       "      <td>0.0</td>\n",
       "      <td>0.0</td>\n",
       "      <td>0.0</td>\n",
       "      <td>0.0</td>\n",
       "      <td>0.0</td>\n",
       "      <td>10.0</td>\n",
       "      <td>...</td>\n",
       "      <td>0.0</td>\n",
       "      <td>0.0</td>\n",
       "      <td>0.0</td>\n",
       "      <td>0.0</td>\n",
       "      <td>0.0</td>\n",
       "      <td>0.0</td>\n",
       "      <td>0.0</td>\n",
       "      <td>0.0</td>\n",
       "      <td>0.0</td>\n",
       "      <td>0.0</td>\n",
       "    </tr>\n",
       "    <tr>\n",
       "      <th>...</th>\n",
       "      <td>...</td>\n",
       "      <td>...</td>\n",
       "      <td>...</td>\n",
       "      <td>...</td>\n",
       "      <td>...</td>\n",
       "      <td>...</td>\n",
       "      <td>...</td>\n",
       "      <td>...</td>\n",
       "      <td>...</td>\n",
       "      <td>...</td>\n",
       "      <td>...</td>\n",
       "      <td>...</td>\n",
       "      <td>...</td>\n",
       "      <td>...</td>\n",
       "      <td>...</td>\n",
       "      <td>...</td>\n",
       "      <td>...</td>\n",
       "      <td>...</td>\n",
       "      <td>...</td>\n",
       "      <td>...</td>\n",
       "      <td>...</td>\n",
       "    </tr>\n",
       "    <tr>\n",
       "      <th>Year of Wonders</th>\n",
       "      <td>0.0</td>\n",
       "      <td>0.0</td>\n",
       "      <td>0.0</td>\n",
       "      <td>7.0</td>\n",
       "      <td>0.0</td>\n",
       "      <td>0.0</td>\n",
       "      <td>0.0</td>\n",
       "      <td>0.0</td>\n",
       "      <td>0.0</td>\n",
       "      <td>0.0</td>\n",
       "      <td>...</td>\n",
       "      <td>0.0</td>\n",
       "      <td>0.0</td>\n",
       "      <td>0.0</td>\n",
       "      <td>0.0</td>\n",
       "      <td>0.0</td>\n",
       "      <td>0.0</td>\n",
       "      <td>0.0</td>\n",
       "      <td>0.0</td>\n",
       "      <td>0.0</td>\n",
       "      <td>0.0</td>\n",
       "    </tr>\n",
       "    <tr>\n",
       "      <th>You Belong To Me</th>\n",
       "      <td>0.0</td>\n",
       "      <td>0.0</td>\n",
       "      <td>0.0</td>\n",
       "      <td>0.0</td>\n",
       "      <td>0.0</td>\n",
       "      <td>0.0</td>\n",
       "      <td>0.0</td>\n",
       "      <td>0.0</td>\n",
       "      <td>0.0</td>\n",
       "      <td>0.0</td>\n",
       "      <td>...</td>\n",
       "      <td>0.0</td>\n",
       "      <td>0.0</td>\n",
       "      <td>0.0</td>\n",
       "      <td>0.0</td>\n",
       "      <td>0.0</td>\n",
       "      <td>0.0</td>\n",
       "      <td>0.0</td>\n",
       "      <td>0.0</td>\n",
       "      <td>0.0</td>\n",
       "      <td>0.0</td>\n",
       "    </tr>\n",
       "    <tr>\n",
       "      <th>Zen and the Art of Motorcycle Maintenance: An Inquiry into Values</th>\n",
       "      <td>0.0</td>\n",
       "      <td>0.0</td>\n",
       "      <td>0.0</td>\n",
       "      <td>0.0</td>\n",
       "      <td>0.0</td>\n",
       "      <td>0.0</td>\n",
       "      <td>0.0</td>\n",
       "      <td>0.0</td>\n",
       "      <td>0.0</td>\n",
       "      <td>0.0</td>\n",
       "      <td>...</td>\n",
       "      <td>0.0</td>\n",
       "      <td>0.0</td>\n",
       "      <td>0.0</td>\n",
       "      <td>0.0</td>\n",
       "      <td>0.0</td>\n",
       "      <td>0.0</td>\n",
       "      <td>0.0</td>\n",
       "      <td>0.0</td>\n",
       "      <td>0.0</td>\n",
       "      <td>0.0</td>\n",
       "    </tr>\n",
       "    <tr>\n",
       "      <th>Zoya</th>\n",
       "      <td>0.0</td>\n",
       "      <td>0.0</td>\n",
       "      <td>0.0</td>\n",
       "      <td>0.0</td>\n",
       "      <td>0.0</td>\n",
       "      <td>0.0</td>\n",
       "      <td>0.0</td>\n",
       "      <td>0.0</td>\n",
       "      <td>0.0</td>\n",
       "      <td>0.0</td>\n",
       "      <td>...</td>\n",
       "      <td>0.0</td>\n",
       "      <td>0.0</td>\n",
       "      <td>0.0</td>\n",
       "      <td>0.0</td>\n",
       "      <td>0.0</td>\n",
       "      <td>0.0</td>\n",
       "      <td>0.0</td>\n",
       "      <td>0.0</td>\n",
       "      <td>0.0</td>\n",
       "      <td>0.0</td>\n",
       "    </tr>\n",
       "    <tr>\n",
       "      <th>\\O\\\" Is for Outlaw\"</th>\n",
       "      <td>0.0</td>\n",
       "      <td>0.0</td>\n",
       "      <td>0.0</td>\n",
       "      <td>0.0</td>\n",
       "      <td>0.0</td>\n",
       "      <td>0.0</td>\n",
       "      <td>0.0</td>\n",
       "      <td>0.0</td>\n",
       "      <td>0.0</td>\n",
       "      <td>0.0</td>\n",
       "      <td>...</td>\n",
       "      <td>0.0</td>\n",
       "      <td>0.0</td>\n",
       "      <td>0.0</td>\n",
       "      <td>0.0</td>\n",
       "      <td>0.0</td>\n",
       "      <td>0.0</td>\n",
       "      <td>0.0</td>\n",
       "      <td>0.0</td>\n",
       "      <td>0.0</td>\n",
       "      <td>0.0</td>\n",
       "    </tr>\n",
       "  </tbody>\n",
       "</table>\n",
       "<p>1035 rows × 1634 columns</p>\n",
       "</div>"
      ],
      "text/plain": [
       "userid                                              254     507     882     \\\n",
       "title                                                                        \n",
       "1984                                                   9.0     0.0     0.0   \n",
       "1st to Die: A Novel                                    0.0     0.0     0.0   \n",
       "2010: Odyssey Two                                      0.0     0.0     0.0   \n",
       "24 Hours                                               0.0     0.0     0.0   \n",
       "2nd Chance                                             0.0     0.0     0.0   \n",
       "...                                                    ...     ...     ...   \n",
       "Year of Wonders                                        0.0     0.0     0.0   \n",
       "You Belong To Me                                       0.0     0.0     0.0   \n",
       "Zen and the Art of Motorcycle Maintenance: An I...     0.0     0.0     0.0   \n",
       "Zoya                                                   0.0     0.0     0.0   \n",
       "\\O\\\" Is for Outlaw\"                                    0.0     0.0     0.0   \n",
       "\n",
       "userid                                              1424    1435    1733    \\\n",
       "title                                                                        \n",
       "1984                                                   0.0     0.0     0.0   \n",
       "1st to Die: A Novel                                    0.0     0.0     0.0   \n",
       "2010: Odyssey Two                                      0.0     0.0     0.0   \n",
       "24 Hours                                               0.0     0.0     0.0   \n",
       "2nd Chance                                             0.0     0.0     0.0   \n",
       "...                                                    ...     ...     ...   \n",
       "Year of Wonders                                        7.0     0.0     0.0   \n",
       "You Belong To Me                                       0.0     0.0     0.0   \n",
       "Zen and the Art of Motorcycle Maintenance: An I...     0.0     0.0     0.0   \n",
       "Zoya                                                   0.0     0.0     0.0   \n",
       "\\O\\\" Is for Outlaw\"                                    0.0     0.0     0.0   \n",
       "\n",
       "userid                                              1903    2033    2110    \\\n",
       "title                                                                        \n",
       "1984                                                   0.0     0.0     0.0   \n",
       "1st to Die: A Novel                                    0.0     0.0     0.0   \n",
       "2010: Odyssey Two                                      0.0     0.0     0.0   \n",
       "24 Hours                                               0.0     0.0     0.0   \n",
       "2nd Chance                                             0.0     0.0     0.0   \n",
       "...                                                    ...     ...     ...   \n",
       "Year of Wonders                                        0.0     0.0     0.0   \n",
       "You Belong To Me                                       0.0     0.0     0.0   \n",
       "Zen and the Art of Motorcycle Maintenance: An I...     0.0     0.0     0.0   \n",
       "Zoya                                                   0.0     0.0     0.0   \n",
       "\\O\\\" Is for Outlaw\"                                    0.0     0.0     0.0   \n",
       "\n",
       "userid                                              2276    ...  275020  \\\n",
       "title                                                       ...           \n",
       "1984                                                   0.0  ...     0.0   \n",
       "1st to Die: A Novel                                    0.0  ...     0.0   \n",
       "2010: Odyssey Two                                      0.0  ...     0.0   \n",
       "24 Hours                                               0.0  ...     0.0   \n",
       "2nd Chance                                            10.0  ...     0.0   \n",
       "...                                                    ...  ...     ...   \n",
       "Year of Wonders                                        0.0  ...     0.0   \n",
       "You Belong To Me                                       0.0  ...     0.0   \n",
       "Zen and the Art of Motorcycle Maintenance: An I...     0.0  ...     0.0   \n",
       "Zoya                                                   0.0  ...     0.0   \n",
       "\\O\\\" Is for Outlaw\"                                    0.0  ...     0.0   \n",
       "\n",
       "userid                                              275970  276463  276680  \\\n",
       "title                                                                        \n",
       "1984                                                   0.0     0.0     0.0   \n",
       "1st to Die: A Novel                                    0.0     0.0     0.0   \n",
       "2010: Odyssey Two                                      0.0     0.0     0.0   \n",
       "24 Hours                                               0.0     0.0     0.0   \n",
       "2nd Chance                                             0.0     0.0     0.0   \n",
       "...                                                    ...     ...     ...   \n",
       "Year of Wonders                                        0.0     0.0     0.0   \n",
       "You Belong To Me                                       0.0     0.0     0.0   \n",
       "Zen and the Art of Motorcycle Maintenance: An I...     0.0     0.0     0.0   \n",
       "Zoya                                                   0.0     0.0     0.0   \n",
       "\\O\\\" Is for Outlaw\"                                    0.0     0.0     0.0   \n",
       "\n",
       "userid                                              277427  277478  277639  \\\n",
       "title                                                                        \n",
       "1984                                                   0.0     0.0     0.0   \n",
       "1st to Die: A Novel                                    0.0     0.0     0.0   \n",
       "2010: Odyssey Two                                      0.0     0.0     0.0   \n",
       "24 Hours                                              10.0     0.0     0.0   \n",
       "2nd Chance                                             0.0     0.0     0.0   \n",
       "...                                                    ...     ...     ...   \n",
       "Year of Wonders                                        0.0     0.0     0.0   \n",
       "You Belong To Me                                       0.0     0.0     0.0   \n",
       "Zen and the Art of Motorcycle Maintenance: An I...     0.0     0.0     0.0   \n",
       "Zoya                                                   0.0     0.0     0.0   \n",
       "\\O\\\" Is for Outlaw\"                                    0.0     0.0     0.0   \n",
       "\n",
       "userid                                              278137  278188  278418  \n",
       "title                                                                       \n",
       "1984                                                   0.0     0.0     0.0  \n",
       "1st to Die: A Novel                                    0.0     0.0     0.0  \n",
       "2010: Odyssey Two                                      0.0     0.0     0.0  \n",
       "24 Hours                                               0.0     0.0     0.0  \n",
       "2nd Chance                                             0.0     0.0     0.0  \n",
       "...                                                    ...     ...     ...  \n",
       "Year of Wonders                                        0.0     0.0     0.0  \n",
       "You Belong To Me                                       0.0     0.0     0.0  \n",
       "Zen and the Art of Motorcycle Maintenance: An I...     0.0     0.0     0.0  \n",
       "Zoya                                                   0.0     0.0     0.0  \n",
       "\\O\\\" Is for Outlaw\"                                    0.0     0.0     0.0  \n",
       "\n",
       "[1035 rows x 1634 columns]"
      ]
     },
     "execution_count": 40,
     "metadata": {},
     "output_type": "execute_result"
    }
   ],
   "source": [
    "books_table=final_ratings.pivot_table(index='title',columns='userid',values='bookrating')\n",
    "\n",
    "books_table.fillna(0,inplace=True)\n",
    "books_table"
   ]
  },
  {
   "cell_type": "code",
   "execution_count": 41,
   "id": "e8a2b67a",
   "metadata": {},
   "outputs": [],
   "source": [
    "knn = NearestNeighbors(metric='cosine', algorithm='brute')\n",
    "knn.fit(books_table.values)\n",
    "distances, indices = knn.kneighbors(books_table.values, n_neighbors=5, return_distance=True)"
   ]
  },
  {
   "cell_type": "code",
   "execution_count": 42,
   "id": "b0cfbaa9",
   "metadata": {},
   "outputs": [],
   "source": [
    "def recommendation(userid):\n",
    "    sorted_df = books_table.sort_values(by=userid,ascending=False)   # sort the pivot table as per user id\n",
    "    book_name = sorted_df[userid].index[0]                           # get the book name for which user has given highest raitng\n",
    "\n",
    "    index_user_likes = books_table.index.tolist().index(book_name)   # get an index for a book_name in original pivot table books_table\n",
    "    sim_books = indices[index_user_likes].tolist()                   # list of indices of similar books -- used KNN\n",
    "    book_distances = distances[index_user_likes].tolist()            # the list for distances of similar books from book_name\n",
    "    print('Similar Books to '+str(books_table.index[index_user_likes])+': \\n')    \n",
    "    \n",
    "    for i in sim_books:\n",
    "        print(str(books_table.index[i]))"
   ]
  },
  {
   "cell_type": "code",
   "execution_count": 43,
   "id": "186e07e9",
   "metadata": {},
   "outputs": [
    {
     "name": "stdout",
     "output_type": "stream",
     "text": [
      "Similar Books to The Poisonwood Bible: \n",
      "\n",
      "The Poisonwood Bible\n",
      "The Midnight Club\n",
      "Prodigal Summer\n",
      "Darkness\n",
      "Kiss the Girls\n"
     ]
    }
   ],
   "source": [
    "recommendation(11676)"
   ]
  },
  {
   "cell_type": "code",
   "execution_count": 148,
   "id": "50ef05e2",
   "metadata": {},
   "outputs": [
    {
     "name": "stdout",
     "output_type": "stream",
     "text": [
      "The Poisonwood Bible : True\n",
      "10\n",
      "The Midnight Club : True\n",
      "8\n",
      "Prodigal Summer : True\n",
      "10\n",
      "Darkness : True\n",
      "10\n",
      "Kiss the Girls : True\n",
      "9\n"
     ]
    }
   ],
   "source": [
    "abc  = ratings_merged[ratings_merged['userid']==11676]\n",
    "ls = [\"The Poisonwood Bible\",\"The Midnight Club\",\"Prodigal Summer\",\"Darkness\",\"Kiss the Girls\"]    \n",
    "      \n",
    "for i in ls:\n",
    "    print(i,':', i in list(ratings_merged[ratings_merged['userid']==11676]['title'].values))\n",
    "    if (i in list(ratings_merged[ratings_merged['userid']==11676]['title'].values))== True:\n",
    "        print( abc[abc['title']== i]['bookrating'].values[0])"
   ]
  },
  {
   "cell_type": "code",
   "execution_count": 145,
   "id": "1ae02a1e",
   "metadata": {},
   "outputs": [
    {
     "name": "stdout",
     "output_type": "stream",
     "text": [
      "Similar Books to American Gods: \n",
      "\n",
      "American Gods\n",
      "Coraline\n",
      "Slaughterhouse Five or the Children's Crusade: A Duty Dance With Death\n",
      "The Amber Spyglass (His Dark Materials, Book 3)\n",
      "Artemis Fowl (Artemis Fowl, Book 1)\n"
     ]
    }
   ],
   "source": [
    "recommendation(254)"
   ]
  },
  {
   "cell_type": "code",
   "execution_count": 146,
   "id": "36ccaacc",
   "metadata": {},
   "outputs": [
    {
     "name": "stdout",
     "output_type": "stream",
     "text": [
      "American Gods : True\n",
      "10\n",
      "Coraline : True\n",
      "0\n",
      "Slaughterhouse Five or the Children's Crusade: A Duty Dance With Death : False\n",
      "The Amber Spyglass (His Dark Materials, Book 3) : True\n",
      "0\n",
      "Artemis Fowl (Artemis Fowl, Book 1) : False\n"
     ]
    }
   ],
   "source": [
    "ls = [\"American Gods\",\"Coraline\",\"Slaughterhouse Five or the Children's Crusade: A Duty Dance With Death\",\n",
    "      \"The Amber Spyglass (His Dark Materials, Book 3)\",\"Artemis Fowl (Artemis Fowl, Book 1)\"]\n",
    "\n",
    "abc  = final_ratings[final_ratings['userid']==254]\n",
    "for i in ls:\n",
    "    print(i,':', i in list(ratings_merged[ratings_merged['userid']==254]['title'].values))\n",
    "    if (i in list(ratings_merged[ratings_merged['userid']==254]['title'].values))== True:\n",
    "        print( abc[abc['title']== i]['bookrating'].values[0])"
   ]
  },
  {
   "cell_type": "code",
   "execution_count": 149,
   "id": "568cda69",
   "metadata": {},
   "outputs": [
    {
     "name": "stdout",
     "output_type": "stream",
     "text": [
      "Similar Books to To Kill a Mockingbird: \n",
      "\n",
      "To Kill a Mockingbird\n",
      "Snow Falling on Cedars\n",
      "The Catcher in the Rye\n",
      "Five Quarters of the Orange\n",
      "The Bean Trees\n"
     ]
    }
   ],
   "source": [
    "recommendation(2766)"
   ]
  },
  {
   "cell_type": "code",
   "execution_count": 150,
   "id": "cf9f474b",
   "metadata": {},
   "outputs": [
    {
     "name": "stdout",
     "output_type": "stream",
     "text": [
      "To Kill a Mockingbird : True\n",
      "10\n",
      "Snow Falling on Cedars : True\n",
      "0\n",
      "The Catcher in the Rye : False\n",
      "Five Quarters of the Orange : True\n",
      "8\n",
      "The Bean Trees : False\n"
     ]
    }
   ],
   "source": [
    "abc  = ratings_merged[ratings_merged['userid']==2766]\n",
    "\n",
    "for i in [\"To Kill a Mockingbird\",\"Snow Falling on Cedars\",\"The Catcher in the Rye\",\"Five Quarters of the Orange\",\n",
    "          \"The Bean Trees\"]:\n",
    "    print(i,':', i in list(ratings_merged[ratings_merged['userid']==2766]['title'].values))\n",
    "    if (i in list(ratings_merged[ratings_merged['userid']==2766]['title'].values))== True:\n",
    "        print( abc[abc['title']== i]['bookrating'].values[0])"
   ]
  },
  {
   "cell_type": "code",
   "execution_count": 151,
   "id": "d5e21087",
   "metadata": {},
   "outputs": [
    {
     "name": "stdout",
     "output_type": "stream",
     "text": [
      "Similar Books to The Jury: \n",
      "\n",
      "The Jury\n",
      "Chosen Prey\n",
      "2nd Chance\n",
      "Nothing Lasts Forever\n",
      "Dust to Dust\n"
     ]
    }
   ],
   "source": [
    "recommendation(2276)"
   ]
  },
  {
   "cell_type": "code",
   "execution_count": 152,
   "id": "43e71368",
   "metadata": {},
   "outputs": [
    {
     "name": "stdout",
     "output_type": "stream",
     "text": [
      "The Jury : True\n",
      "10\n",
      "Chosen Prey : False\n",
      "2nd Chance : True\n",
      "10\n",
      "Nothing Lasts Forever : False\n",
      "Dust to Dust : True\n",
      "9\n"
     ]
    }
   ],
   "source": [
    "abc  = ratings_merged[ratings_merged['userid']==2276]\n",
    "ls = [\"The Jury\",\"Chosen Prey\",\"2nd Chance\",\"Nothing Lasts Forever\",\"Dust to Dust\"]\n",
    "      \n",
    "for i in ls:\n",
    "    print(i,':', i in list(ratings_merged[ratings_merged['userid']==2276]['title'].values))\n",
    "    if (i in list(ratings_merged[ratings_merged['userid']==2276]['title'].values))== True:\n",
    "        print( abc[abc['title']== i]['bookrating'].values[0])"
   ]
  },
  {
   "cell_type": "code",
   "execution_count": 153,
   "id": "25331b28",
   "metadata": {},
   "outputs": [
    {
     "name": "stdout",
     "output_type": "stream",
     "text": [
      "Similar Books to The Secret Life of Bees: \n",
      "\n",
      "The Secret Life of Bees\n",
      "The No. 1 Ladies' Detective Agency\n",
      "Good in Bed\n",
      "Wicked: The Life and Times of the Wicked Witch of the West\n",
      "Girl in Hyacinth Blue\n"
     ]
    }
   ],
   "source": [
    "recommendation(507)"
   ]
  },
  {
   "cell_type": "code",
   "execution_count": 154,
   "id": "22004251",
   "metadata": {},
   "outputs": [
    {
     "name": "stdout",
     "output_type": "stream",
     "text": [
      "The Secret Life of Bees : True\n",
      "10\n",
      "The No. 1 Ladies' Detective Agency : False\n",
      "Good in Bed : False\n",
      "Wicked: The Life and Times of the Wicked Witch of the West : False\n",
      "Girl in Hyacinth Blue : True\n",
      "0\n"
     ]
    }
   ],
   "source": [
    "ls = [\"The Secret Life of Bees\",\"The No. 1 Ladies' Detective Agency\",\"Good in Bed\",\"Wicked: The Life and Times of the Wicked Witch of the West\",\n",
    "      \"Girl in Hyacinth Blue\"]\n",
    "\n",
    "abc  = final_ratings[final_ratings['userid']==507]\n",
    "for i in ls:\n",
    "    print(i,':', i in list(ratings_merged[ratings_merged['userid']==507]['title'].values))\n",
    "    if (i in list(ratings_merged[ratings_merged['userid']==507]['title'].values))== True:\n",
    "        print( abc[abc['title']== i]['bookrating'].values[0])"
   ]
  },
  {
   "cell_type": "code",
   "execution_count": 155,
   "id": "11a8cbef",
   "metadata": {},
   "outputs": [
    {
     "name": "stdout",
     "output_type": "stream",
     "text": [
      "Similar Books to The Smoke Jumper: \n",
      "\n",
      "The Smoke Jumper\n",
      "The Loop\n",
      "Forever... : A Novel of Good and Evil, Love and Hope\n",
      "The Summerhouse\n",
      "Shogun\n"
     ]
    }
   ],
   "source": [
    "recommendation(882)"
   ]
  },
  {
   "cell_type": "code",
   "execution_count": 156,
   "id": "6ac7c5d9",
   "metadata": {},
   "outputs": [
    {
     "name": "stdout",
     "output_type": "stream",
     "text": [
      "The Smoke Jumper : True\n",
      "10\n",
      "The Loop : False\n",
      "Forever... : A Novel of Good and Evil, Love and Hope : True\n",
      "4\n",
      "The Summerhouse : False\n",
      "Shogun : False\n"
     ]
    }
   ],
   "source": [
    "abc  = ratings_merged[ratings_merged['userid']==882]\n",
    "ls = [\"The Smoke Jumper\",\"The Loop\",\n",
    "      \"Forever... : A Novel of Good and Evil, Love and Hope\",\n",
    "      \"The Summerhouse\",\"Shogun\"]\n",
    "      \n",
    "for i in ls:\n",
    "    print(i,':', i in list(ratings_merged[ratings_merged['userid']==882]['title'].values))\n",
    "    if (i in list(ratings_merged[ratings_merged['userid']==882]['title'].values))== True:\n",
    "        print( abc[abc['title']== i]['bookrating'].values[0])"
   ]
  },
  {
   "cell_type": "code",
   "execution_count": 157,
   "id": "d12adc66",
   "metadata": {},
   "outputs": [
    {
     "name": "stdout",
     "output_type": "stream",
     "text": [
      "Similar Books to A Walk in the Woods: Rediscovering America on the Appalachian Trail (Official Guides to the Appalachian Trail): \n",
      "\n",
      "A Walk in the Woods: Rediscovering America on the Appalachian Trail (Official Guides to the Appalachian Trail)\n",
      "Notes from a Small Island\n",
      "Quentins\n",
      "Seabiscuit: An American Legend\n",
      "Digital Fortress : A Thriller\n"
     ]
    }
   ],
   "source": [
    "recommendation(1424)"
   ]
  },
  {
   "cell_type": "code",
   "execution_count": 158,
   "id": "2743b4e5",
   "metadata": {},
   "outputs": [
    {
     "name": "stdout",
     "output_type": "stream",
     "text": [
      "A Walk in the Woods: Rediscovering America on the Appalachian Trail (Official Guides to the Appalachian Trail) : True\n",
      "8\n",
      "Notes from a Small Island : False\n",
      "Quentins : False\n",
      "Seabiscuit: An American Legend : False\n",
      "Digital Fortress : A Thriller : False\n"
     ]
    }
   ],
   "source": [
    "abc  = ratings_merged[ratings_merged['userid']==1424]\n",
    "ls = [\"A Walk in the Woods: Rediscovering America on the Appalachian Trail (Official Guides to the Appalachian Trail)\",\n",
    "      \"Notes from a Small Island\",\"Quentins\",\n",
    "      \"Seabiscuit: An American Legend\",\"Digital Fortress : A Thriller\"]\n",
    "      \n",
    "for i in ls:\n",
    "    print(i,':', i in list(ratings_merged[ratings_merged['userid']==1424]['title'].values))\n",
    "    if (i in list(ratings_merged[ratings_merged['userid']==1424]['title'].values))== True:\n",
    "        print( abc[abc['title']== i]['bookrating'].values[0])"
   ]
  },
  {
   "cell_type": "code",
   "execution_count": 159,
   "id": "e24af5d8",
   "metadata": {},
   "outputs": [
    {
     "name": "stdout",
     "output_type": "stream",
     "text": [
      "Similar Books to The Surgeon: \n",
      "\n",
      "The Surgeon\n",
      "The Mulberry Tree\n",
      "Faking It\n",
      "Hard Eight : A Stephanie Plum Novel (A Stephanie Plum Novel)\n",
      "Forever... : A Novel of Good and Evil, Love and Hope\n"
     ]
    }
   ],
   "source": [
    "recommendation(1733)"
   ]
  },
  {
   "cell_type": "code",
   "execution_count": 160,
   "id": "c56a8277",
   "metadata": {},
   "outputs": [
    {
     "name": "stdout",
     "output_type": "stream",
     "text": [
      "The Surgeon : True\n",
      "10\n",
      "The Mulberry Tree : False\n",
      "Faking It : True\n",
      "5\n",
      "Hard Eight : A Stephanie Plum Novel (A Stephanie Plum Novel) : False\n",
      "Forever... : A Novel of Good and Evil, Love and Hope : False\n"
     ]
    }
   ],
   "source": [
    "abc  = ratings_merged[ratings_merged['userid']==1733]\n",
    "ls = [\"The Surgeon\",\"The Mulberry Tree\",\"Faking It\",\"Hard Eight : A Stephanie Plum Novel (A Stephanie Plum Novel)\",\n",
    "      \"Forever... : A Novel of Good and Evil, Love and Hope\"]\n",
    "      \n",
    "for i in ls:\n",
    "    print(i,':', i in list(ratings_merged[ratings_merged['userid']==1733]['title'].values))\n",
    "    if (i in list(ratings_merged[ratings_merged['userid']==1733]['title'].values))== True:\n",
    "        print( abc[abc['title']== i]['bookrating'].values[0])"
   ]
  },
  {
   "cell_type": "code",
   "execution_count": 161,
   "id": "b9cee15d",
   "metadata": {},
   "outputs": [
    {
     "name": "stdout",
     "output_type": "stream",
     "text": [
      "Similar Books to Charlie and the Chocolate Factory: \n",
      "\n",
      "Charlie and the Chocolate Factory\n",
      "Harry Potter and the Prisoner of Azkaban (Book 3)\n",
      "Matilda\n",
      "Harry Potter and the Chamber of Secrets (Book 2)\n",
      "Charlotte's Web (Trophy Newbery)\n"
     ]
    }
   ],
   "source": [
    "recommendation(2033)"
   ]
  },
  {
   "cell_type": "code",
   "execution_count": 162,
   "id": "75f2a58a",
   "metadata": {},
   "outputs": [
    {
     "name": "stdout",
     "output_type": "stream",
     "text": [
      "Charlie and the Chocolate Factory : True\n",
      "10\n",
      "Harry Potter and the Prisoner of Azkaban (Book 3) : True\n",
      "9\n",
      "Matilda : False\n",
      "Harry Potter and the Chamber of Secrets (Book 2) : True\n",
      "9\n",
      "Charlotte's Web (Trophy Newbery) : False\n"
     ]
    }
   ],
   "source": [
    "abc  = ratings_merged[ratings_merged['userid']==2033]\n",
    "ls = [\"Charlie and the Chocolate Factory\",\"Harry Potter and the Prisoner of Azkaban (Book 3)\",\n",
    "      \"Matilda\",\"Harry Potter and the Chamber of Secrets (Book 2)\",\"Charlotte's Web (Trophy Newbery)\"]\n",
    "      \n",
    "for i in ls:\n",
    "    print(i,':', i in list(ratings_merged[ratings_merged['userid']==2033]['title'].values))\n",
    "    if (i in list(ratings_merged[ratings_merged['userid']==2033]['title'].values))== True:\n",
    "        print( abc[abc['title']== i]['bookrating'].values[0])"
   ]
  },
  {
   "cell_type": "code",
   "execution_count": 163,
   "id": "12c32609",
   "metadata": {},
   "outputs": [
    {
     "name": "stdout",
     "output_type": "stream",
     "text": [
      "Similar Books to The Two Towers (The Lord of the Rings, Part 2): \n",
      "\n",
      "The Two Towers (The Lord of the Rings, Part 2)\n",
      "The Fellowship of the Ring (The Lord of the Rings, Part 1)\n",
      "The Return of the King (The Lord of the Rings, Part 3)\n",
      "The Hobbit : The Enchanting Prelude to The Lord of the Rings\n",
      "Stranger in a Strange Land (Remembering Tomorrow)\n"
     ]
    }
   ],
   "source": [
    "recommendation(276463)"
   ]
  },
  {
   "cell_type": "code",
   "execution_count": 164,
   "id": "a8ec6e11",
   "metadata": {},
   "outputs": [
    {
     "name": "stdout",
     "output_type": "stream",
     "text": [
      "The Two Towers (The Lord of the Rings, Part 2) : True\n",
      "10\n",
      "The Fellowship of the Ring (The Lord of the Rings, Part 1) : True\n",
      "0\n",
      "The Return of the King (The Lord of the Rings, Part 3) : True\n",
      "0\n",
      "The Hobbit : The Enchanting Prelude to The Lord of the Rings : False\n",
      "Stranger in a Strange Land (Remembering Tomorrow) : False\n"
     ]
    }
   ],
   "source": [
    "abc  = ratings_merged[ratings_merged['userid']==276463]\n",
    "ls = [\"The Two Towers (The Lord of the Rings, Part 2)\",\"The Fellowship of the Ring (The Lord of the Rings, Part 1)\",\n",
    "      \"The Return of the King (The Lord of the Rings, Part 3)\",\"The Hobbit : The Enchanting Prelude to The Lord of the Rings\",\n",
    "      \"Stranger in a Strange Land (Remembering Tomorrow)\"]\n",
    "for i in ls:\n",
    "    print(i,':', i in list(ratings_merged[ratings_merged['userid']==276463]['title'].values))\n",
    "    if (i in list(ratings_merged[ratings_merged['userid']==276463]['title'].values))== True:\n",
    "        print( abc[abc['title']== i]['bookrating'].values[0])"
   ]
  },
  {
   "cell_type": "code",
   "execution_count": 165,
   "id": "ceed6ed3",
   "metadata": {},
   "outputs": [
    {
     "name": "stdout",
     "output_type": "stream",
     "text": [
      "Similar Books to Sword of Shannara: \n",
      "\n",
      "Sword of Shannara\n",
      "Fatal Cure\n",
      "American Gods\n",
      "Darkfall\n",
      "Harry Potter and the Sorcerer's Stone (Harry Potter (Paperback))\n"
     ]
    }
   ],
   "source": [
    "recommendation(2110)"
   ]
  },
  {
   "cell_type": "code",
   "execution_count": 166,
   "id": "1ea6015d",
   "metadata": {},
   "outputs": [
    {
     "name": "stdout",
     "output_type": "stream",
     "text": [
      "TSword of Shannara : False\n",
      "Fatal Cure : False\n",
      "American Gods : False\n",
      "Darkfall : False\n",
      "Harry Potter and the Sorcerer's Stone (Harry Potter (Paperback)) : True\n",
      "10\n"
     ]
    }
   ],
   "source": [
    "abc  = ratings_merged[ratings_merged['userid']==2110]\n",
    "ls = [\"TSword of Shannara\",\"Fatal Cure\",\"American Gods\",\"Darkfall\",\n",
    "      \"Harry Potter and the Sorcerer's Stone (Harry Potter (Paperback))\"]\n",
    "\n",
    "for i in ls:\n",
    "    print(i,':', i in list(ratings_merged[ratings_merged['userid']==2110]['title'].values))\n",
    "    if (i in list(ratings_merged[ratings_merged['userid']==2110]['title'].values))== True:\n",
    "        print( abc[abc['title']== i]['bookrating'].values[0])"
   ]
  },
  {
   "cell_type": "code",
   "execution_count": 167,
   "id": "315505c5",
   "metadata": {
    "scrolled": true
   },
   "outputs": [
    {
     "name": "stdout",
     "output_type": "stream",
     "text": [
      "Similar Books to Politically Correct Bedtime Stories: Modern Tales for Our Life and Times: \n",
      "\n",
      "Politically Correct Bedtime Stories: Modern Tales for Our Life and Times\n",
      "Don't Stand Too Close to a Naked Man\n",
      "My Side of the Mountain\n",
      "24 Hours\n",
      "Lucky : A Memoir\n"
     ]
    }
   ],
   "source": [
    "recommendation(277427)"
   ]
  },
  {
   "cell_type": "code",
   "execution_count": 168,
   "id": "dee156fd",
   "metadata": {},
   "outputs": [
    {
     "name": "stdout",
     "output_type": "stream",
     "text": [
      "Politically Correct Bedtime Stories: Modern Tales for Our Life and Times : True\n",
      "10\n",
      "Don't Stand Too Close to a Naked Man : False\n",
      "My Side of the Mountain : False\n",
      "24 Hours : True\n",
      "10\n",
      "Lucky : A Memoir : True\n",
      "0\n"
     ]
    }
   ],
   "source": [
    "abc  = ratings_merged[ratings_merged['userid']==277427]\n",
    "ls = [\"Politically Correct Bedtime Stories: Modern Tales for Our Life and Times\",\"Don't Stand Too Close to a Naked Man\",\n",
    "      \"My Side of the Mountain\",\"24 Hours\",\"Lucky : A Memoir\"]\n",
    "\n",
    "for i in ls:\n",
    "    print(i,':', i in list(ratings_merged[ratings_merged['userid']==277427]['title'].values))\n",
    "    if (i in list(ratings_merged[ratings_merged['userid']==277427]['title'].values))== True:\n",
    "        print( abc[abc['title']== i]['bookrating'].values[0])"
   ]
  },
  {
   "cell_type": "code",
   "execution_count": 171,
   "id": "f4a27375",
   "metadata": {},
   "outputs": [
    {
     "name": "stdout",
     "output_type": "stream",
     "text": [
      "Similar Books to 84 Charing Cross Road: \n",
      "\n",
      "84 Charing Cross Road\n",
      "Notes from a Small Island\n",
      "To the Lighthouse\n",
      "Fingersmith\n",
      "Under the Tuscan Sun\n"
     ]
    }
   ],
   "source": [
    "recommendation(275970)"
   ]
  },
  {
   "cell_type": "code",
   "execution_count": 172,
   "id": "43016eb5",
   "metadata": {},
   "outputs": [
    {
     "name": "stdout",
     "output_type": "stream",
     "text": [
      "84 Charing Cross Road : True\n",
      "10\n",
      "Notes from a Small Island : False\n",
      "To the Lighthouse : True\n",
      "10\n",
      "Fingersmith : True\n",
      "0\n",
      "Under the Tuscan Sun : False\n"
     ]
    }
   ],
   "source": [
    "abc  = ratings_merged[ratings_merged['userid']==275970]\n",
    "ls = [\"84 Charing Cross Road\",\"Notes from a Small Island\",\"To the Lighthouse\",\n",
    "      \"Fingersmith\",\"Under the Tuscan Sun\"]\n",
    "      \n",
    "for i in ls:\n",
    "    print(i,':', i in list(ratings_merged[ratings_merged['userid']==275970]['title'].values))\n",
    "    if (i in list(ratings_merged[ratings_merged['userid']==275970]['title'].values))== True:\n",
    "        print( abc[abc['title']== i]['bookrating'].values[0])"
   ]
  },
  {
   "cell_type": "code",
   "execution_count": 173,
   "id": "274985e9",
   "metadata": {},
   "outputs": [
    {
     "name": "stdout",
     "output_type": "stream",
     "text": [
      "Similar Books to Smilla's Sense of Snow: \n",
      "\n",
      "Smilla's Sense of Snow\n",
      "Harvest\n",
      "Critical Judgment\n",
      "All the Pretty Horses (The Border Trilogy, Vol 1)\n",
      "Slow Waltz in Cedar Bend\n"
     ]
    }
   ],
   "source": [
    "recommendation(275020)"
   ]
  },
  {
   "cell_type": "code",
   "execution_count": 174,
   "id": "e9cfaeb4",
   "metadata": {},
   "outputs": [
    {
     "name": "stdout",
     "output_type": "stream",
     "text": [
      "Smilla's Sense of Snow : True\n",
      "10\n",
      "Harvest : False\n",
      "Critical Judgment : False\n",
      "All the Pretty Horses (The Border Trilogy, Vol 1) : False\n",
      "Slow Waltz in Cedar Bend : False\n"
     ]
    }
   ],
   "source": [
    "abc  = ratings_merged[ratings_merged['userid']==275020]\n",
    "ls = [\"Smilla's Sense of Snow\",\"Harvest\",\"Critical Judgment\",\n",
    "      \"All the Pretty Horses (The Border Trilogy, Vol 1)\",\"Slow Waltz in Cedar Bend\"]      \n",
    "for i in ls:\n",
    "    print(i,':', i in list(ratings_merged[ratings_merged['userid']==275020]['title'].values))\n",
    "    if (i in list(ratings_merged[ratings_merged['userid']==275020]['title'].values))== True:\n",
    "        print( abc[abc['title']== i]['bookrating'].values[0])"
   ]
  }
 ],
 "metadata": {
  "kernelspec": {
   "display_name": "Python 3 (ipykernel)",
   "language": "python",
   "name": "python3"
  },
  "language_info": {
   "codemirror_mode": {
    "name": "ipython",
    "version": 3
   },
   "file_extension": ".py",
   "mimetype": "text/x-python",
   "name": "python",
   "nbconvert_exporter": "python",
   "pygments_lexer": "ipython3",
   "version": "3.9.13"
  },
  "nbTranslate": {
   "displayLangs": [
    "*"
   ],
   "hotkey": "alt-t",
   "langInMainMenu": true,
   "sourceLang": "en",
   "targetLang": "fr",
   "useGoogleTranslate": true
  }
 },
 "nbformat": 4,
 "nbformat_minor": 5
}
