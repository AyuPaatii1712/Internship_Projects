{
 "cells": [
  {
   "cell_type": "code",
   "execution_count": 1,
   "id": "6cfac507",
   "metadata": {},
   "outputs": [],
   "source": [
    "import pandas as pd\n",
    "import numpy as np\n",
    "import matplotlib.pyplot as plt\n",
    "import seaborn as sns\n",
    "import statistics as st\n",
    "import warnings\n",
    "warnings.filterwarnings(\"ignore\")"
   ]
  },
  {
   "cell_type": "markdown",
   "id": "a23c603b",
   "metadata": {},
   "source": [
    "## Book DataSet"
   ]
  },
  {
   "cell_type": "code",
   "execution_count": 2,
   "id": "dddbc3ea",
   "metadata": {},
   "outputs": [],
   "source": [
    "book= pd.read_csv('Books.csv')"
   ]
  },
  {
   "cell_type": "code",
   "execution_count": 3,
   "id": "f26bb91a",
   "metadata": {},
   "outputs": [
    {
     "data": {
      "text/html": [
       "<div>\n",
       "<style scoped>\n",
       "    .dataframe tbody tr th:only-of-type {\n",
       "        vertical-align: middle;\n",
       "    }\n",
       "\n",
       "    .dataframe tbody tr th {\n",
       "        vertical-align: top;\n",
       "    }\n",
       "\n",
       "    .dataframe thead th {\n",
       "        text-align: right;\n",
       "    }\n",
       "</style>\n",
       "<table border=\"1\" class=\"dataframe\">\n",
       "  <thead>\n",
       "    <tr style=\"text-align: right;\">\n",
       "      <th></th>\n",
       "      <th>ISBN</th>\n",
       "      <th>Book-Title</th>\n",
       "      <th>Book-Author</th>\n",
       "      <th>Year-Of-Publication</th>\n",
       "      <th>Publisher</th>\n",
       "      <th>Image-URL-S</th>\n",
       "      <th>Image-URL-M</th>\n",
       "      <th>Image-URL-L</th>\n",
       "    </tr>\n",
       "  </thead>\n",
       "  <tbody>\n",
       "    <tr>\n",
       "      <th>0</th>\n",
       "      <td>0195153448</td>\n",
       "      <td>Classical Mythology</td>\n",
       "      <td>Mark P. O. Morford</td>\n",
       "      <td>2002</td>\n",
       "      <td>Oxford University Press</td>\n",
       "      <td>http://images.amazon.com/images/P/0195153448.0...</td>\n",
       "      <td>http://images.amazon.com/images/P/0195153448.0...</td>\n",
       "      <td>http://images.amazon.com/images/P/0195153448.0...</td>\n",
       "    </tr>\n",
       "    <tr>\n",
       "      <th>1</th>\n",
       "      <td>0002005018</td>\n",
       "      <td>Clara Callan</td>\n",
       "      <td>Richard Bruce Wright</td>\n",
       "      <td>2001</td>\n",
       "      <td>HarperFlamingo Canada</td>\n",
       "      <td>http://images.amazon.com/images/P/0002005018.0...</td>\n",
       "      <td>http://images.amazon.com/images/P/0002005018.0...</td>\n",
       "      <td>http://images.amazon.com/images/P/0002005018.0...</td>\n",
       "    </tr>\n",
       "    <tr>\n",
       "      <th>2</th>\n",
       "      <td>0060973129</td>\n",
       "      <td>Decision in Normandy</td>\n",
       "      <td>Carlo D'Este</td>\n",
       "      <td>1991</td>\n",
       "      <td>HarperPerennial</td>\n",
       "      <td>http://images.amazon.com/images/P/0060973129.0...</td>\n",
       "      <td>http://images.amazon.com/images/P/0060973129.0...</td>\n",
       "      <td>http://images.amazon.com/images/P/0060973129.0...</td>\n",
       "    </tr>\n",
       "    <tr>\n",
       "      <th>3</th>\n",
       "      <td>0374157065</td>\n",
       "      <td>Flu: The Story of the Great Influenza Pandemic...</td>\n",
       "      <td>Gina Bari Kolata</td>\n",
       "      <td>1999</td>\n",
       "      <td>Farrar Straus Giroux</td>\n",
       "      <td>http://images.amazon.com/images/P/0374157065.0...</td>\n",
       "      <td>http://images.amazon.com/images/P/0374157065.0...</td>\n",
       "      <td>http://images.amazon.com/images/P/0374157065.0...</td>\n",
       "    </tr>\n",
       "    <tr>\n",
       "      <th>4</th>\n",
       "      <td>0393045218</td>\n",
       "      <td>The Mummies of Urumchi</td>\n",
       "      <td>E. J. W. Barber</td>\n",
       "      <td>1999</td>\n",
       "      <td>W. W. Norton &amp;amp; Company</td>\n",
       "      <td>http://images.amazon.com/images/P/0393045218.0...</td>\n",
       "      <td>http://images.amazon.com/images/P/0393045218.0...</td>\n",
       "      <td>http://images.amazon.com/images/P/0393045218.0...</td>\n",
       "    </tr>\n",
       "    <tr>\n",
       "      <th>...</th>\n",
       "      <td>...</td>\n",
       "      <td>...</td>\n",
       "      <td>...</td>\n",
       "      <td>...</td>\n",
       "      <td>...</td>\n",
       "      <td>...</td>\n",
       "      <td>...</td>\n",
       "      <td>...</td>\n",
       "    </tr>\n",
       "    <tr>\n",
       "      <th>271355</th>\n",
       "      <td>0440400988</td>\n",
       "      <td>There's a Bat in Bunk Five</td>\n",
       "      <td>Paula Danziger</td>\n",
       "      <td>1988</td>\n",
       "      <td>Random House Childrens Pub (Mm)</td>\n",
       "      <td>http://images.amazon.com/images/P/0440400988.0...</td>\n",
       "      <td>http://images.amazon.com/images/P/0440400988.0...</td>\n",
       "      <td>http://images.amazon.com/images/P/0440400988.0...</td>\n",
       "    </tr>\n",
       "    <tr>\n",
       "      <th>271356</th>\n",
       "      <td>0525447644</td>\n",
       "      <td>From One to One Hundred</td>\n",
       "      <td>Teri Sloat</td>\n",
       "      <td>1991</td>\n",
       "      <td>Dutton Books</td>\n",
       "      <td>http://images.amazon.com/images/P/0525447644.0...</td>\n",
       "      <td>http://images.amazon.com/images/P/0525447644.0...</td>\n",
       "      <td>http://images.amazon.com/images/P/0525447644.0...</td>\n",
       "    </tr>\n",
       "    <tr>\n",
       "      <th>271357</th>\n",
       "      <td>006008667X</td>\n",
       "      <td>Lily Dale : The True Story of the Town that Ta...</td>\n",
       "      <td>Christine Wicker</td>\n",
       "      <td>2004</td>\n",
       "      <td>HarperSanFrancisco</td>\n",
       "      <td>http://images.amazon.com/images/P/006008667X.0...</td>\n",
       "      <td>http://images.amazon.com/images/P/006008667X.0...</td>\n",
       "      <td>http://images.amazon.com/images/P/006008667X.0...</td>\n",
       "    </tr>\n",
       "    <tr>\n",
       "      <th>271358</th>\n",
       "      <td>0192126040</td>\n",
       "      <td>Republic (World's Classics)</td>\n",
       "      <td>Plato</td>\n",
       "      <td>1996</td>\n",
       "      <td>Oxford University Press</td>\n",
       "      <td>http://images.amazon.com/images/P/0192126040.0...</td>\n",
       "      <td>http://images.amazon.com/images/P/0192126040.0...</td>\n",
       "      <td>http://images.amazon.com/images/P/0192126040.0...</td>\n",
       "    </tr>\n",
       "    <tr>\n",
       "      <th>271359</th>\n",
       "      <td>0767409752</td>\n",
       "      <td>A Guided Tour of Rene Descartes' Meditations o...</td>\n",
       "      <td>Christopher  Biffle</td>\n",
       "      <td>2000</td>\n",
       "      <td>McGraw-Hill Humanities/Social Sciences/Languages</td>\n",
       "      <td>http://images.amazon.com/images/P/0767409752.0...</td>\n",
       "      <td>http://images.amazon.com/images/P/0767409752.0...</td>\n",
       "      <td>http://images.amazon.com/images/P/0767409752.0...</td>\n",
       "    </tr>\n",
       "  </tbody>\n",
       "</table>\n",
       "<p>271360 rows × 8 columns</p>\n",
       "</div>"
      ],
      "text/plain": [
       "              ISBN                                         Book-Title  \\\n",
       "0       0195153448                                Classical Mythology   \n",
       "1       0002005018                                       Clara Callan   \n",
       "2       0060973129                               Decision in Normandy   \n",
       "3       0374157065  Flu: The Story of the Great Influenza Pandemic...   \n",
       "4       0393045218                             The Mummies of Urumchi   \n",
       "...            ...                                                ...   \n",
       "271355  0440400988                         There's a Bat in Bunk Five   \n",
       "271356  0525447644                            From One to One Hundred   \n",
       "271357  006008667X  Lily Dale : The True Story of the Town that Ta...   \n",
       "271358  0192126040                        Republic (World's Classics)   \n",
       "271359  0767409752  A Guided Tour of Rene Descartes' Meditations o...   \n",
       "\n",
       "                 Book-Author Year-Of-Publication  \\\n",
       "0         Mark P. O. Morford                2002   \n",
       "1       Richard Bruce Wright                2001   \n",
       "2               Carlo D'Este                1991   \n",
       "3           Gina Bari Kolata                1999   \n",
       "4            E. J. W. Barber                1999   \n",
       "...                      ...                 ...   \n",
       "271355        Paula Danziger                1988   \n",
       "271356            Teri Sloat                1991   \n",
       "271357      Christine Wicker                2004   \n",
       "271358                 Plato                1996   \n",
       "271359   Christopher  Biffle                2000   \n",
       "\n",
       "                                               Publisher  \\\n",
       "0                                Oxford University Press   \n",
       "1                                  HarperFlamingo Canada   \n",
       "2                                        HarperPerennial   \n",
       "3                                   Farrar Straus Giroux   \n",
       "4                             W. W. Norton &amp; Company   \n",
       "...                                                  ...   \n",
       "271355                   Random House Childrens Pub (Mm)   \n",
       "271356                                      Dutton Books   \n",
       "271357                                HarperSanFrancisco   \n",
       "271358                           Oxford University Press   \n",
       "271359  McGraw-Hill Humanities/Social Sciences/Languages   \n",
       "\n",
       "                                              Image-URL-S  \\\n",
       "0       http://images.amazon.com/images/P/0195153448.0...   \n",
       "1       http://images.amazon.com/images/P/0002005018.0...   \n",
       "2       http://images.amazon.com/images/P/0060973129.0...   \n",
       "3       http://images.amazon.com/images/P/0374157065.0...   \n",
       "4       http://images.amazon.com/images/P/0393045218.0...   \n",
       "...                                                   ...   \n",
       "271355  http://images.amazon.com/images/P/0440400988.0...   \n",
       "271356  http://images.amazon.com/images/P/0525447644.0...   \n",
       "271357  http://images.amazon.com/images/P/006008667X.0...   \n",
       "271358  http://images.amazon.com/images/P/0192126040.0...   \n",
       "271359  http://images.amazon.com/images/P/0767409752.0...   \n",
       "\n",
       "                                              Image-URL-M  \\\n",
       "0       http://images.amazon.com/images/P/0195153448.0...   \n",
       "1       http://images.amazon.com/images/P/0002005018.0...   \n",
       "2       http://images.amazon.com/images/P/0060973129.0...   \n",
       "3       http://images.amazon.com/images/P/0374157065.0...   \n",
       "4       http://images.amazon.com/images/P/0393045218.0...   \n",
       "...                                                   ...   \n",
       "271355  http://images.amazon.com/images/P/0440400988.0...   \n",
       "271356  http://images.amazon.com/images/P/0525447644.0...   \n",
       "271357  http://images.amazon.com/images/P/006008667X.0...   \n",
       "271358  http://images.amazon.com/images/P/0192126040.0...   \n",
       "271359  http://images.amazon.com/images/P/0767409752.0...   \n",
       "\n",
       "                                              Image-URL-L  \n",
       "0       http://images.amazon.com/images/P/0195153448.0...  \n",
       "1       http://images.amazon.com/images/P/0002005018.0...  \n",
       "2       http://images.amazon.com/images/P/0060973129.0...  \n",
       "3       http://images.amazon.com/images/P/0374157065.0...  \n",
       "4       http://images.amazon.com/images/P/0393045218.0...  \n",
       "...                                                   ...  \n",
       "271355  http://images.amazon.com/images/P/0440400988.0...  \n",
       "271356  http://images.amazon.com/images/P/0525447644.0...  \n",
       "271357  http://images.amazon.com/images/P/006008667X.0...  \n",
       "271358  http://images.amazon.com/images/P/0192126040.0...  \n",
       "271359  http://images.amazon.com/images/P/0767409752.0...  \n",
       "\n",
       "[271360 rows x 8 columns]"
      ]
     },
     "execution_count": 3,
     "metadata": {},
     "output_type": "execute_result"
    }
   ],
   "source": [
    "book"
   ]
  },
  {
   "cell_type": "markdown",
   "id": "f8935536",
   "metadata": {},
   "source": [
    "### Information of data set"
   ]
  },
  {
   "cell_type": "code",
   "execution_count": 4,
   "id": "9372fde4",
   "metadata": {},
   "outputs": [
    {
     "name": "stdout",
     "output_type": "stream",
     "text": [
      "<class 'pandas.core.frame.DataFrame'>\n",
      "RangeIndex: 271360 entries, 0 to 271359\n",
      "Data columns (total 8 columns):\n",
      " #   Column               Non-Null Count   Dtype \n",
      "---  ------               --------------   ----- \n",
      " 0   ISBN                 271360 non-null  object\n",
      " 1   Book-Title           271360 non-null  object\n",
      " 2   Book-Author          271359 non-null  object\n",
      " 3   Year-Of-Publication  271360 non-null  object\n",
      " 4   Publisher            271358 non-null  object\n",
      " 5   Image-URL-S          271360 non-null  object\n",
      " 6   Image-URL-M          271360 non-null  object\n",
      " 7   Image-URL-L          271357 non-null  object\n",
      "dtypes: object(8)\n",
      "memory usage: 16.6+ MB\n"
     ]
    }
   ],
   "source": [
    "book.info()"
   ]
  },
  {
   "cell_type": "markdown",
   "id": "16c16cbb",
   "metadata": {},
   "source": [
    "### Shape of Data set"
   ]
  },
  {
   "cell_type": "code",
   "execution_count": 5,
   "id": "9454dbbd",
   "metadata": {},
   "outputs": [
    {
     "data": {
      "text/plain": [
       "(271360, 8)"
      ]
     },
     "execution_count": 5,
     "metadata": {},
     "output_type": "execute_result"
    }
   ],
   "source": [
    "book.shape"
   ]
  },
  {
   "cell_type": "markdown",
   "id": "1abc6d5e",
   "metadata": {},
   "source": [
    "### Type of data set"
   ]
  },
  {
   "cell_type": "code",
   "execution_count": 6,
   "id": "5cf7ec4b",
   "metadata": {},
   "outputs": [
    {
     "data": {
      "text/plain": [
       "ISBN                   object\n",
       "Book-Title             object\n",
       "Book-Author            object\n",
       "Year-Of-Publication    object\n",
       "Publisher              object\n",
       "Image-URL-S            object\n",
       "Image-URL-M            object\n",
       "Image-URL-L            object\n",
       "dtype: object"
      ]
     },
     "execution_count": 6,
     "metadata": {},
     "output_type": "execute_result"
    }
   ],
   "source": [
    "book.dtypes"
   ]
  },
  {
   "cell_type": "markdown",
   "id": "6f723674",
   "metadata": {},
   "source": [
    "### Null Values"
   ]
  },
  {
   "cell_type": "code",
   "execution_count": 7,
   "id": "39ecb0ae",
   "metadata": {},
   "outputs": [
    {
     "data": {
      "text/plain": [
       "ISBN                   0\n",
       "Book-Title             0\n",
       "Book-Author            1\n",
       "Year-Of-Publication    0\n",
       "Publisher              2\n",
       "Image-URL-S            0\n",
       "Image-URL-M            0\n",
       "Image-URL-L            3\n",
       "dtype: int64"
      ]
     },
     "execution_count": 7,
     "metadata": {},
     "output_type": "execute_result"
    }
   ],
   "source": [
    "book.isnull().sum()"
   ]
  },
  {
   "cell_type": "code",
   "execution_count": 8,
   "id": "94312377",
   "metadata": {},
   "outputs": [
    {
     "data": {
      "text/html": [
       "<div>\n",
       "<style scoped>\n",
       "    .dataframe tbody tr th:only-of-type {\n",
       "        vertical-align: middle;\n",
       "    }\n",
       "\n",
       "    .dataframe tbody tr th {\n",
       "        vertical-align: top;\n",
       "    }\n",
       "\n",
       "    .dataframe thead th {\n",
       "        text-align: right;\n",
       "    }\n",
       "</style>\n",
       "<table border=\"1\" class=\"dataframe\">\n",
       "  <thead>\n",
       "    <tr style=\"text-align: right;\">\n",
       "      <th></th>\n",
       "      <th>index</th>\n",
       "      <th>ISBN</th>\n",
       "      <th>Book-Title</th>\n",
       "      <th>Book-Author</th>\n",
       "      <th>Year-Of-Publication</th>\n",
       "      <th>Publisher</th>\n",
       "      <th>Image-URL-S</th>\n",
       "      <th>Image-URL-M</th>\n",
       "      <th>Image-URL-L</th>\n",
       "    </tr>\n",
       "  </thead>\n",
       "  <tbody>\n",
       "    <tr>\n",
       "      <th>0</th>\n",
       "      <td>count</td>\n",
       "      <td>271360</td>\n",
       "      <td>271360</td>\n",
       "      <td>271359</td>\n",
       "      <td>271360</td>\n",
       "      <td>271358</td>\n",
       "      <td>271360</td>\n",
       "      <td>271360</td>\n",
       "      <td>271357</td>\n",
       "    </tr>\n",
       "    <tr>\n",
       "      <th>1</th>\n",
       "      <td>unique</td>\n",
       "      <td>271360</td>\n",
       "      <td>242135</td>\n",
       "      <td>102023</td>\n",
       "      <td>202</td>\n",
       "      <td>16807</td>\n",
       "      <td>271044</td>\n",
       "      <td>271044</td>\n",
       "      <td>271041</td>\n",
       "    </tr>\n",
       "    <tr>\n",
       "      <th>2</th>\n",
       "      <td>top</td>\n",
       "      <td>0195153448</td>\n",
       "      <td>Selected Poems</td>\n",
       "      <td>Agatha Christie</td>\n",
       "      <td>2002</td>\n",
       "      <td>Harlequin</td>\n",
       "      <td>http://images.amazon.com/images/P/185326119X.0...</td>\n",
       "      <td>http://images.amazon.com/images/P/185326119X.0...</td>\n",
       "      <td>http://images.amazon.com/images/P/225307649X.0...</td>\n",
       "    </tr>\n",
       "    <tr>\n",
       "      <th>3</th>\n",
       "      <td>freq</td>\n",
       "      <td>1</td>\n",
       "      <td>27</td>\n",
       "      <td>632</td>\n",
       "      <td>13903</td>\n",
       "      <td>7535</td>\n",
       "      <td>2</td>\n",
       "      <td>2</td>\n",
       "      <td>2</td>\n",
       "    </tr>\n",
       "  </tbody>\n",
       "</table>\n",
       "</div>"
      ],
      "text/plain": [
       "    index        ISBN      Book-Title      Book-Author  Year-Of-Publication  \\\n",
       "0   count      271360          271360           271359               271360   \n",
       "1  unique      271360          242135           102023                  202   \n",
       "2     top  0195153448  Selected Poems  Agatha Christie                 2002   \n",
       "3    freq           1              27              632                13903   \n",
       "\n",
       "   Publisher                                        Image-URL-S  \\\n",
       "0     271358                                             271360   \n",
       "1      16807                                             271044   \n",
       "2  Harlequin  http://images.amazon.com/images/P/185326119X.0...   \n",
       "3       7535                                                  2   \n",
       "\n",
       "                                         Image-URL-M  \\\n",
       "0                                             271360   \n",
       "1                                             271044   \n",
       "2  http://images.amazon.com/images/P/185326119X.0...   \n",
       "3                                                  2   \n",
       "\n",
       "                                         Image-URL-L  \n",
       "0                                             271357  \n",
       "1                                             271041  \n",
       "2  http://images.amazon.com/images/P/225307649X.0...  \n",
       "3                                                  2  "
      ]
     },
     "execution_count": 8,
     "metadata": {},
     "output_type": "execute_result"
    }
   ],
   "source": [
    "book.describe().reset_index()"
   ]
  },
  {
   "cell_type": "code",
   "execution_count": 9,
   "id": "1d2e0331",
   "metadata": {},
   "outputs": [
    {
     "data": {
      "text/html": [
       "<div>\n",
       "<style scoped>\n",
       "    .dataframe tbody tr th:only-of-type {\n",
       "        vertical-align: middle;\n",
       "    }\n",
       "\n",
       "    .dataframe tbody tr th {\n",
       "        vertical-align: top;\n",
       "    }\n",
       "\n",
       "    .dataframe thead th {\n",
       "        text-align: right;\n",
       "    }\n",
       "</style>\n",
       "<table border=\"1\" class=\"dataframe\">\n",
       "  <thead>\n",
       "    <tr style=\"text-align: right;\">\n",
       "      <th></th>\n",
       "      <th>ISBN</th>\n",
       "      <th>Book-Title</th>\n",
       "      <th>Book-Author</th>\n",
       "      <th>Year-Of-Publication</th>\n",
       "      <th>Publisher</th>\n",
       "      <th>Image-URL-S</th>\n",
       "      <th>Image-URL-M</th>\n",
       "      <th>Image-URL-L</th>\n",
       "    </tr>\n",
       "  </thead>\n",
       "  <tbody>\n",
       "    <tr>\n",
       "      <th>0</th>\n",
       "      <td>0195153448</td>\n",
       "      <td>Classical Mythology</td>\n",
       "      <td>Mark P. O. Morford</td>\n",
       "      <td>2002</td>\n",
       "      <td>Oxford University Press</td>\n",
       "      <td>http://images.amazon.com/images/P/0195153448.0...</td>\n",
       "      <td>http://images.amazon.com/images/P/0195153448.0...</td>\n",
       "      <td>http://images.amazon.com/images/P/0195153448.0...</td>\n",
       "    </tr>\n",
       "    <tr>\n",
       "      <th>1</th>\n",
       "      <td>0002005018</td>\n",
       "      <td>Clara Callan</td>\n",
       "      <td>Richard Bruce Wright</td>\n",
       "      <td>2001</td>\n",
       "      <td>HarperFlamingo Canada</td>\n",
       "      <td>http://images.amazon.com/images/P/0002005018.0...</td>\n",
       "      <td>http://images.amazon.com/images/P/0002005018.0...</td>\n",
       "      <td>http://images.amazon.com/images/P/0002005018.0...</td>\n",
       "    </tr>\n",
       "    <tr>\n",
       "      <th>2</th>\n",
       "      <td>0060973129</td>\n",
       "      <td>Decision in Normandy</td>\n",
       "      <td>Carlo D'Este</td>\n",
       "      <td>1991</td>\n",
       "      <td>HarperPerennial</td>\n",
       "      <td>http://images.amazon.com/images/P/0060973129.0...</td>\n",
       "      <td>http://images.amazon.com/images/P/0060973129.0...</td>\n",
       "      <td>http://images.amazon.com/images/P/0060973129.0...</td>\n",
       "    </tr>\n",
       "    <tr>\n",
       "      <th>3</th>\n",
       "      <td>0374157065</td>\n",
       "      <td>Flu: The Story of the Great Influenza Pandemic...</td>\n",
       "      <td>Gina Bari Kolata</td>\n",
       "      <td>1999</td>\n",
       "      <td>Farrar Straus Giroux</td>\n",
       "      <td>http://images.amazon.com/images/P/0374157065.0...</td>\n",
       "      <td>http://images.amazon.com/images/P/0374157065.0...</td>\n",
       "      <td>http://images.amazon.com/images/P/0374157065.0...</td>\n",
       "    </tr>\n",
       "    <tr>\n",
       "      <th>4</th>\n",
       "      <td>0393045218</td>\n",
       "      <td>The Mummies of Urumchi</td>\n",
       "      <td>E. J. W. Barber</td>\n",
       "      <td>1999</td>\n",
       "      <td>W. W. Norton &amp;amp; Company</td>\n",
       "      <td>http://images.amazon.com/images/P/0393045218.0...</td>\n",
       "      <td>http://images.amazon.com/images/P/0393045218.0...</td>\n",
       "      <td>http://images.amazon.com/images/P/0393045218.0...</td>\n",
       "    </tr>\n",
       "  </tbody>\n",
       "</table>\n",
       "</div>"
      ],
      "text/plain": [
       "         ISBN                                         Book-Title  \\\n",
       "0  0195153448                                Classical Mythology   \n",
       "1  0002005018                                       Clara Callan   \n",
       "2  0060973129                               Decision in Normandy   \n",
       "3  0374157065  Flu: The Story of the Great Influenza Pandemic...   \n",
       "4  0393045218                             The Mummies of Urumchi   \n",
       "\n",
       "            Book-Author Year-Of-Publication                   Publisher  \\\n",
       "0    Mark P. O. Morford                2002     Oxford University Press   \n",
       "1  Richard Bruce Wright                2001       HarperFlamingo Canada   \n",
       "2          Carlo D'Este                1991             HarperPerennial   \n",
       "3      Gina Bari Kolata                1999        Farrar Straus Giroux   \n",
       "4       E. J. W. Barber                1999  W. W. Norton &amp; Company   \n",
       "\n",
       "                                         Image-URL-S  \\\n",
       "0  http://images.amazon.com/images/P/0195153448.0...   \n",
       "1  http://images.amazon.com/images/P/0002005018.0...   \n",
       "2  http://images.amazon.com/images/P/0060973129.0...   \n",
       "3  http://images.amazon.com/images/P/0374157065.0...   \n",
       "4  http://images.amazon.com/images/P/0393045218.0...   \n",
       "\n",
       "                                         Image-URL-M  \\\n",
       "0  http://images.amazon.com/images/P/0195153448.0...   \n",
       "1  http://images.amazon.com/images/P/0002005018.0...   \n",
       "2  http://images.amazon.com/images/P/0060973129.0...   \n",
       "3  http://images.amazon.com/images/P/0374157065.0...   \n",
       "4  http://images.amazon.com/images/P/0393045218.0...   \n",
       "\n",
       "                                         Image-URL-L  \n",
       "0  http://images.amazon.com/images/P/0195153448.0...  \n",
       "1  http://images.amazon.com/images/P/0002005018.0...  \n",
       "2  http://images.amazon.com/images/P/0060973129.0...  \n",
       "3  http://images.amazon.com/images/P/0374157065.0...  \n",
       "4  http://images.amazon.com/images/P/0393045218.0...  "
      ]
     },
     "execution_count": 9,
     "metadata": {},
     "output_type": "execute_result"
    }
   ],
   "source": [
    "book.head()"
   ]
  },
  {
   "cell_type": "code",
   "execution_count": 10,
   "id": "5ed3e1d5",
   "metadata": {},
   "outputs": [
    {
     "data": {
      "text/html": [
       "<div>\n",
       "<style scoped>\n",
       "    .dataframe tbody tr th:only-of-type {\n",
       "        vertical-align: middle;\n",
       "    }\n",
       "\n",
       "    .dataframe tbody tr th {\n",
       "        vertical-align: top;\n",
       "    }\n",
       "\n",
       "    .dataframe thead th {\n",
       "        text-align: right;\n",
       "    }\n",
       "</style>\n",
       "<table border=\"1\" class=\"dataframe\">\n",
       "  <thead>\n",
       "    <tr style=\"text-align: right;\">\n",
       "      <th></th>\n",
       "      <th>ISBN</th>\n",
       "      <th>Book-Title</th>\n",
       "      <th>Book-Author</th>\n",
       "      <th>Year-Of-Publication</th>\n",
       "      <th>Publisher</th>\n",
       "      <th>Image-URL-S</th>\n",
       "      <th>Image-URL-M</th>\n",
       "      <th>Image-URL-L</th>\n",
       "    </tr>\n",
       "  </thead>\n",
       "  <tbody>\n",
       "    <tr>\n",
       "      <th>271355</th>\n",
       "      <td>0440400988</td>\n",
       "      <td>There's a Bat in Bunk Five</td>\n",
       "      <td>Paula Danziger</td>\n",
       "      <td>1988</td>\n",
       "      <td>Random House Childrens Pub (Mm)</td>\n",
       "      <td>http://images.amazon.com/images/P/0440400988.0...</td>\n",
       "      <td>http://images.amazon.com/images/P/0440400988.0...</td>\n",
       "      <td>http://images.amazon.com/images/P/0440400988.0...</td>\n",
       "    </tr>\n",
       "    <tr>\n",
       "      <th>271356</th>\n",
       "      <td>0525447644</td>\n",
       "      <td>From One to One Hundred</td>\n",
       "      <td>Teri Sloat</td>\n",
       "      <td>1991</td>\n",
       "      <td>Dutton Books</td>\n",
       "      <td>http://images.amazon.com/images/P/0525447644.0...</td>\n",
       "      <td>http://images.amazon.com/images/P/0525447644.0...</td>\n",
       "      <td>http://images.amazon.com/images/P/0525447644.0...</td>\n",
       "    </tr>\n",
       "    <tr>\n",
       "      <th>271357</th>\n",
       "      <td>006008667X</td>\n",
       "      <td>Lily Dale : The True Story of the Town that Ta...</td>\n",
       "      <td>Christine Wicker</td>\n",
       "      <td>2004</td>\n",
       "      <td>HarperSanFrancisco</td>\n",
       "      <td>http://images.amazon.com/images/P/006008667X.0...</td>\n",
       "      <td>http://images.amazon.com/images/P/006008667X.0...</td>\n",
       "      <td>http://images.amazon.com/images/P/006008667X.0...</td>\n",
       "    </tr>\n",
       "    <tr>\n",
       "      <th>271358</th>\n",
       "      <td>0192126040</td>\n",
       "      <td>Republic (World's Classics)</td>\n",
       "      <td>Plato</td>\n",
       "      <td>1996</td>\n",
       "      <td>Oxford University Press</td>\n",
       "      <td>http://images.amazon.com/images/P/0192126040.0...</td>\n",
       "      <td>http://images.amazon.com/images/P/0192126040.0...</td>\n",
       "      <td>http://images.amazon.com/images/P/0192126040.0...</td>\n",
       "    </tr>\n",
       "    <tr>\n",
       "      <th>271359</th>\n",
       "      <td>0767409752</td>\n",
       "      <td>A Guided Tour of Rene Descartes' Meditations o...</td>\n",
       "      <td>Christopher  Biffle</td>\n",
       "      <td>2000</td>\n",
       "      <td>McGraw-Hill Humanities/Social Sciences/Languages</td>\n",
       "      <td>http://images.amazon.com/images/P/0767409752.0...</td>\n",
       "      <td>http://images.amazon.com/images/P/0767409752.0...</td>\n",
       "      <td>http://images.amazon.com/images/P/0767409752.0...</td>\n",
       "    </tr>\n",
       "  </tbody>\n",
       "</table>\n",
       "</div>"
      ],
      "text/plain": [
       "              ISBN                                         Book-Title  \\\n",
       "271355  0440400988                         There's a Bat in Bunk Five   \n",
       "271356  0525447644                            From One to One Hundred   \n",
       "271357  006008667X  Lily Dale : The True Story of the Town that Ta...   \n",
       "271358  0192126040                        Republic (World's Classics)   \n",
       "271359  0767409752  A Guided Tour of Rene Descartes' Meditations o...   \n",
       "\n",
       "                Book-Author Year-Of-Publication  \\\n",
       "271355       Paula Danziger                1988   \n",
       "271356           Teri Sloat                1991   \n",
       "271357     Christine Wicker                2004   \n",
       "271358                Plato                1996   \n",
       "271359  Christopher  Biffle                2000   \n",
       "\n",
       "                                               Publisher  \\\n",
       "271355                   Random House Childrens Pub (Mm)   \n",
       "271356                                      Dutton Books   \n",
       "271357                                HarperSanFrancisco   \n",
       "271358                           Oxford University Press   \n",
       "271359  McGraw-Hill Humanities/Social Sciences/Languages   \n",
       "\n",
       "                                              Image-URL-S  \\\n",
       "271355  http://images.amazon.com/images/P/0440400988.0...   \n",
       "271356  http://images.amazon.com/images/P/0525447644.0...   \n",
       "271357  http://images.amazon.com/images/P/006008667X.0...   \n",
       "271358  http://images.amazon.com/images/P/0192126040.0...   \n",
       "271359  http://images.amazon.com/images/P/0767409752.0...   \n",
       "\n",
       "                                              Image-URL-M  \\\n",
       "271355  http://images.amazon.com/images/P/0440400988.0...   \n",
       "271356  http://images.amazon.com/images/P/0525447644.0...   \n",
       "271357  http://images.amazon.com/images/P/006008667X.0...   \n",
       "271358  http://images.amazon.com/images/P/0192126040.0...   \n",
       "271359  http://images.amazon.com/images/P/0767409752.0...   \n",
       "\n",
       "                                              Image-URL-L  \n",
       "271355  http://images.amazon.com/images/P/0440400988.0...  \n",
       "271356  http://images.amazon.com/images/P/0525447644.0...  \n",
       "271357  http://images.amazon.com/images/P/006008667X.0...  \n",
       "271358  http://images.amazon.com/images/P/0192126040.0...  \n",
       "271359  http://images.amazon.com/images/P/0767409752.0...  "
      ]
     },
     "execution_count": 10,
     "metadata": {},
     "output_type": "execute_result"
    }
   ],
   "source": [
    "book.tail()"
   ]
  },
  {
   "cell_type": "code",
   "execution_count": 11,
   "id": "1529f10e",
   "metadata": {},
   "outputs": [],
   "source": [
    "#droping the Image columns which is not Required in EDA\n",
    "book.drop(['Image-URL-S', 'Image-URL-L'],axis=1,inplace=True)"
   ]
  },
  {
   "cell_type": "code",
   "execution_count": 12,
   "id": "9c70e6f0",
   "metadata": {},
   "outputs": [],
   "source": [
    "book.rename(columns = {'Book-Title':'title', 'Book-Author':'author', 'Year-Of-Publication':'year', 'Publisher':'publisher', 'Image-URL-M':'image-m'}, inplace=True)"
   ]
  },
  {
   "cell_type": "code",
   "execution_count": 13,
   "id": "e5886c9d",
   "metadata": {},
   "outputs": [
    {
     "data": {
      "text/html": [
       "<div>\n",
       "<style scoped>\n",
       "    .dataframe tbody tr th:only-of-type {\n",
       "        vertical-align: middle;\n",
       "    }\n",
       "\n",
       "    .dataframe tbody tr th {\n",
       "        vertical-align: top;\n",
       "    }\n",
       "\n",
       "    .dataframe thead th {\n",
       "        text-align: right;\n",
       "    }\n",
       "</style>\n",
       "<table border=\"1\" class=\"dataframe\">\n",
       "  <thead>\n",
       "    <tr style=\"text-align: right;\">\n",
       "      <th></th>\n",
       "      <th>ISBN</th>\n",
       "      <th>title</th>\n",
       "      <th>author</th>\n",
       "      <th>year</th>\n",
       "      <th>publisher</th>\n",
       "      <th>image-m</th>\n",
       "    </tr>\n",
       "  </thead>\n",
       "  <tbody>\n",
       "    <tr>\n",
       "      <th>0</th>\n",
       "      <td>0195153448</td>\n",
       "      <td>Classical Mythology</td>\n",
       "      <td>Mark P. O. Morford</td>\n",
       "      <td>2002</td>\n",
       "      <td>Oxford University Press</td>\n",
       "      <td>http://images.amazon.com/images/P/0195153448.0...</td>\n",
       "    </tr>\n",
       "    <tr>\n",
       "      <th>1</th>\n",
       "      <td>0002005018</td>\n",
       "      <td>Clara Callan</td>\n",
       "      <td>Richard Bruce Wright</td>\n",
       "      <td>2001</td>\n",
       "      <td>HarperFlamingo Canada</td>\n",
       "      <td>http://images.amazon.com/images/P/0002005018.0...</td>\n",
       "    </tr>\n",
       "    <tr>\n",
       "      <th>2</th>\n",
       "      <td>0060973129</td>\n",
       "      <td>Decision in Normandy</td>\n",
       "      <td>Carlo D'Este</td>\n",
       "      <td>1991</td>\n",
       "      <td>HarperPerennial</td>\n",
       "      <td>http://images.amazon.com/images/P/0060973129.0...</td>\n",
       "    </tr>\n",
       "    <tr>\n",
       "      <th>3</th>\n",
       "      <td>0374157065</td>\n",
       "      <td>Flu: The Story of the Great Influenza Pandemic...</td>\n",
       "      <td>Gina Bari Kolata</td>\n",
       "      <td>1999</td>\n",
       "      <td>Farrar Straus Giroux</td>\n",
       "      <td>http://images.amazon.com/images/P/0374157065.0...</td>\n",
       "    </tr>\n",
       "    <tr>\n",
       "      <th>4</th>\n",
       "      <td>0393045218</td>\n",
       "      <td>The Mummies of Urumchi</td>\n",
       "      <td>E. J. W. Barber</td>\n",
       "      <td>1999</td>\n",
       "      <td>W. W. Norton &amp;amp; Company</td>\n",
       "      <td>http://images.amazon.com/images/P/0393045218.0...</td>\n",
       "    </tr>\n",
       "    <tr>\n",
       "      <th>...</th>\n",
       "      <td>...</td>\n",
       "      <td>...</td>\n",
       "      <td>...</td>\n",
       "      <td>...</td>\n",
       "      <td>...</td>\n",
       "      <td>...</td>\n",
       "    </tr>\n",
       "    <tr>\n",
       "      <th>271355</th>\n",
       "      <td>0440400988</td>\n",
       "      <td>There's a Bat in Bunk Five</td>\n",
       "      <td>Paula Danziger</td>\n",
       "      <td>1988</td>\n",
       "      <td>Random House Childrens Pub (Mm)</td>\n",
       "      <td>http://images.amazon.com/images/P/0440400988.0...</td>\n",
       "    </tr>\n",
       "    <tr>\n",
       "      <th>271356</th>\n",
       "      <td>0525447644</td>\n",
       "      <td>From One to One Hundred</td>\n",
       "      <td>Teri Sloat</td>\n",
       "      <td>1991</td>\n",
       "      <td>Dutton Books</td>\n",
       "      <td>http://images.amazon.com/images/P/0525447644.0...</td>\n",
       "    </tr>\n",
       "    <tr>\n",
       "      <th>271357</th>\n",
       "      <td>006008667X</td>\n",
       "      <td>Lily Dale : The True Story of the Town that Ta...</td>\n",
       "      <td>Christine Wicker</td>\n",
       "      <td>2004</td>\n",
       "      <td>HarperSanFrancisco</td>\n",
       "      <td>http://images.amazon.com/images/P/006008667X.0...</td>\n",
       "    </tr>\n",
       "    <tr>\n",
       "      <th>271358</th>\n",
       "      <td>0192126040</td>\n",
       "      <td>Republic (World's Classics)</td>\n",
       "      <td>Plato</td>\n",
       "      <td>1996</td>\n",
       "      <td>Oxford University Press</td>\n",
       "      <td>http://images.amazon.com/images/P/0192126040.0...</td>\n",
       "    </tr>\n",
       "    <tr>\n",
       "      <th>271359</th>\n",
       "      <td>0767409752</td>\n",
       "      <td>A Guided Tour of Rene Descartes' Meditations o...</td>\n",
       "      <td>Christopher  Biffle</td>\n",
       "      <td>2000</td>\n",
       "      <td>McGraw-Hill Humanities/Social Sciences/Languages</td>\n",
       "      <td>http://images.amazon.com/images/P/0767409752.0...</td>\n",
       "    </tr>\n",
       "  </tbody>\n",
       "</table>\n",
       "<p>271360 rows × 6 columns</p>\n",
       "</div>"
      ],
      "text/plain": [
       "              ISBN                                              title  \\\n",
       "0       0195153448                                Classical Mythology   \n",
       "1       0002005018                                       Clara Callan   \n",
       "2       0060973129                               Decision in Normandy   \n",
       "3       0374157065  Flu: The Story of the Great Influenza Pandemic...   \n",
       "4       0393045218                             The Mummies of Urumchi   \n",
       "...            ...                                                ...   \n",
       "271355  0440400988                         There's a Bat in Bunk Five   \n",
       "271356  0525447644                            From One to One Hundred   \n",
       "271357  006008667X  Lily Dale : The True Story of the Town that Ta...   \n",
       "271358  0192126040                        Republic (World's Classics)   \n",
       "271359  0767409752  A Guided Tour of Rene Descartes' Meditations o...   \n",
       "\n",
       "                      author  year  \\\n",
       "0         Mark P. O. Morford  2002   \n",
       "1       Richard Bruce Wright  2001   \n",
       "2               Carlo D'Este  1991   \n",
       "3           Gina Bari Kolata  1999   \n",
       "4            E. J. W. Barber  1999   \n",
       "...                      ...   ...   \n",
       "271355        Paula Danziger  1988   \n",
       "271356            Teri Sloat  1991   \n",
       "271357      Christine Wicker  2004   \n",
       "271358                 Plato  1996   \n",
       "271359   Christopher  Biffle  2000   \n",
       "\n",
       "                                               publisher  \\\n",
       "0                                Oxford University Press   \n",
       "1                                  HarperFlamingo Canada   \n",
       "2                                        HarperPerennial   \n",
       "3                                   Farrar Straus Giroux   \n",
       "4                             W. W. Norton &amp; Company   \n",
       "...                                                  ...   \n",
       "271355                   Random House Childrens Pub (Mm)   \n",
       "271356                                      Dutton Books   \n",
       "271357                                HarperSanFrancisco   \n",
       "271358                           Oxford University Press   \n",
       "271359  McGraw-Hill Humanities/Social Sciences/Languages   \n",
       "\n",
       "                                                  image-m  \n",
       "0       http://images.amazon.com/images/P/0195153448.0...  \n",
       "1       http://images.amazon.com/images/P/0002005018.0...  \n",
       "2       http://images.amazon.com/images/P/0060973129.0...  \n",
       "3       http://images.amazon.com/images/P/0374157065.0...  \n",
       "4       http://images.amazon.com/images/P/0393045218.0...  \n",
       "...                                                   ...  \n",
       "271355  http://images.amazon.com/images/P/0440400988.0...  \n",
       "271356  http://images.amazon.com/images/P/0525447644.0...  \n",
       "271357  http://images.amazon.com/images/P/006008667X.0...  \n",
       "271358  http://images.amazon.com/images/P/0192126040.0...  \n",
       "271359  http://images.amazon.com/images/P/0767409752.0...  \n",
       "\n",
       "[271360 rows x 6 columns]"
      ]
     },
     "execution_count": 13,
     "metadata": {},
     "output_type": "execute_result"
    }
   ],
   "source": [
    "book"
   ]
  },
  {
   "cell_type": "code",
   "execution_count": 14,
   "id": "41d8a804",
   "metadata": {},
   "outputs": [
    {
     "data": {
      "text/html": [
       "<div>\n",
       "<style scoped>\n",
       "    .dataframe tbody tr th:only-of-type {\n",
       "        vertical-align: middle;\n",
       "    }\n",
       "\n",
       "    .dataframe tbody tr th {\n",
       "        vertical-align: top;\n",
       "    }\n",
       "\n",
       "    .dataframe thead th {\n",
       "        text-align: right;\n",
       "    }\n",
       "</style>\n",
       "<table border=\"1\" class=\"dataframe\">\n",
       "  <thead>\n",
       "    <tr style=\"text-align: right;\">\n",
       "      <th></th>\n",
       "      <th>ISBN</th>\n",
       "      <th>title</th>\n",
       "    </tr>\n",
       "  </thead>\n",
       "  <tbody>\n",
       "    <tr>\n",
       "      <th>0</th>\n",
       "      <td>0000913154</td>\n",
       "      <td>1</td>\n",
       "    </tr>\n",
       "    <tr>\n",
       "      <th>1</th>\n",
       "      <td>0001010565</td>\n",
       "      <td>1</td>\n",
       "    </tr>\n",
       "    <tr>\n",
       "      <th>2</th>\n",
       "      <td>0001046438</td>\n",
       "      <td>1</td>\n",
       "    </tr>\n",
       "    <tr>\n",
       "      <th>3</th>\n",
       "      <td>0001046713</td>\n",
       "      <td>1</td>\n",
       "    </tr>\n",
       "    <tr>\n",
       "      <th>4</th>\n",
       "      <td>000104687X</td>\n",
       "      <td>1</td>\n",
       "    </tr>\n",
       "    <tr>\n",
       "      <th>...</th>\n",
       "      <td>...</td>\n",
       "      <td>...</td>\n",
       "    </tr>\n",
       "    <tr>\n",
       "      <th>271355</th>\n",
       "      <td>B000234N76</td>\n",
       "      <td>1</td>\n",
       "    </tr>\n",
       "    <tr>\n",
       "      <th>271356</th>\n",
       "      <td>B000234NC6</td>\n",
       "      <td>1</td>\n",
       "    </tr>\n",
       "    <tr>\n",
       "      <th>271357</th>\n",
       "      <td>B00029DGGO</td>\n",
       "      <td>1</td>\n",
       "    </tr>\n",
       "    <tr>\n",
       "      <th>271358</th>\n",
       "      <td>B0002JV9PY</td>\n",
       "      <td>1</td>\n",
       "    </tr>\n",
       "    <tr>\n",
       "      <th>271359</th>\n",
       "      <td>B0002K6K8O</td>\n",
       "      <td>1</td>\n",
       "    </tr>\n",
       "  </tbody>\n",
       "</table>\n",
       "<p>271360 rows × 2 columns</p>\n",
       "</div>"
      ],
      "text/plain": [
       "              ISBN  title\n",
       "0       0000913154      1\n",
       "1       0001010565      1\n",
       "2       0001046438      1\n",
       "3       0001046713      1\n",
       "4       000104687X      1\n",
       "...            ...    ...\n",
       "271355  B000234N76      1\n",
       "271356  B000234NC6      1\n",
       "271357  B00029DGGO      1\n",
       "271358  B0002JV9PY      1\n",
       "271359  B0002K6K8O      1\n",
       "\n",
       "[271360 rows x 2 columns]"
      ]
     },
     "execution_count": 14,
     "metadata": {},
     "output_type": "execute_result"
    }
   ],
   "source": [
    "book_isbn = book.groupby('ISBN').count()['title'].reset_index()\n",
    "book_isbn"
   ]
  },
  {
   "cell_type": "code",
   "execution_count": 15,
   "id": "b12117f7",
   "metadata": {},
   "outputs": [
    {
     "data": {
      "text/plain": [
       "False    242135\n",
       "True      29225\n",
       "Name: title, dtype: int64"
      ]
     },
     "execution_count": 15,
     "metadata": {},
     "output_type": "execute_result"
    }
   ],
   "source": [
    "book_bt = book.sort_values(\"title\", inplace = True)\n",
    "book_bt = book[\"title\"].duplicated()\n",
    "book_bt.value_counts()"
   ]
  },
  {
   "cell_type": "code",
   "execution_count": 16,
   "id": "139f8529",
   "metadata": {},
   "outputs": [
    {
     "data": {
      "text/plain": [
       "count     271360\n",
       "unique       202\n",
       "top         2002\n",
       "freq       13903\n",
       "Name: year, dtype: int64"
      ]
     },
     "execution_count": 16,
     "metadata": {},
     "output_type": "execute_result"
    }
   ],
   "source": [
    "book['year'].describe()"
   ]
  },
  {
   "cell_type": "code",
   "execution_count": 17,
   "id": "6ee74a4b",
   "metadata": {},
   "outputs": [
    {
     "data": {
      "text/plain": [
       "array([1999, '1994', 1984, 2001, 1989, '2000', 2004, 1994, 1991, 2002,\n",
       "       1996, '1995', 1995, '2001', '1998', '1997', 1997, '1973', '1999',\n",
       "       1998, 1990, 1987, '2003', 1979, 1993, 1986, 2000, '2002', 1992, 0,\n",
       "       1983, 1972, '1985', '1992', 1988, 1985, 2003, 1980, '1987', 1966,\n",
       "       1953, '1984', '1978', 1951, '1990', '1976', '1989', '1996', 1982,\n",
       "       '1991', '1993', '1982', '1971', 1973, '1974', 1981, '0', '1965',\n",
       "       1959, 1976, 1977, 1971, 1978, '1986', '1988', '2004', '1980',\n",
       "       '1983', '1977', '1979', '1975', 1975, '1963', 1968, 1963, '1969',\n",
       "       1969, '1981', '1968', '1964', 1974, 1955, '1957', 1970, '1972',\n",
       "       '1952', 1962, 1965, 1961, '1958', 1911, '1962', '1970', 1967, 1935,\n",
       "       '1954', 1939, 1964, '1959', 2011, '1967', '1947', 1960, 2005, 1958,\n",
       "       1956, '1944', '1955', '1950', '1960', '1961', 1920, 1957, '1946',\n",
       "       1946, 2050, 1929, 1936, '1966', 1945, '2008', 1954, '1956', 1940,\n",
       "       '2005', 1901, 1949, 1928, 1952, '1940', '1945', 1931, '1911', 1930,\n",
       "       1947, '1949', 1942, '1909', 1904, '2024', 1950, 1917, 1906, 1902,\n",
       "       '1938', '1936', '1951', 1806, 2030, 1941, 'DK Publishing Inc',\n",
       "       '1378', 2026, 2010, 1937, 1923, 2020, 1910, '2030', '1953', 1938,\n",
       "       1933, 1925, '1941', 2021, '1900', '1923', '1926', '1897', 1900,\n",
       "       1943, 1908, '2020', '1922', 1948, '1948', '1927', '1931', '1920',\n",
       "       '1943', '2006', '2011', 1944, '1942', 1934, '2012', 'Gallimard',\n",
       "       '1924', '1919', 1932, '1932', 1914, 1924, '1376', 1921, '1939',\n",
       "       '1933', 1927, 1926, '1930', 2038, '2037'], dtype=object)"
      ]
     },
     "execution_count": 17,
     "metadata": {},
     "output_type": "execute_result"
    }
   ],
   "source": [
    "book['year'].unique()"
   ]
  },
  {
   "cell_type": "code",
   "execution_count": 18,
   "id": "11ebbefc",
   "metadata": {
    "scrolled": true
   },
   "outputs": [
    {
     "data": {
      "text/html": [
       "<div>\n",
       "<style scoped>\n",
       "    .dataframe tbody tr th:only-of-type {\n",
       "        vertical-align: middle;\n",
       "    }\n",
       "\n",
       "    .dataframe tbody tr th {\n",
       "        vertical-align: top;\n",
       "    }\n",
       "\n",
       "    .dataframe thead th {\n",
       "        text-align: right;\n",
       "    }\n",
       "</style>\n",
       "<table border=\"1\" class=\"dataframe\">\n",
       "  <thead>\n",
       "    <tr style=\"text-align: right;\">\n",
       "      <th></th>\n",
       "      <th>ISBN</th>\n",
       "      <th>title</th>\n",
       "      <th>author</th>\n",
       "      <th>year</th>\n",
       "      <th>publisher</th>\n",
       "      <th>image-m</th>\n",
       "    </tr>\n",
       "  </thead>\n",
       "  <tbody>\n",
       "    <tr>\n",
       "      <th>221678</th>\n",
       "      <td>0789466953</td>\n",
       "      <td>DK Readers: Creating the X-Men, How Comic Book...</td>\n",
       "      <td>2000</td>\n",
       "      <td>DK Publishing Inc</td>\n",
       "      <td>http://images.amazon.com/images/P/0789466953.0...</td>\n",
       "      <td>http://images.amazon.com/images/P/0789466953.0...</td>\n",
       "    </tr>\n",
       "    <tr>\n",
       "      <th>209538</th>\n",
       "      <td>078946697X</td>\n",
       "      <td>DK Readers: Creating the X-Men, How It All Beg...</td>\n",
       "      <td>2000</td>\n",
       "      <td>DK Publishing Inc</td>\n",
       "      <td>http://images.amazon.com/images/P/078946697X.0...</td>\n",
       "      <td>http://images.amazon.com/images/P/078946697X.0...</td>\n",
       "    </tr>\n",
       "  </tbody>\n",
       "</table>\n",
       "</div>"
      ],
      "text/plain": [
       "              ISBN                                              title author  \\\n",
       "221678  0789466953  DK Readers: Creating the X-Men, How Comic Book...   2000   \n",
       "209538  078946697X  DK Readers: Creating the X-Men, How It All Beg...   2000   \n",
       "\n",
       "                     year                                          publisher  \\\n",
       "221678  DK Publishing Inc  http://images.amazon.com/images/P/0789466953.0...   \n",
       "209538  DK Publishing Inc  http://images.amazon.com/images/P/078946697X.0...   \n",
       "\n",
       "                                                  image-m  \n",
       "221678  http://images.amazon.com/images/P/0789466953.0...  \n",
       "209538  http://images.amazon.com/images/P/078946697X.0...  "
      ]
     },
     "execution_count": 18,
     "metadata": {},
     "output_type": "execute_result"
    }
   ],
   "source": [
    "book.loc[book['year'] == 'DK Publishing Inc',:]"
   ]
  },
  {
   "cell_type": "code",
   "execution_count": 19,
   "id": "06825dc2",
   "metadata": {},
   "outputs": [],
   "source": [
    "book.loc[book.ISBN == '0789466953','year'] = 2000\n",
    "book.loc[book.ISBN == '0789466953','author'] = \"James Buckley\"\n",
    "book.loc[book.ISBN == '0789466953','publisher'] = \"DK Publishing Inc\"\n",
    "book.loc[book.ISBN == '0789466953','title'] = \"DK Readers: Creating the X-Men, How Comic Books Come to Life (Level 4: Proficient Readers)\""
   ]
  },
  {
   "cell_type": "code",
   "execution_count": 20,
   "id": "2a2ccfa8",
   "metadata": {},
   "outputs": [],
   "source": [
    "book.loc[book.ISBN == '078946697X','year'] = 2000\n",
    "book.loc[book.ISBN == '078946697X','author'] = \"Michael Teitelbaum\"\n",
    "book.loc[book.ISBN == '078946697X','publisher'] = \"DK Publishing Inc\"\n",
    "book.loc[book.ISBN == '078946697X','title'] = \"DK Readers: Creating the X-Men, How It All Began (Level 4: Proficient Readers)\""
   ]
  },
  {
   "cell_type": "code",
   "execution_count": 21,
   "id": "06fa591c",
   "metadata": {},
   "outputs": [
    {
     "data": {
      "text/html": [
       "<div>\n",
       "<style scoped>\n",
       "    .dataframe tbody tr th:only-of-type {\n",
       "        vertical-align: middle;\n",
       "    }\n",
       "\n",
       "    .dataframe tbody tr th {\n",
       "        vertical-align: top;\n",
       "    }\n",
       "\n",
       "    .dataframe thead th {\n",
       "        text-align: right;\n",
       "    }\n",
       "</style>\n",
       "<table border=\"1\" class=\"dataframe\">\n",
       "  <thead>\n",
       "    <tr style=\"text-align: right;\">\n",
       "      <th></th>\n",
       "      <th>ISBN</th>\n",
       "      <th>title</th>\n",
       "      <th>author</th>\n",
       "      <th>year</th>\n",
       "      <th>publisher</th>\n",
       "      <th>image-m</th>\n",
       "    </tr>\n",
       "  </thead>\n",
       "  <tbody>\n",
       "    <tr>\n",
       "      <th>221678</th>\n",
       "      <td>0789466953</td>\n",
       "      <td>DK Readers: Creating the X-Men, How Comic Book...</td>\n",
       "      <td>James Buckley</td>\n",
       "      <td>2000</td>\n",
       "      <td>DK Publishing Inc</td>\n",
       "      <td>http://images.amazon.com/images/P/0789466953.0...</td>\n",
       "    </tr>\n",
       "    <tr>\n",
       "      <th>209538</th>\n",
       "      <td>078946697X</td>\n",
       "      <td>DK Readers: Creating the X-Men, How It All Beg...</td>\n",
       "      <td>Michael Teitelbaum</td>\n",
       "      <td>2000</td>\n",
       "      <td>DK Publishing Inc</td>\n",
       "      <td>http://images.amazon.com/images/P/078946697X.0...</td>\n",
       "    </tr>\n",
       "  </tbody>\n",
       "</table>\n",
       "</div>"
      ],
      "text/plain": [
       "              ISBN                                              title  \\\n",
       "221678  0789466953  DK Readers: Creating the X-Men, How Comic Book...   \n",
       "209538  078946697X  DK Readers: Creating the X-Men, How It All Beg...   \n",
       "\n",
       "                    author  year          publisher  \\\n",
       "221678       James Buckley  2000  DK Publishing Inc   \n",
       "209538  Michael Teitelbaum  2000  DK Publishing Inc   \n",
       "\n",
       "                                                  image-m  \n",
       "221678  http://images.amazon.com/images/P/0789466953.0...  \n",
       "209538  http://images.amazon.com/images/P/078946697X.0...  "
      ]
     },
     "execution_count": 21,
     "metadata": {},
     "output_type": "execute_result"
    }
   ],
   "source": [
    "book.loc[(book.ISBN == '0789466953') | (book.ISBN == '078946697X'),:]"
   ]
  },
  {
   "cell_type": "code",
   "execution_count": 22,
   "id": "852f912d",
   "metadata": {},
   "outputs": [
    {
     "data": {
      "text/html": [
       "<div>\n",
       "<style scoped>\n",
       "    .dataframe tbody tr th:only-of-type {\n",
       "        vertical-align: middle;\n",
       "    }\n",
       "\n",
       "    .dataframe tbody tr th {\n",
       "        vertical-align: top;\n",
       "    }\n",
       "\n",
       "    .dataframe thead th {\n",
       "        text-align: right;\n",
       "    }\n",
       "</style>\n",
       "<table border=\"1\" class=\"dataframe\">\n",
       "  <thead>\n",
       "    <tr style=\"text-align: right;\">\n",
       "      <th></th>\n",
       "      <th>ISBN</th>\n",
       "      <th>title</th>\n",
       "      <th>author</th>\n",
       "      <th>year</th>\n",
       "      <th>publisher</th>\n",
       "      <th>image-m</th>\n",
       "    </tr>\n",
       "  </thead>\n",
       "  <tbody>\n",
       "    <tr>\n",
       "      <th>220731</th>\n",
       "      <td>2070426769</td>\n",
       "      <td>Peuple du ciel, suivi de 'Les Bergers\\\";Jean-M...</td>\n",
       "      <td>2003</td>\n",
       "      <td>Gallimard</td>\n",
       "      <td>http://images.amazon.com/images/P/2070426769.0...</td>\n",
       "      <td>http://images.amazon.com/images/P/2070426769.0...</td>\n",
       "    </tr>\n",
       "  </tbody>\n",
       "</table>\n",
       "</div>"
      ],
      "text/plain": [
       "              ISBN                                              title author  \\\n",
       "220731  2070426769  Peuple du ciel, suivi de 'Les Bergers\\\";Jean-M...   2003   \n",
       "\n",
       "             year                                          publisher  \\\n",
       "220731  Gallimard  http://images.amazon.com/images/P/2070426769.0...   \n",
       "\n",
       "                                                  image-m  \n",
       "220731  http://images.amazon.com/images/P/2070426769.0...  "
      ]
     },
     "execution_count": 22,
     "metadata": {},
     "output_type": "execute_result"
    }
   ],
   "source": [
    "book.loc[book['year'] == 'Gallimard',:]"
   ]
  },
  {
   "cell_type": "code",
   "execution_count": 23,
   "id": "6cd1d95f",
   "metadata": {},
   "outputs": [],
   "source": [
    "book.loc[book.ISBN == '2070426769','year'] = 2003\n",
    "book.loc[book.ISBN == '2070426769','author'] = \"Jean-Marie Gustave Le ClÃ?Â©zio\"\n",
    "book.loc[book.ISBN == '2070426769','publisher'] = \"Gallimard\"\n",
    "book.loc[book.ISBN == '2070426769','title'] = \"Peuple du ciel, suivi de 'Les Bergers\""
   ]
  },
  {
   "cell_type": "code",
   "execution_count": 24,
   "id": "baf52c89",
   "metadata": {},
   "outputs": [
    {
     "data": {
      "text/html": [
       "<div>\n",
       "<style scoped>\n",
       "    .dataframe tbody tr th:only-of-type {\n",
       "        vertical-align: middle;\n",
       "    }\n",
       "\n",
       "    .dataframe tbody tr th {\n",
       "        vertical-align: top;\n",
       "    }\n",
       "\n",
       "    .dataframe thead th {\n",
       "        text-align: right;\n",
       "    }\n",
       "</style>\n",
       "<table border=\"1\" class=\"dataframe\">\n",
       "  <thead>\n",
       "    <tr style=\"text-align: right;\">\n",
       "      <th></th>\n",
       "      <th>ISBN</th>\n",
       "      <th>title</th>\n",
       "      <th>author</th>\n",
       "      <th>year</th>\n",
       "      <th>publisher</th>\n",
       "      <th>image-m</th>\n",
       "    </tr>\n",
       "  </thead>\n",
       "  <tbody>\n",
       "    <tr>\n",
       "      <th>220731</th>\n",
       "      <td>2070426769</td>\n",
       "      <td>Peuple du ciel, suivi de 'Les Bergers</td>\n",
       "      <td>Jean-Marie Gustave Le ClÃ?Â©zio</td>\n",
       "      <td>2003</td>\n",
       "      <td>Gallimard</td>\n",
       "      <td>http://images.amazon.com/images/P/2070426769.0...</td>\n",
       "    </tr>\n",
       "  </tbody>\n",
       "</table>\n",
       "</div>"
      ],
      "text/plain": [
       "              ISBN                                  title  \\\n",
       "220731  2070426769  Peuple du ciel, suivi de 'Les Bergers   \n",
       "\n",
       "                                 author  year  publisher  \\\n",
       "220731  Jean-Marie Gustave Le ClÃ?Â©zio  2003  Gallimard   \n",
       "\n",
       "                                                  image-m  \n",
       "220731  http://images.amazon.com/images/P/2070426769.0...  "
      ]
     },
     "execution_count": 24,
     "metadata": {},
     "output_type": "execute_result"
    }
   ],
   "source": [
    "book.loc[book.ISBN == '2070426769',:]"
   ]
  },
  {
   "cell_type": "code",
   "execution_count": 25,
   "id": "8a6b0c3e",
   "metadata": {},
   "outputs": [
    {
     "data": {
      "text/plain": [
       "array([1999, '1994', 1984, 2001, 1989, '2000', 2004, 1994, 1991, 2002,\n",
       "       1996, '1995', 1995, '2001', '1998', '1997', 1997, '1973', '1999',\n",
       "       1998, 1990, 1987, '2003', 1979, 1993, 1986, 2000, '2002', 1992, 0,\n",
       "       1983, 1972, '1985', '1992', 1988, 1985, 2003, 1980, '1987', 1966,\n",
       "       1953, '1984', '1978', 1951, '1990', '1976', '1989', '1996', 1982,\n",
       "       '1991', '1993', '1982', '1971', 1973, '1974', 1981, '0', '1965',\n",
       "       1959, 1976, 1977, 1971, 1978, '1986', '1988', '2004', '1980',\n",
       "       '1983', '1977', '1979', '1975', 1975, '1963', 1968, 1963, '1969',\n",
       "       1969, '1981', '1968', '1964', 1974, 1955, '1957', 1970, '1972',\n",
       "       '1952', 1962, 1965, 1961, '1958', 1911, '1962', '1970', 1967, 1935,\n",
       "       '1954', 1939, 1964, '1959', 2011, '1967', '1947', 1960, 2005, 1958,\n",
       "       1956, '1944', '1955', '1950', '1960', '1961', 1920, 1957, '1946',\n",
       "       1946, 2050, 1929, 1936, '1966', 1945, '2008', 1954, '1956', 1940,\n",
       "       '2005', 1901, 1949, 1928, 1952, '1940', '1945', 1931, '1911', 1930,\n",
       "       1947, '1949', 1942, '1909', 1904, '2024', 1950, 1917, 1906, 1902,\n",
       "       '1938', '1936', '1951', 1806, 2030, 1941, '1378', 2026, 2010, 1937,\n",
       "       1923, 2020, 1910, '2030', '1953', 1938, 1933, 1925, '1941', 2021,\n",
       "       '1900', '1923', '1926', '1897', 1900, 1943, 1908, '2020', '1922',\n",
       "       1948, '1948', '1927', '1931', '1920', '1943', '2006', '2011', 1944,\n",
       "       '1942', 1934, '2012', '1924', '1919', 1932, '1932', 1914, 1924,\n",
       "       '1376', 1921, '1939', '1933', 1927, 1926, '1930', 2038, '2037'],\n",
       "      dtype=object)"
      ]
     },
     "execution_count": 25,
     "metadata": {},
     "output_type": "execute_result"
    }
   ],
   "source": [
    "book['year'].unique()"
   ]
  },
  {
   "cell_type": "code",
   "execution_count": 26,
   "id": "f2ed5246",
   "metadata": {},
   "outputs": [
    {
     "data": {
      "text/plain": [
       "count     271360\n",
       "unique       200\n",
       "top         2002\n",
       "freq       13903\n",
       "Name: year, dtype: int64"
      ]
     },
     "execution_count": 26,
     "metadata": {},
     "output_type": "execute_result"
    }
   ],
   "source": [
    "book['year'].describe()"
   ]
  },
  {
   "cell_type": "code",
   "execution_count": null,
   "id": "1c63135e",
   "metadata": {},
   "outputs": [],
   "source": []
  },
  {
   "cell_type": "code",
   "execution_count": 27,
   "id": "20b23fe7",
   "metadata": {},
   "outputs": [],
   "source": [
    "book.year=pd.to_numeric(book.year, errors='coerce')"
   ]
  },
  {
   "cell_type": "code",
   "execution_count": 28,
   "id": "60b51e25",
   "metadata": {},
   "outputs": [],
   "source": [
    "book.loc[(book['year'] > 2022) | (book.year == 0),'year'] = np.NAN"
   ]
  },
  {
   "cell_type": "code",
   "execution_count": 29,
   "id": "7cbf9a79",
   "metadata": {},
   "outputs": [
    {
     "data": {
      "text/plain": [
       "4631"
      ]
     },
     "execution_count": 29,
     "metadata": {},
     "output_type": "execute_result"
    }
   ],
   "source": [
    "book['year'].isna().sum()"
   ]
  },
  {
   "cell_type": "code",
   "execution_count": 30,
   "id": "291dbe07",
   "metadata": {},
   "outputs": [],
   "source": [
    "book.year.fillna(round(book.year.mean()), inplace=True)"
   ]
  },
  {
   "cell_type": "code",
   "execution_count": 31,
   "id": "b38f6ce3",
   "metadata": {},
   "outputs": [
    {
     "data": {
      "text/plain": [
       "0"
      ]
     },
     "execution_count": 31,
     "metadata": {},
     "output_type": "execute_result"
    }
   ],
   "source": [
    "book.year.isnull().sum()"
   ]
  },
  {
   "cell_type": "code",
   "execution_count": 32,
   "id": "42e5b05a",
   "metadata": {},
   "outputs": [
    {
     "name": "stdout",
     "output_type": "stream",
     "text": [
      "[1376.0, 1378.0, 1806.0, 1897.0, 1900.0, 1901.0, 1902.0, 1904.0, 1906.0, 1908.0, 1909.0, 1910.0, 1911.0, 1914.0, 1917.0, 1919.0, 1920.0, 1921.0, 1922.0, 1923.0, 1924.0, 1925.0, 1926.0, 1927.0, 1928.0, 1929.0, 1930.0, 1931.0, 1932.0, 1933.0, 1934.0, 1935.0, 1936.0, 1937.0, 1938.0, 1939.0, 1940.0, 1941.0, 1942.0, 1943.0, 1944.0, 1945.0, 1946.0, 1947.0, 1948.0, 1949.0, 1950.0, 1951.0, 1952.0, 1953.0, 1954.0, 1955.0, 1956.0, 1957.0, 1958.0, 1959.0, 1960.0, 1961.0, 1962.0, 1963.0, 1964.0, 1965.0, 1966.0, 1967.0, 1968.0, 1969.0, 1970.0, 1971.0, 1972.0, 1973.0, 1974.0, 1975.0, 1976.0, 1977.0, 1978.0, 1979.0, 1980.0, 1981.0, 1982.0, 1983.0, 1984.0, 1985.0, 1986.0, 1987.0, 1988.0, 1989.0, 1990.0, 1991.0, 1992.0, 1993.0, 1994.0, 1995.0, 1996.0, 1997.0, 1998.0, 1999.0, 2000.0, 2001.0, 2002.0, 2003.0, 2004.0, 2005.0, 2006.0, 2008.0, 2010.0, 2011.0, 2012.0, 2020.0, 2021.0]\n"
     ]
    }
   ],
   "source": [
    "print(sorted(book['year'].unique()))"
   ]
  },
  {
   "cell_type": "code",
   "execution_count": 33,
   "id": "e3cf809c",
   "metadata": {},
   "outputs": [
    {
     "data": {
      "text/plain": [
       "<AxesSubplot:xlabel='year'>"
      ]
     },
     "execution_count": 33,
     "metadata": {},
     "output_type": "execute_result"
    },
    {
     "data": {
      "image/png": "[encoded data removed]",
      "text/plain": [
       "<Figure size 640x480 with 1 Axes>"
      ]
     },
     "metadata": {},
     "output_type": "display_data"
    }
   ],
   "source": [
    "sns.boxplot(book['year'])"
   ]
  },
  {
   "cell_type": "code",
   "execution_count": 34,
   "id": "f1c35468",
   "metadata": {},
   "outputs": [
    {
     "name": "stdout",
     "output_type": "stream",
     "text": [
      "(array([ 43204,  48593,  98455, 194074], dtype=int64),)\n"
     ]
    }
   ],
   "source": [
    "print(np.where(book['year']<1900))"
   ]
  },
  {
   "cell_type": "code",
   "execution_count": 35,
   "id": "096e139e",
   "metadata": {},
   "outputs": [
    {
     "name": "stdout",
     "output_type": "stream",
     "text": [
      "             ISBN                                     title  \\\n",
      "43204  3929017776  Frauen im Islam: 55 Fragen und Antworten   \n",
      "\n",
      "                     author    year publisher  \\\n",
      "43204  Hadayatullah HÃ¼bsch  1997.0    Betzel   \n",
      "\n",
      "                                                 image-m  \n",
      "43204  http://images.amazon.com/images/P/3929017776.0...  \n",
      "             ISBN                                       title       author  \\\n",
      "48593  0810921995  Jewish Ceremonial Art and Religious Observ  Abram Kanof   \n",
      "\n",
      "         year  publisher                                            image-m  \n",
      "48593  1994.0  Abrams, N  http://images.amazon.com/images/P/0810921995.0...  \n",
      "             ISBN                                              title  \\\n",
      "98455  1557042926  The Sense and Sensibility Screenplay &amp; Dia...   \n",
      "\n",
      "              author    year        publisher  \\\n",
      "98455  Emma Thompson  2002.0  Newmarket Press   \n",
      "\n",
      "                                                 image-m  \n",
      "98455  http://images.amazon.com/images/P/1557042926.0...  \n",
      "              ISBN              title           author    year     publisher  \\\n",
      "194074  2226062548  Paroles indiennes  Michel Piquemal  1993.0  Albin Michel   \n",
      "\n",
      "                                                  image-m  \n",
      "194074  http://images.amazon.com/images/P/2226062548.0...  \n"
     ]
    }
   ],
   "source": [
    "print(book.loc[[43204]])\n",
    "print(book.loc[[48593]])\n",
    "print(book.loc[[98455]])\n",
    "print(book.loc[[194074]])"
   ]
  },
  {
   "cell_type": "code",
   "execution_count": 36,
   "id": "48a11f1f",
   "metadata": {},
   "outputs": [
    {
     "name": "stdout",
     "output_type": "stream",
     "text": [
      "             ISBN                                     title  \\\n",
      "43204  3929017776  Frauen im Islam: 55 Fragen und Antworten   \n",
      "\n",
      "                     author    year publisher  \\\n",
      "43204  Hadayatullah HÃ¼bsch  1997.0    Betzel   \n",
      "\n",
      "                                                 image-m  \n",
      "43204  http://images.amazon.com/images/P/3929017776.0...  \n",
      "             ISBN                                       title       author  \\\n",
      "48593  0810921995  Jewish Ceremonial Art and Religious Observ  Abram Kanof   \n",
      "\n",
      "         year  publisher                                            image-m  \n",
      "48593  1994.0  Abrams, N  http://images.amazon.com/images/P/0810921995.0...  \n",
      "             ISBN                                              title  \\\n",
      "98455  1557042926  The Sense and Sensibility Screenplay &amp; Dia...   \n",
      "\n",
      "              author    year        publisher  \\\n",
      "98455  Emma Thompson  2002.0  Newmarket Press   \n",
      "\n",
      "                                                 image-m  \n",
      "98455  http://images.amazon.com/images/P/1557042926.0...  \n",
      "              ISBN              title           author    year     publisher  \\\n",
      "194074  2226062548  Paroles indiennes  Michel Piquemal  1993.0  Albin Michel   \n",
      "\n",
      "                                                  image-m  \n",
      "194074  http://images.amazon.com/images/P/2226062548.0...  \n"
     ]
    }
   ],
   "source": [
    "print(book.loc[book.ISBN == '3929017776',:])\n",
    "print(book.loc[book.ISBN == '0810921995',:])\n",
    "print(book.loc[book.ISBN == '1557042926',:])\n",
    "print(book.loc[book.ISBN == '2226062548',:])"
   ]
  },
  {
   "cell_type": "code",
   "execution_count": 37,
   "id": "dc264065",
   "metadata": {},
   "outputs": [
    {
     "data": {
      "text/html": [
       "<div>\n",
       "<style scoped>\n",
       "    .dataframe tbody tr th:only-of-type {\n",
       "        vertical-align: middle;\n",
       "    }\n",
       "\n",
       "    .dataframe tbody tr th {\n",
       "        vertical-align: top;\n",
       "    }\n",
       "\n",
       "    .dataframe thead th {\n",
       "        text-align: right;\n",
       "    }\n",
       "</style>\n",
       "<table border=\"1\" class=\"dataframe\">\n",
       "  <thead>\n",
       "    <tr style=\"text-align: right;\">\n",
       "      <th></th>\n",
       "      <th>ISBN</th>\n",
       "      <th>title</th>\n",
       "      <th>author</th>\n",
       "      <th>year</th>\n",
       "      <th>publisher</th>\n",
       "      <th>image-m</th>\n",
       "    </tr>\n",
       "  </thead>\n",
       "  <tbody>\n",
       "    <tr>\n",
       "      <th>43204</th>\n",
       "      <td>3929017776</td>\n",
       "      <td>Frauen im Islam: 55 Fragen und Antworten</td>\n",
       "      <td>Hadayatullah HÃ¼bsch</td>\n",
       "      <td>1997.0</td>\n",
       "      <td>Betzel</td>\n",
       "      <td>http://images.amazon.com/images/P/3929017776.0...</td>\n",
       "    </tr>\n",
       "  </tbody>\n",
       "</table>\n",
       "</div>"
      ],
      "text/plain": [
       "             ISBN                                     title  \\\n",
       "43204  3929017776  Frauen im Islam: 55 Fragen und Antworten   \n",
       "\n",
       "                     author    year publisher  \\\n",
       "43204  Hadayatullah HÃ¼bsch  1997.0    Betzel   \n",
       "\n",
       "                                                 image-m  \n",
       "43204  http://images.amazon.com/images/P/3929017776.0...  "
      ]
     },
     "execution_count": 37,
     "metadata": {},
     "output_type": "execute_result"
    }
   ],
   "source": [
    "book.loc[book.ISBN == '3929017776',:]"
   ]
  },
  {
   "cell_type": "code",
   "execution_count": 38,
   "id": "f322cccb",
   "metadata": {},
   "outputs": [
    {
     "data": {
      "text/html": [
       "<div>\n",
       "<style scoped>\n",
       "    .dataframe tbody tr th:only-of-type {\n",
       "        vertical-align: middle;\n",
       "    }\n",
       "\n",
       "    .dataframe tbody tr th {\n",
       "        vertical-align: top;\n",
       "    }\n",
       "\n",
       "    .dataframe thead th {\n",
       "        text-align: right;\n",
       "    }\n",
       "</style>\n",
       "<table border=\"1\" class=\"dataframe\">\n",
       "  <thead>\n",
       "    <tr style=\"text-align: right;\">\n",
       "      <th></th>\n",
       "      <th>ISBN</th>\n",
       "      <th>title</th>\n",
       "      <th>author</th>\n",
       "      <th>year</th>\n",
       "      <th>publisher</th>\n",
       "      <th>image-m</th>\n",
       "    </tr>\n",
       "  </thead>\n",
       "  <tbody>\n",
       "    <tr>\n",
       "      <th>48593</th>\n",
       "      <td>0810921995</td>\n",
       "      <td>Jewish Ceremonial Art and Religious Observ</td>\n",
       "      <td>Abram Kanof</td>\n",
       "      <td>1994.0</td>\n",
       "      <td>Abrams, N</td>\n",
       "      <td>http://images.amazon.com/images/P/0810921995.0...</td>\n",
       "    </tr>\n",
       "  </tbody>\n",
       "</table>\n",
       "</div>"
      ],
      "text/plain": [
       "             ISBN                                       title       author  \\\n",
       "48593  0810921995  Jewish Ceremonial Art and Religious Observ  Abram Kanof   \n",
       "\n",
       "         year  publisher                                            image-m  \n",
       "48593  1994.0  Abrams, N  http://images.amazon.com/images/P/0810921995.0...  "
      ]
     },
     "execution_count": 38,
     "metadata": {},
     "output_type": "execute_result"
    }
   ],
   "source": [
    "book.loc[book.ISBN == '0810921995',:]"
   ]
  },
  {
   "cell_type": "code",
   "execution_count": 39,
   "id": "bd308b9a",
   "metadata": {},
   "outputs": [
    {
     "data": {
      "text/html": [
       "<div>\n",
       "<style scoped>\n",
       "    .dataframe tbody tr th:only-of-type {\n",
       "        vertical-align: middle;\n",
       "    }\n",
       "\n",
       "    .dataframe tbody tr th {\n",
       "        vertical-align: top;\n",
       "    }\n",
       "\n",
       "    .dataframe thead th {\n",
       "        text-align: right;\n",
       "    }\n",
       "</style>\n",
       "<table border=\"1\" class=\"dataframe\">\n",
       "  <thead>\n",
       "    <tr style=\"text-align: right;\">\n",
       "      <th></th>\n",
       "      <th>ISBN</th>\n",
       "      <th>title</th>\n",
       "      <th>author</th>\n",
       "      <th>year</th>\n",
       "      <th>publisher</th>\n",
       "      <th>image-m</th>\n",
       "    </tr>\n",
       "  </thead>\n",
       "  <tbody>\n",
       "    <tr>\n",
       "      <th>98455</th>\n",
       "      <td>1557042926</td>\n",
       "      <td>The Sense and Sensibility Screenplay &amp;amp; Dia...</td>\n",
       "      <td>Emma Thompson</td>\n",
       "      <td>2002.0</td>\n",
       "      <td>Newmarket Press</td>\n",
       "      <td>http://images.amazon.com/images/P/1557042926.0...</td>\n",
       "    </tr>\n",
       "  </tbody>\n",
       "</table>\n",
       "</div>"
      ],
      "text/plain": [
       "             ISBN                                              title  \\\n",
       "98455  1557042926  The Sense and Sensibility Screenplay &amp; Dia...   \n",
       "\n",
       "              author    year        publisher  \\\n",
       "98455  Emma Thompson  2002.0  Newmarket Press   \n",
       "\n",
       "                                                 image-m  \n",
       "98455  http://images.amazon.com/images/P/1557042926.0...  "
      ]
     },
     "execution_count": 39,
     "metadata": {},
     "output_type": "execute_result"
    }
   ],
   "source": [
    "book.loc[book.ISBN == '1557042926',:]"
   ]
  },
  {
   "cell_type": "code",
   "execution_count": 40,
   "id": "84c18a8c",
   "metadata": {},
   "outputs": [
    {
     "data": {
      "text/html": [
       "<div>\n",
       "<style scoped>\n",
       "    .dataframe tbody tr th:only-of-type {\n",
       "        vertical-align: middle;\n",
       "    }\n",
       "\n",
       "    .dataframe tbody tr th {\n",
       "        vertical-align: top;\n",
       "    }\n",
       "\n",
       "    .dataframe thead th {\n",
       "        text-align: right;\n",
       "    }\n",
       "</style>\n",
       "<table border=\"1\" class=\"dataframe\">\n",
       "  <thead>\n",
       "    <tr style=\"text-align: right;\">\n",
       "      <th></th>\n",
       "      <th>ISBN</th>\n",
       "      <th>title</th>\n",
       "      <th>author</th>\n",
       "      <th>year</th>\n",
       "      <th>publisher</th>\n",
       "      <th>image-m</th>\n",
       "    </tr>\n",
       "  </thead>\n",
       "  <tbody>\n",
       "    <tr>\n",
       "      <th>194074</th>\n",
       "      <td>2226062548</td>\n",
       "      <td>Paroles indiennes</td>\n",
       "      <td>Michel Piquemal</td>\n",
       "      <td>1993.0</td>\n",
       "      <td>Albin Michel</td>\n",
       "      <td>http://images.amazon.com/images/P/2226062548.0...</td>\n",
       "    </tr>\n",
       "  </tbody>\n",
       "</table>\n",
       "</div>"
      ],
      "text/plain": [
       "              ISBN              title           author    year     publisher  \\\n",
       "194074  2226062548  Paroles indiennes  Michel Piquemal  1993.0  Albin Michel   \n",
       "\n",
       "                                                  image-m  \n",
       "194074  http://images.amazon.com/images/P/2226062548.0...  "
      ]
     },
     "execution_count": 40,
     "metadata": {},
     "output_type": "execute_result"
    }
   ],
   "source": [
    "book.loc[book.ISBN == '2226062548',:]"
   ]
  },
  {
   "cell_type": "code",
   "execution_count": null,
   "id": "e1b64486",
   "metadata": {},
   "outputs": [],
   "source": []
  },
  {
   "cell_type": "code",
   "execution_count": 41,
   "id": "2d7663db",
   "metadata": {},
   "outputs": [
    {
     "data": {
      "text/plain": [
       "0"
      ]
     },
     "execution_count": 41,
     "metadata": {},
     "output_type": "execute_result"
    }
   ],
   "source": [
    "book.loc[(book['year'] < 1900) | (book.year == 0),'year'] = np.NAN\n",
    "book = book.dropna(subset=['year'])\n",
    "book.year.isnull().sum()"
   ]
  },
  {
   "cell_type": "code",
   "execution_count": 42,
   "id": "44eaccee",
   "metadata": {},
   "outputs": [
    {
     "data": {
      "text/html": [
       "<div>\n",
       "<style scoped>\n",
       "    .dataframe tbody tr th:only-of-type {\n",
       "        vertical-align: middle;\n",
       "    }\n",
       "\n",
       "    .dataframe tbody tr th {\n",
       "        vertical-align: top;\n",
       "    }\n",
       "\n",
       "    .dataframe thead th {\n",
       "        text-align: right;\n",
       "    }\n",
       "</style>\n",
       "<table border=\"1\" class=\"dataframe\">\n",
       "  <thead>\n",
       "    <tr style=\"text-align: right;\">\n",
       "      <th></th>\n",
       "      <th>ISBN</th>\n",
       "      <th>title</th>\n",
       "      <th>author</th>\n",
       "      <th>year</th>\n",
       "      <th>publisher</th>\n",
       "      <th>image-m</th>\n",
       "    </tr>\n",
       "  </thead>\n",
       "  <tbody>\n",
       "    <tr>\n",
       "      <th>129037</th>\n",
       "      <td>1931696993</td>\n",
       "      <td>Finders Keepers</td>\n",
       "      <td>Linnea Sinclair</td>\n",
       "      <td>2001.0</td>\n",
       "      <td>NaN</td>\n",
       "      <td>http://images.amazon.com/images/P/1931696993.0...</td>\n",
       "    </tr>\n",
       "    <tr>\n",
       "      <th>128890</th>\n",
       "      <td>193169656X</td>\n",
       "      <td>Tyrant Moon</td>\n",
       "      <td>Elaine Corvidae</td>\n",
       "      <td>2002.0</td>\n",
       "      <td>NaN</td>\n",
       "      <td>http://images.amazon.com/images/P/193169656X.0...</td>\n",
       "    </tr>\n",
       "  </tbody>\n",
       "</table>\n",
       "</div>"
      ],
      "text/plain": [
       "              ISBN            title           author    year publisher  \\\n",
       "129037  1931696993  Finders Keepers  Linnea Sinclair  2001.0       NaN   \n",
       "128890  193169656X      Tyrant Moon  Elaine Corvidae  2002.0       NaN   \n",
       "\n",
       "                                                  image-m  \n",
       "129037  http://images.amazon.com/images/P/1931696993.0...  \n",
       "128890  http://images.amazon.com/images/P/193169656X.0...  "
      ]
     },
     "execution_count": 42,
     "metadata": {},
     "output_type": "execute_result"
    }
   ],
   "source": [
    "book.loc[book.publisher.isnull(),:]"
   ]
  },
  {
   "cell_type": "code",
   "execution_count": 43,
   "id": "ea1c5396",
   "metadata": {},
   "outputs": [
    {
     "data": {
      "text/html": [
       "<div>\n",
       "<style scoped>\n",
       "    .dataframe tbody tr th:only-of-type {\n",
       "        vertical-align: middle;\n",
       "    }\n",
       "\n",
       "    .dataframe tbody tr th {\n",
       "        vertical-align: top;\n",
       "    }\n",
       "\n",
       "    .dataframe thead th {\n",
       "        text-align: right;\n",
       "    }\n",
       "</style>\n",
       "<table border=\"1\" class=\"dataframe\">\n",
       "  <thead>\n",
       "    <tr style=\"text-align: right;\">\n",
       "      <th></th>\n",
       "      <th>ISBN</th>\n",
       "      <th>title</th>\n",
       "      <th>author</th>\n",
       "      <th>year</th>\n",
       "      <th>publisher</th>\n",
       "      <th>image-m</th>\n",
       "    </tr>\n",
       "  </thead>\n",
       "  <tbody>\n",
       "    <tr>\n",
       "      <th>128890</th>\n",
       "      <td>193169656X</td>\n",
       "      <td>Tyrant Moon</td>\n",
       "      <td>Elaine Corvidae</td>\n",
       "      <td>2002.0</td>\n",
       "      <td>NaN</td>\n",
       "      <td>http://images.amazon.com/images/P/193169656X.0...</td>\n",
       "    </tr>\n",
       "  </tbody>\n",
       "</table>\n",
       "</div>"
      ],
      "text/plain": [
       "              ISBN        title           author    year publisher  \\\n",
       "128890  193169656X  Tyrant Moon  Elaine Corvidae  2002.0       NaN   \n",
       "\n",
       "                                                  image-m  \n",
       "128890  http://images.amazon.com/images/P/193169656X.0...  "
      ]
     },
     "execution_count": 43,
     "metadata": {},
     "output_type": "execute_result"
    }
   ],
   "source": [
    "book.loc[(book.title == 'Tyrant Moon'),:]"
   ]
  },
  {
   "cell_type": "code",
   "execution_count": 44,
   "id": "681bbb22",
   "metadata": {},
   "outputs": [
    {
     "data": {
      "text/html": [
       "<div>\n",
       "<style scoped>\n",
       "    .dataframe tbody tr th:only-of-type {\n",
       "        vertical-align: middle;\n",
       "    }\n",
       "\n",
       "    .dataframe tbody tr th {\n",
       "        vertical-align: top;\n",
       "    }\n",
       "\n",
       "    .dataframe thead th {\n",
       "        text-align: right;\n",
       "    }\n",
       "</style>\n",
       "<table border=\"1\" class=\"dataframe\">\n",
       "  <thead>\n",
       "    <tr style=\"text-align: right;\">\n",
       "      <th></th>\n",
       "      <th>ISBN</th>\n",
       "      <th>title</th>\n",
       "      <th>author</th>\n",
       "      <th>year</th>\n",
       "      <th>publisher</th>\n",
       "      <th>image-m</th>\n",
       "    </tr>\n",
       "  </thead>\n",
       "  <tbody>\n",
       "    <tr>\n",
       "      <th>58264</th>\n",
       "      <td>0688118461</td>\n",
       "      <td>Finders Keepers</td>\n",
       "      <td>Emily Rodda</td>\n",
       "      <td>1993.0</td>\n",
       "      <td>Harpercollins Juvenile Books</td>\n",
       "      <td>http://images.amazon.com/images/P/0688118461.0...</td>\n",
       "    </tr>\n",
       "    <tr>\n",
       "      <th>134309</th>\n",
       "      <td>0156309505</td>\n",
       "      <td>Finders Keepers</td>\n",
       "      <td>Will</td>\n",
       "      <td>1989.0</td>\n",
       "      <td>Voyager Books</td>\n",
       "      <td>http://images.amazon.com/images/P/0156309505.0...</td>\n",
       "    </tr>\n",
       "    <tr>\n",
       "      <th>173473</th>\n",
       "      <td>0973146907</td>\n",
       "      <td>Finders Keepers</td>\n",
       "      <td>Sean M. Costello</td>\n",
       "      <td>2002.0</td>\n",
       "      <td>Red Tower Publications</td>\n",
       "      <td>http://images.amazon.com/images/P/0973146907.0...</td>\n",
       "    </tr>\n",
       "    <tr>\n",
       "      <th>10799</th>\n",
       "      <td>082177364X</td>\n",
       "      <td>Finders Keepers</td>\n",
       "      <td>Fern Michaels</td>\n",
       "      <td>2002.0</td>\n",
       "      <td>Zebra Books</td>\n",
       "      <td>http://images.amazon.com/images/P/082177364X.0...</td>\n",
       "    </tr>\n",
       "    <tr>\n",
       "      <th>129037</th>\n",
       "      <td>1931696993</td>\n",
       "      <td>Finders Keepers</td>\n",
       "      <td>Linnea Sinclair</td>\n",
       "      <td>2001.0</td>\n",
       "      <td>NaN</td>\n",
       "      <td>http://images.amazon.com/images/P/1931696993.0...</td>\n",
       "    </tr>\n",
       "    <tr>\n",
       "      <th>211874</th>\n",
       "      <td>0373261160</td>\n",
       "      <td>Finders Keepers</td>\n",
       "      <td>Elizabeth Travis</td>\n",
       "      <td>1993.0</td>\n",
       "      <td>Worldwide Library</td>\n",
       "      <td>http://images.amazon.com/images/P/0373261160.0...</td>\n",
       "    </tr>\n",
       "    <tr>\n",
       "      <th>66678</th>\n",
       "      <td>1575663236</td>\n",
       "      <td>Finders Keepers</td>\n",
       "      <td>Fern Michaels</td>\n",
       "      <td>1998.0</td>\n",
       "      <td>Kensington Publishing Corporation</td>\n",
       "      <td>http://images.amazon.com/images/P/1575663236.0...</td>\n",
       "    </tr>\n",
       "    <tr>\n",
       "      <th>195885</th>\n",
       "      <td>0061083909</td>\n",
       "      <td>Finders Keepers</td>\n",
       "      <td>Sharon Sala</td>\n",
       "      <td>2003.0</td>\n",
       "      <td>HarperTorch</td>\n",
       "      <td>http://images.amazon.com/images/P/0061083909.0...</td>\n",
       "    </tr>\n",
       "    <tr>\n",
       "      <th>42019</th>\n",
       "      <td>0070465037</td>\n",
       "      <td>Finders Keepers</td>\n",
       "      <td>Barbara Nickolae</td>\n",
       "      <td>1989.0</td>\n",
       "      <td>McGraw-Hill Companies</td>\n",
       "      <td>http://images.amazon.com/images/P/0070465037.0...</td>\n",
       "    </tr>\n",
       "  </tbody>\n",
       "</table>\n",
       "</div>"
      ],
      "text/plain": [
       "              ISBN            title            author    year  \\\n",
       "58264   0688118461  Finders Keepers       Emily Rodda  1993.0   \n",
       "134309  0156309505  Finders Keepers              Will  1989.0   \n",
       "173473  0973146907  Finders Keepers  Sean M. Costello  2002.0   \n",
       "10799   082177364X  Finders Keepers     Fern Michaels  2002.0   \n",
       "129037  1931696993  Finders Keepers   Linnea Sinclair  2001.0   \n",
       "211874  0373261160  Finders Keepers  Elizabeth Travis  1993.0   \n",
       "66678   1575663236  Finders Keepers     Fern Michaels  1998.0   \n",
       "195885  0061083909  Finders Keepers       Sharon Sala  2003.0   \n",
       "42019   0070465037  Finders Keepers  Barbara Nickolae  1989.0   \n",
       "\n",
       "                                publisher  \\\n",
       "58264        Harpercollins Juvenile Books   \n",
       "134309                      Voyager Books   \n",
       "173473             Red Tower Publications   \n",
       "10799                         Zebra Books   \n",
       "129037                                NaN   \n",
       "211874                  Worldwide Library   \n",
       "66678   Kensington Publishing Corporation   \n",
       "195885                        HarperTorch   \n",
       "42019               McGraw-Hill Companies   \n",
       "\n",
       "                                                  image-m  \n",
       "58264   http://images.amazon.com/images/P/0688118461.0...  \n",
       "134309  http://images.amazon.com/images/P/0156309505.0...  \n",
       "173473  http://images.amazon.com/images/P/0973146907.0...  \n",
       "10799   http://images.amazon.com/images/P/082177364X.0...  \n",
       "129037  http://images.amazon.com/images/P/1931696993.0...  \n",
       "211874  http://images.amazon.com/images/P/0373261160.0...  \n",
       "66678   http://images.amazon.com/images/P/1575663236.0...  \n",
       "195885  http://images.amazon.com/images/P/0061083909.0...  \n",
       "42019   http://images.amazon.com/images/P/0070465037.0...  "
      ]
     },
     "execution_count": 44,
     "metadata": {},
     "output_type": "execute_result"
    }
   ],
   "source": [
    "book.loc[(book.title == 'Finders Keepers'),:]"
   ]
  },
  {
   "cell_type": "code",
   "execution_count": 45,
   "id": "fce71183",
   "metadata": {},
   "outputs": [
    {
     "data": {
      "text/html": [
       "<div>\n",
       "<style scoped>\n",
       "    .dataframe tbody tr th:only-of-type {\n",
       "        vertical-align: middle;\n",
       "    }\n",
       "\n",
       "    .dataframe tbody tr th {\n",
       "        vertical-align: top;\n",
       "    }\n",
       "\n",
       "    .dataframe thead th {\n",
       "        text-align: right;\n",
       "    }\n",
       "</style>\n",
       "<table border=\"1\" class=\"dataframe\">\n",
       "  <thead>\n",
       "    <tr style=\"text-align: right;\">\n",
       "      <th></th>\n",
       "      <th>ISBN</th>\n",
       "      <th>title</th>\n",
       "      <th>author</th>\n",
       "      <th>year</th>\n",
       "      <th>publisher</th>\n",
       "      <th>image-m</th>\n",
       "    </tr>\n",
       "  </thead>\n",
       "  <tbody>\n",
       "    <tr>\n",
       "      <th>128890</th>\n",
       "      <td>193169656X</td>\n",
       "      <td>Tyrant Moon</td>\n",
       "      <td>Elaine Corvidae</td>\n",
       "      <td>2002.0</td>\n",
       "      <td>NaN</td>\n",
       "      <td>http://images.amazon.com/images/P/193169656X.0...</td>\n",
       "    </tr>\n",
       "    <tr>\n",
       "      <th>126762</th>\n",
       "      <td>1931696934</td>\n",
       "      <td>Winter's Orphans</td>\n",
       "      <td>Elaine Corvidae</td>\n",
       "      <td>2001.0</td>\n",
       "      <td>Novelbooks</td>\n",
       "      <td>http://images.amazon.com/images/P/1931696934.0...</td>\n",
       "    </tr>\n",
       "    <tr>\n",
       "      <th>129001</th>\n",
       "      <td>0759901880</td>\n",
       "      <td>Wolfkin</td>\n",
       "      <td>Elaine Corvidae</td>\n",
       "      <td>2001.0</td>\n",
       "      <td>Hard Shell Word Factory</td>\n",
       "      <td>http://images.amazon.com/images/P/0759901880.0...</td>\n",
       "    </tr>\n",
       "  </tbody>\n",
       "</table>\n",
       "</div>"
      ],
      "text/plain": [
       "              ISBN             title           author    year  \\\n",
       "128890  193169656X       Tyrant Moon  Elaine Corvidae  2002.0   \n",
       "126762  1931696934  Winter's Orphans  Elaine Corvidae  2001.0   \n",
       "129001  0759901880           Wolfkin  Elaine Corvidae  2001.0   \n",
       "\n",
       "                      publisher  \\\n",
       "128890                      NaN   \n",
       "126762               Novelbooks   \n",
       "129001  Hard Shell Word Factory   \n",
       "\n",
       "                                                  image-m  \n",
       "128890  http://images.amazon.com/images/P/193169656X.0...  \n",
       "126762  http://images.amazon.com/images/P/1931696934.0...  \n",
       "129001  http://images.amazon.com/images/P/0759901880.0...  "
      ]
     },
     "execution_count": 45,
     "metadata": {},
     "output_type": "execute_result"
    }
   ],
   "source": [
    "book.loc[(book.author == 'Elaine Corvidae'),:]"
   ]
  },
  {
   "cell_type": "code",
   "execution_count": 46,
   "id": "6c669a4b",
   "metadata": {},
   "outputs": [
    {
     "data": {
      "text/html": [
       "<div>\n",
       "<style scoped>\n",
       "    .dataframe tbody tr th:only-of-type {\n",
       "        vertical-align: middle;\n",
       "    }\n",
       "\n",
       "    .dataframe tbody tr th {\n",
       "        vertical-align: top;\n",
       "    }\n",
       "\n",
       "    .dataframe thead th {\n",
       "        text-align: right;\n",
       "    }\n",
       "</style>\n",
       "<table border=\"1\" class=\"dataframe\">\n",
       "  <thead>\n",
       "    <tr style=\"text-align: right;\">\n",
       "      <th></th>\n",
       "      <th>ISBN</th>\n",
       "      <th>title</th>\n",
       "      <th>author</th>\n",
       "      <th>year</th>\n",
       "      <th>publisher</th>\n",
       "      <th>image-m</th>\n",
       "    </tr>\n",
       "  </thead>\n",
       "  <tbody>\n",
       "    <tr>\n",
       "      <th>129037</th>\n",
       "      <td>1931696993</td>\n",
       "      <td>Finders Keepers</td>\n",
       "      <td>Linnea Sinclair</td>\n",
       "      <td>2001.0</td>\n",
       "      <td>NaN</td>\n",
       "      <td>http://images.amazon.com/images/P/1931696993.0...</td>\n",
       "    </tr>\n",
       "  </tbody>\n",
       "</table>\n",
       "</div>"
      ],
      "text/plain": [
       "              ISBN            title           author    year publisher  \\\n",
       "129037  1931696993  Finders Keepers  Linnea Sinclair  2001.0       NaN   \n",
       "\n",
       "                                                  image-m  \n",
       "129037  http://images.amazon.com/images/P/1931696993.0...  "
      ]
     },
     "execution_count": 46,
     "metadata": {},
     "output_type": "execute_result"
    }
   ],
   "source": [
    "book.loc[(book.author == 'Linnea Sinclair'),:]"
   ]
  },
  {
   "cell_type": "code",
   "execution_count": 47,
   "id": "58246943",
   "metadata": {},
   "outputs": [],
   "source": [
    "book.loc[(book.ISBN == '193169656X'),'publisher'] = 'other'\n",
    "book.loc[(book.ISBN == '1931696993'),'publisher'] = 'other'"
   ]
  },
  {
   "cell_type": "code",
   "execution_count": 48,
   "id": "13568691",
   "metadata": {},
   "outputs": [],
   "source": [
    "#book = book.dropna(subset=['publisher'])\n",
    "#book.publisher.isnull().sum()"
   ]
  },
  {
   "cell_type": "code",
   "execution_count": 49,
   "id": "c96d58e7",
   "metadata": {},
   "outputs": [
    {
     "data": {
      "text/html": [
       "<div>\n",
       "<style scoped>\n",
       "    .dataframe tbody tr th:only-of-type {\n",
       "        vertical-align: middle;\n",
       "    }\n",
       "\n",
       "    .dataframe tbody tr th {\n",
       "        vertical-align: top;\n",
       "    }\n",
       "\n",
       "    .dataframe thead th {\n",
       "        text-align: right;\n",
       "    }\n",
       "</style>\n",
       "<table border=\"1\" class=\"dataframe\">\n",
       "  <thead>\n",
       "    <tr style=\"text-align: right;\">\n",
       "      <th></th>\n",
       "      <th>ISBN</th>\n",
       "      <th>title</th>\n",
       "      <th>author</th>\n",
       "      <th>year</th>\n",
       "      <th>publisher</th>\n",
       "      <th>image-m</th>\n",
       "    </tr>\n",
       "  </thead>\n",
       "  <tbody>\n",
       "    <tr>\n",
       "      <th>187689</th>\n",
       "      <td>9627982032</td>\n",
       "      <td>The Credit Suisse Guide to Managing Your Perso...</td>\n",
       "      <td>NaN</td>\n",
       "      <td>1995.0</td>\n",
       "      <td>Edinburgh Financial Publishing</td>\n",
       "      <td>http://images.amazon.com/images/P/9627982032.0...</td>\n",
       "    </tr>\n",
       "  </tbody>\n",
       "</table>\n",
       "</div>"
      ],
      "text/plain": [
       "              ISBN                                              title author  \\\n",
       "187689  9627982032  The Credit Suisse Guide to Managing Your Perso...    NaN   \n",
       "\n",
       "          year                       publisher  \\\n",
       "187689  1995.0  Edinburgh Financial Publishing   \n",
       "\n",
       "                                                  image-m  \n",
       "187689  http://images.amazon.com/images/P/9627982032.0...  "
      ]
     },
     "execution_count": 49,
     "metadata": {},
     "output_type": "execute_result"
    }
   ],
   "source": [
    "book.loc[book.author.isnull(),:]"
   ]
  },
  {
   "cell_type": "code",
   "execution_count": 50,
   "id": "098a67a0",
   "metadata": {},
   "outputs": [
    {
     "data": {
      "text/html": [
       "<div>\n",
       "<style scoped>\n",
       "    .dataframe tbody tr th:only-of-type {\n",
       "        vertical-align: middle;\n",
       "    }\n",
       "\n",
       "    .dataframe tbody tr th {\n",
       "        vertical-align: top;\n",
       "    }\n",
       "\n",
       "    .dataframe thead th {\n",
       "        text-align: right;\n",
       "    }\n",
       "</style>\n",
       "<table border=\"1\" class=\"dataframe\">\n",
       "  <thead>\n",
       "    <tr style=\"text-align: right;\">\n",
       "      <th></th>\n",
       "      <th>ISBN</th>\n",
       "      <th>title</th>\n",
       "      <th>author</th>\n",
       "      <th>year</th>\n",
       "      <th>publisher</th>\n",
       "      <th>image-m</th>\n",
       "    </tr>\n",
       "  </thead>\n",
       "  <tbody>\n",
       "    <tr>\n",
       "      <th>187689</th>\n",
       "      <td>9627982032</td>\n",
       "      <td>The Credit Suisse Guide to Managing Your Perso...</td>\n",
       "      <td>NaN</td>\n",
       "      <td>1995.0</td>\n",
       "      <td>Edinburgh Financial Publishing</td>\n",
       "      <td>http://images.amazon.com/images/P/9627982032.0...</td>\n",
       "    </tr>\n",
       "  </tbody>\n",
       "</table>\n",
       "</div>"
      ],
      "text/plain": [
       "              ISBN                                              title author  \\\n",
       "187689  9627982032  The Credit Suisse Guide to Managing Your Perso...    NaN   \n",
       "\n",
       "          year                       publisher  \\\n",
       "187689  1995.0  Edinburgh Financial Publishing   \n",
       "\n",
       "                                                  image-m  \n",
       "187689  http://images.amazon.com/images/P/9627982032.0...  "
      ]
     },
     "execution_count": 50,
     "metadata": {},
     "output_type": "execute_result"
    }
   ],
   "source": [
    "book.loc[(book.publisher == 'Edinburgh Financial Publishing'),:]"
   ]
  },
  {
   "cell_type": "code",
   "execution_count": 51,
   "id": "3add4e53",
   "metadata": {},
   "outputs": [
    {
     "data": {
      "text/plain": [
       "0"
      ]
     },
     "execution_count": 51,
     "metadata": {},
     "output_type": "execute_result"
    }
   ],
   "source": [
    "book = book.dropna(subset=['author'])\n",
    "book.author.isnull().sum()"
   ]
  },
  {
   "cell_type": "code",
   "execution_count": 52,
   "id": "44242fba",
   "metadata": {},
   "outputs": [
    {
     "data": {
      "text/plain": [
       "ISBN         0\n",
       "title        0\n",
       "author       0\n",
       "year         0\n",
       "publisher    0\n",
       "image-m      0\n",
       "dtype: int64"
      ]
     },
     "execution_count": 52,
     "metadata": {},
     "output_type": "execute_result"
    }
   ],
   "source": [
    "book.isnull().sum()"
   ]
  },
  {
   "cell_type": "code",
   "execution_count": null,
   "id": "6235d376",
   "metadata": {},
   "outputs": [],
   "source": []
  },
  {
   "cell_type": "markdown",
   "id": "37abf893",
   "metadata": {},
   "source": [
    "## Users Dataset"
   ]
  },
  {
   "cell_type": "code",
   "execution_count": null,
   "id": "d57330ee",
   "metadata": {},
   "outputs": [],
   "source": [
    "user=pd.read_csv('Users.csv')"
   ]
  },
  {
   "cell_type": "code",
   "execution_count": null,
   "id": "14a02326",
   "metadata": {},
   "outputs": [],
   "source": [
    "user"
   ]
  },
  {
   "cell_type": "code",
   "execution_count": null,
   "id": "45f680b4",
   "metadata": {},
   "outputs": [],
   "source": [
    "user.info()"
   ]
  },
  {
   "cell_type": "code",
   "execution_count": null,
   "id": "84a9292d",
   "metadata": {},
   "outputs": [],
   "source": [
    "user.shape"
   ]
  },
  {
   "cell_type": "code",
   "execution_count": null,
   "id": "9d25a95e",
   "metadata": {},
   "outputs": [],
   "source": [
    "user.dtypes"
   ]
  },
  {
   "cell_type": "code",
   "execution_count": null,
   "id": "a37d50b0",
   "metadata": {},
   "outputs": [],
   "source": [
    "user.isnull().sum()"
   ]
  },
  {
   "cell_type": "code",
   "execution_count": null,
   "id": "df7ac67b",
   "metadata": {},
   "outputs": [],
   "source": [
    "user.describe()"
   ]
  },
  {
   "cell_type": "code",
   "execution_count": null,
   "id": "485fa2ee",
   "metadata": {},
   "outputs": [],
   "source": [
    "user.rename(columns = {'User-ID':'userid', 'Location':'location', 'Age':'age'}, inplace=True)"
   ]
  },
  {
   "cell_type": "code",
   "execution_count": null,
   "id": "2b14449a",
   "metadata": {},
   "outputs": [],
   "source": [
    "user_ui = user.sort_values(\"userid\")\n",
    "user_ui = user[\"userid\"].duplicated()\n",
    "user_ui.value_counts()"
   ]
  },
  {
   "cell_type": "code",
   "execution_count": null,
   "id": "b0649bac",
   "metadata": {},
   "outputs": [],
   "source": [
    "user['location'] = user['location'].apply(lambda row: str(row).split(',')[-1])\n",
    "user['location'].value_counts().to_frame().head(10)"
   ]
  },
  {
   "cell_type": "code",
   "execution_count": null,
   "id": "74f3ff20",
   "metadata": {},
   "outputs": [],
   "source": [
    "user"
   ]
  },
  {
   "cell_type": "code",
   "execution_count": null,
   "id": "5ce45371",
   "metadata": {},
   "outputs": [],
   "source": [
    "user['location'].unique()"
   ]
  },
  {
   "cell_type": "code",
   "execution_count": null,
   "id": "ab5a974b",
   "metadata": {},
   "outputs": [],
   "source": [
    "user['location'].replace(['','01776','02458','19104','23232','30064','85021','87510','alachua','america','austria','autralia','cananda','geermany','italia','united kindgonm','united sates','united staes','united state','united states','us'],\n",
    "                           ['other','usa','usa','usa','usa','usa','usa','usa','usa','usa','australia','australia','canada','germany','italy','united kingdom','usa','usa','usa','usa','usa'],inplace=True)"
   ]
  },
  {
   "cell_type": "code",
   "execution_count": null,
   "id": "70fe5d9f",
   "metadata": {},
   "outputs": [],
   "source": []
  },
  {
   "cell_type": "code",
   "execution_count": null,
   "id": "adedcedd",
   "metadata": {},
   "outputs": [],
   "source": [
    "user['age'].unique()"
   ]
  },
  {
   "cell_type": "code",
   "execution_count": null,
   "id": "5e9bb96a",
   "metadata": {},
   "outputs": [],
   "source": [
    "user['age'].describe()"
   ]
  },
  {
   "cell_type": "code",
   "execution_count": null,
   "id": "725af439",
   "metadata": {},
   "outputs": [],
   "source": [
    "user.loc[(user.age > 85) | (user.age < 10), 'age'] = np.nan"
   ]
  },
  {
   "cell_type": "code",
   "execution_count": null,
   "id": "65ee9944",
   "metadata": {},
   "outputs": [],
   "source": [
    "plt.figure(figsize=(10, 7))\n",
    "user.age.hist(bins=40, color='teal')"
   ]
  },
  {
   "cell_type": "code",
   "execution_count": null,
   "id": "bec61833",
   "metadata": {},
   "outputs": [],
   "source": [
    "user.age = user.age.fillna(user.age.mean())"
   ]
  },
  {
   "cell_type": "code",
   "execution_count": null,
   "id": "efe0862a",
   "metadata": {},
   "outputs": [],
   "source": [
    "user.age = user.age.astype(np.int32)"
   ]
  },
  {
   "cell_type": "code",
   "execution_count": null,
   "id": "7c9ceb9b",
   "metadata": {},
   "outputs": [],
   "source": [
    "user['age'].isnull().sum()"
   ]
  },
  {
   "cell_type": "code",
   "execution_count": null,
   "id": "f40f4ef7",
   "metadata": {},
   "outputs": [],
   "source": [
    "user"
   ]
  },
  {
   "cell_type": "code",
   "execution_count": null,
   "id": "c4cc3a62",
   "metadata": {},
   "outputs": [],
   "source": []
  },
  {
   "cell_type": "code",
   "execution_count": null,
   "id": "98414695",
   "metadata": {},
   "outputs": [],
   "source": []
  },
  {
   "cell_type": "markdown",
   "id": "ddbddd7f",
   "metadata": {},
   "source": [
    "## Rating Dataset"
   ]
  },
  {
   "cell_type": "code",
   "execution_count": null,
   "id": "8c2aabf4",
   "metadata": {},
   "outputs": [],
   "source": [
    "rating=pd.read_csv('Ratings_re.csv')"
   ]
  },
  {
   "cell_type": "code",
   "execution_count": null,
   "id": "e0374d57",
   "metadata": {},
   "outputs": [],
   "source": [
    "rating"
   ]
  },
  {
   "cell_type": "code",
   "execution_count": null,
   "id": "b9516127",
   "metadata": {},
   "outputs": [],
   "source": [
    "rating.info()"
   ]
  },
  {
   "cell_type": "code",
   "execution_count": null,
   "id": "8cbd2669",
   "metadata": {},
   "outputs": [],
   "source": [
    "rating.shape"
   ]
  },
  {
   "cell_type": "code",
   "execution_count": null,
   "id": "5d2fe606",
   "metadata": {},
   "outputs": [],
   "source": [
    "rating.dtypes"
   ]
  },
  {
   "cell_type": "code",
   "execution_count": null,
   "id": "149ebac1",
   "metadata": {},
   "outputs": [],
   "source": [
    "rating.isnull().sum()"
   ]
  },
  {
   "cell_type": "code",
   "execution_count": null,
   "id": "465ec25c",
   "metadata": {},
   "outputs": [],
   "source": [
    "rating.describe()"
   ]
  },
  {
   "cell_type": "code",
   "execution_count": null,
   "id": "c245b1f3",
   "metadata": {},
   "outputs": [],
   "source": [
    "rating.rename(columns = {'User-ID':'userid', 'Book-Rating':'bookrating'}, inplace=True)"
   ]
  },
  {
   "cell_type": "code",
   "execution_count": null,
   "id": "da78d43e",
   "metadata": {},
   "outputs": [],
   "source": [
    "rating"
   ]
  },
  {
   "cell_type": "code",
   "execution_count": null,
   "id": "b29e807b",
   "metadata": {},
   "outputs": [],
   "source": [
    "rating['bookrating'].describe()"
   ]
  },
  {
   "cell_type": "code",
   "execution_count": null,
   "id": "8d269cb8",
   "metadata": {},
   "outputs": [],
   "source": [
    "rating['bookrating'].unique()"
   ]
  },
  {
   "cell_type": "code",
   "execution_count": null,
   "id": "e566f4ee",
   "metadata": {},
   "outputs": [],
   "source": [
    "rating_count = rating['bookrating'].value_counts()\n",
    "rating_count"
   ]
  },
  {
   "cell_type": "code",
   "execution_count": null,
   "id": "775ff177",
   "metadata": {},
   "outputs": [],
   "source": [
    "x = rating['ISBN'].value_counts()>50\n",
    "x[x]"
   ]
  },
  {
   "cell_type": "code",
   "execution_count": null,
   "id": "65c3dd89",
   "metadata": {},
   "outputs": [],
   "source": [
    "rat = rating.drop('userid', axis=1)\n",
    "rat"
   ]
  },
  {
   "cell_type": "code",
   "execution_count": null,
   "id": "287897b8",
   "metadata": {},
   "outputs": [],
   "source": [
    "def lst(x):\n",
    "    if all(itm == 0 for itm in x):\n",
    "        return x\n",
    "    else:\n",
    "        lt = [i for i in x if i != 0]\n",
    "        return lt"
   ]
  },
  {
   "cell_type": "code",
   "execution_count": null,
   "id": "9f57a7a9",
   "metadata": {},
   "outputs": [],
   "source": [
    "rat = rating.drop('userid', axis=1)\n",
    "rate = pd.DataFrame(rat.groupby('ISBN')['bookrating'].apply(list)).reset_index()\n",
    "rate['bookrating1'] = rate['bookrating'].apply(lambda x: lst(x))\n",
    "rate"
   ]
  },
  {
   "cell_type": "code",
   "execution_count": null,
   "id": "478a6c73",
   "metadata": {},
   "outputs": [],
   "source": [
    "rate['counts'] = rate['bookrating'].apply(len)\n",
    "rate['counts_no_zero'] = rate['bookrating1'].apply(len)\n",
    "rate"
   ]
  },
  {
   "cell_type": "code",
   "execution_count": null,
   "id": "86ea10cf",
   "metadata": {},
   "outputs": [],
   "source": [
    "rate['avg_rating'] = rate['bookrating'].apply(st.mean)\n",
    "rate['avg_rating_no_zero'] = rate['bookrating1'].apply(st.mean)\n",
    "rate['final_rating'] = round((rate['avg_rating']+rate['avg_rating_no_zero'])/2 , 3)\n",
    "rate['med_rating'] = rate['bookrating'].apply(st.median)\n",
    "rate['med_rating_no_zero'] = rate['bookrating1'].apply(st.median)\n",
    "rate['mod_rating'] = rate['bookrating'].apply(st.mode)\n",
    "rate['mod_rating_no_zero'] = rate['bookrating1'].apply(st.mode)\n",
    "rate = rate.sort_values('counts', ascending=False).reset_index()\n",
    "rate"
   ]
  },
  {
   "cell_type": "code",
   "execution_count": null,
   "id": "b6efa50a",
   "metadata": {},
   "outputs": [],
   "source": [
    "# Permanently changes the pandas settings\n",
    "#pd.set_option('display.max_rows', None)\n",
    "#pd.set_option('display.max_columns', None)\n",
    "#pd.set_option('display.width', None)\n",
    "#pd.set_option('display.max_colwidth', None)\n",
    "\n",
    "#display(rate.iloc[:100, 4:])"
   ]
  },
  {
   "cell_type": "code",
   "execution_count": null,
   "id": "82ae945d",
   "metadata": {},
   "outputs": [],
   "source": [
    "#rate.sort_values('final_rating', ascending=False)"
   ]
  },
  {
   "cell_type": "code",
   "execution_count": null,
   "id": "ef99819c",
   "metadata": {},
   "outputs": [],
   "source": [
    "rate"
   ]
  },
  {
   "cell_type": "code",
   "execution_count": null,
   "id": "3f270c40",
   "metadata": {},
   "outputs": [],
   "source": []
  },
  {
   "cell_type": "code",
   "execution_count": null,
   "id": "247e4df5",
   "metadata": {},
   "outputs": [],
   "source": []
  },
  {
   "cell_type": "code",
   "execution_count": null,
   "id": "3a50ab7f",
   "metadata": {},
   "outputs": [],
   "source": []
  },
  {
   "cell_type": "markdown",
   "id": "055cdf8b",
   "metadata": {},
   "source": [
    "## Merging dataset Book and Rating"
   ]
  },
  {
   "cell_type": "code",
   "execution_count": null,
   "id": "8c43cef2",
   "metadata": {},
   "outputs": [],
   "source": [
    "bookrate=rate.merge(book,on='ISBN')"
   ]
  },
  {
   "cell_type": "code",
   "execution_count": null,
   "id": "6b9c7506",
   "metadata": {},
   "outputs": [],
   "source": [
    "bookrate"
   ]
  },
  {
   "cell_type": "code",
   "execution_count": null,
   "id": "3ebac72c",
   "metadata": {},
   "outputs": [],
   "source": [
    "book_with_rate=bookrate[['ISBN','title','counts','counts_no_zero','final_rating']]\n",
    "book_with_rate"
   ]
  },
  {
   "cell_type": "code",
   "execution_count": null,
   "id": "71d243e9",
   "metadata": {},
   "outputs": [],
   "source": [
    "# sagricating with count of zero rating\n",
    "populerbook=book_with_rate[book_with_rate['counts']>=150].sort_values('final_rating',ascending=False).reset_index()\n",
    "populerbook"
   ]
  },
  {
   "cell_type": "code",
   "execution_count": null,
   "id": "52de365d",
   "metadata": {},
   "outputs": [],
   "source": [
    "# sagricating with count of zero rating\n",
    "populerbook1=book_with_rate[book_with_rate['counts_no_zero']>=150].sort_values('final_rating',ascending=False).reset_index()\n",
    "populerbook1"
   ]
  },
  {
   "cell_type": "code",
   "execution_count": null,
   "id": "1ddd2da6",
   "metadata": {},
   "outputs": [],
   "source": [
    "populerbook1.head(20)"
   ]
  },
  {
   "cell_type": "markdown",
   "id": "f9ab09d9",
   "metadata": {},
   "source": [
    "## Comparing User Data and Rating For Usa"
   ]
  },
  {
   "cell_type": "code",
   "execution_count": null,
   "id": "80ed341d",
   "metadata": {},
   "outputs": [],
   "source": [
    "user"
   ]
  },
  {
   "cell_type": "code",
   "execution_count": null,
   "id": "b061f9f6",
   "metadata": {},
   "outputs": [],
   "source": [
    "user_usa=user[user['location']==' usa']\n",
    "user_usa"
   ]
  },
  {
   "cell_type": "code",
   "execution_count": null,
   "id": "582d27d3",
   "metadata": {},
   "outputs": [],
   "source": [
    "df=user_usa.merge(rating,on='userid')\n",
    "df"
   ]
  },
  {
   "cell_type": "code",
   "execution_count": null,
   "id": "32984c48",
   "metadata": {},
   "outputs": [],
   "source": [
    "df_new=df[['ISBN','bookrating']]\n",
    "df_new"
   ]
  },
  {
   "cell_type": "code",
   "execution_count": null,
   "id": "d0843b12",
   "metadata": {},
   "outputs": [],
   "source": [
    "y = rating['ISBN'].value_counts()>50\n",
    "y[y]"
   ]
  },
  {
   "cell_type": "code",
   "execution_count": null,
   "id": "445c4258",
   "metadata": {},
   "outputs": [],
   "source": [
    "def lst(y):\n",
    "    if all(itm == 0 for itm in y):\n",
    "        return y\n",
    "    else:\n",
    "        lt = [i for i in y if i != 0]\n",
    "        return lt"
   ]
  },
  {
   "cell_type": "code",
   "execution_count": null,
   "id": "8711eceb",
   "metadata": {},
   "outputs": [],
   "source": [
    "usa_rate = pd.DataFrame(df_new.groupby('ISBN')['bookrating'].apply(list)).reset_index()\n",
    "usa_rate['bookrating1'] = usa_rate['bookrating'].apply(lambda x: lst(x))\n",
    "usa_rate"
   ]
  },
  {
   "cell_type": "code",
   "execution_count": null,
   "id": "9b3bfecf",
   "metadata": {},
   "outputs": [],
   "source": [
    "usa_rate['counts'] = usa_rate['bookrating'].apply(len)\n",
    "usa_rate['counts_no_zero'] = usa_rate['bookrating1'].apply(len)\n",
    "usa_rate"
   ]
  },
  {
   "cell_type": "code",
   "execution_count": null,
   "id": "513ea496",
   "metadata": {},
   "outputs": [],
   "source": [
    "usa_rate['avg_rating'] = usa_rate['bookrating'].apply(st.mean)\n",
    "usa_rate['avg_rating_no_zero'] = usa_rate['bookrating1'].apply(st.mean)\n",
    "usa_rate['final_rating'] = round((usa_rate['avg_rating']+usa_rate['avg_rating_no_zero'])/2 , 3)\n",
    "usa_rate = usa_rate.sort_values('counts', ascending=False).reset_index()\n",
    "usa_rate"
   ]
  },
  {
   "cell_type": "code",
   "execution_count": null,
   "id": "09c7fbe9",
   "metadata": {},
   "outputs": [],
   "source": [
    "usa_rate"
   ]
  },
  {
   "cell_type": "code",
   "execution_count": null,
   "id": "4da5b79d",
   "metadata": {},
   "outputs": [],
   "source": []
  },
  {
   "cell_type": "markdown",
   "id": "5ec3fa54",
   "metadata": {},
   "source": [
    "## Merg dataset Book and Rating"
   ]
  },
  {
   "cell_type": "code",
   "execution_count": null,
   "id": "7fa305da",
   "metadata": {},
   "outputs": [],
   "source": [
    "loc_rate_usa=usa_rate.merge(book,on='ISBN')"
   ]
  },
  {
   "cell_type": "code",
   "execution_count": null,
   "id": "bfef9cb1",
   "metadata": {},
   "outputs": [],
   "source": [
    "loc_rate_usa"
   ]
  },
  {
   "cell_type": "code",
   "execution_count": null,
   "id": "bab6df26",
   "metadata": {},
   "outputs": [],
   "source": [
    "loc_with_rate=loc_rate_usa[['ISBN','title','counts','counts_no_zero','final_rating']]\n",
    "loc_with_rate"
   ]
  },
  {
   "cell_type": "code",
   "execution_count": null,
   "id": "e2b95ccf",
   "metadata": {},
   "outputs": [],
   "source": [
    "# sagricating with count of zero rating\n",
    "populer_usa=loc_with_rate[loc_with_rate['counts_no_zero']>=150].sort_values('final_rating',ascending=False).reset_index()\n",
    "populer_usa.head(20)"
   ]
  },
  {
   "cell_type": "code",
   "execution_count": null,
   "id": "540f6f47",
   "metadata": {},
   "outputs": [],
   "source": []
  },
  {
   "cell_type": "markdown",
   "id": "50c65f5c",
   "metadata": {},
   "source": [
    "## For User Location of canada"
   ]
  },
  {
   "cell_type": "code",
   "execution_count": null,
   "id": "e706eb48",
   "metadata": {},
   "outputs": [],
   "source": [
    "user"
   ]
  },
  {
   "cell_type": "code",
   "execution_count": null,
   "id": "941b22e3",
   "metadata": {},
   "outputs": [],
   "source": [
    "user_can=user[user['location']==' canada']\n",
    "user_can"
   ]
  },
  {
   "cell_type": "code",
   "execution_count": null,
   "id": "d9a893ac",
   "metadata": {},
   "outputs": [],
   "source": [
    "data_can=user_can.merge(rating,on='userid')\n",
    "data_can"
   ]
  },
  {
   "cell_type": "code",
   "execution_count": null,
   "id": "b730acc7",
   "metadata": {},
   "outputs": [],
   "source": [
    "data_new=data_can[['ISBN','bookrating']]\n",
    "data_new"
   ]
  },
  {
   "cell_type": "code",
   "execution_count": null,
   "id": "7765c903",
   "metadata": {},
   "outputs": [],
   "source": [
    "z = rating['ISBN'].value_counts()>50\n",
    "z[z]"
   ]
  },
  {
   "cell_type": "code",
   "execution_count": null,
   "id": "4a1b3ef0",
   "metadata": {},
   "outputs": [],
   "source": [
    "def lst(z):\n",
    "    if all(itm == 0 for itm in z):\n",
    "        return z\n",
    "    else:\n",
    "        lt = [i for i in z if i != 0]\n",
    "        return lt"
   ]
  },
  {
   "cell_type": "code",
   "execution_count": null,
   "id": "d2682107",
   "metadata": {},
   "outputs": [],
   "source": [
    "can_rate = pd.DataFrame(data_new.groupby('ISBN')['bookrating'].apply(list)).reset_index()\n",
    "can_rate['bookrating1'] = can_rate['bookrating'].apply(lambda x: lst(x))\n",
    "can_rate"
   ]
  },
  {
   "cell_type": "code",
   "execution_count": null,
   "id": "de5dda0b",
   "metadata": {},
   "outputs": [],
   "source": [
    "can_rate['counts'] = can_rate['bookrating'].apply(len)\n",
    "can_rate['counts_no_zero'] = can_rate['bookrating1'].apply(len)\n",
    "can_rate"
   ]
  },
  {
   "cell_type": "code",
   "execution_count": null,
   "id": "73eb703a",
   "metadata": {},
   "outputs": [],
   "source": [
    "can_rate['avg_rating'] = can_rate['bookrating'].apply(st.mean)\n",
    "can_rate['avg_rating_no_zero'] = can_rate['bookrating1'].apply(st.mean)\n",
    "can_rate['final_rating'] = round((can_rate['avg_rating']+usa_rate['avg_rating_no_zero'])/2 , 3)\n",
    "can_rate = can_rate.sort_values('counts', ascending=False).reset_index()\n",
    "can_rate"
   ]
  },
  {
   "cell_type": "code",
   "execution_count": null,
   "id": "239d974c",
   "metadata": {},
   "outputs": [],
   "source": [
    "can_rate"
   ]
  },
  {
   "cell_type": "code",
   "execution_count": null,
   "id": "f9d5af89",
   "metadata": {},
   "outputs": [],
   "source": []
  },
  {
   "cell_type": "markdown",
   "id": "f39c7b96",
   "metadata": {},
   "source": [
    "## Marge Data Set"
   ]
  },
  {
   "cell_type": "code",
   "execution_count": null,
   "id": "e4a37dd5",
   "metadata": {},
   "outputs": [],
   "source": [
    "loc_rate_can=can_rate.merge(book,on='ISBN')"
   ]
  },
  {
   "cell_type": "code",
   "execution_count": null,
   "id": "5b7ed2a5",
   "metadata": {},
   "outputs": [],
   "source": [
    "loc_rate_can"
   ]
  },
  {
   "cell_type": "code",
   "execution_count": null,
   "id": "47908f03",
   "metadata": {},
   "outputs": [],
   "source": [
    "rate_of_can=loc_rate_can[['ISBN','title','counts','counts_no_zero','final_rating']]\n",
    "rate_of_can"
   ]
  },
  {
   "cell_type": "code",
   "execution_count": null,
   "id": "e2ec1c68",
   "metadata": {},
   "outputs": [],
   "source": [
    "# sagricating with count of zero rating\n",
    "populer_can=rate_of_can[rate_of_can['counts_no_zero']>=30].sort_values('final_rating',ascending=False).reset_index()\n",
    "populer_can.head(10)"
   ]
  },
  {
   "cell_type": "code",
   "execution_count": null,
   "id": "543f2d0b",
   "metadata": {},
   "outputs": [],
   "source": []
  },
  {
   "cell_type": "markdown",
   "id": "0b9e2af2",
   "metadata": {},
   "source": [
    "## For User Location of United Kingdom\t"
   ]
  },
  {
   "cell_type": "code",
   "execution_count": null,
   "id": "ab8321d3",
   "metadata": {},
   "outputs": [],
   "source": [
    "user"
   ]
  },
  {
   "cell_type": "code",
   "execution_count": null,
   "id": "31b52421",
   "metadata": {},
   "outputs": [],
   "source": [
    "user_uk=user[user['location']==' united kingdom']\n",
    "user_uk"
   ]
  },
  {
   "cell_type": "code",
   "execution_count": null,
   "id": "84f6b95c",
   "metadata": {},
   "outputs": [],
   "source": [
    "df_uk=user_uk.merge(rating,on='userid')\n",
    "df_uk"
   ]
  },
  {
   "cell_type": "code",
   "execution_count": null,
   "id": "acde4520",
   "metadata": {},
   "outputs": [],
   "source": [
    "uk_new=df_uk[['ISBN','bookrating']]\n",
    "uk_new"
   ]
  },
  {
   "cell_type": "code",
   "execution_count": null,
   "id": "04778ce7",
   "metadata": {},
   "outputs": [],
   "source": [
    "k = rating['ISBN'].value_counts()>50\n",
    "k[k]"
   ]
  },
  {
   "cell_type": "code",
   "execution_count": null,
   "id": "ddb7d2a3",
   "metadata": {},
   "outputs": [],
   "source": [
    "def lst(k):\n",
    "    if all(itm == 0 for itm in k):\n",
    "        return k\n",
    "    else:\n",
    "        lt = [i for i in k if i != 0]\n",
    "        return lt"
   ]
  },
  {
   "cell_type": "code",
   "execution_count": null,
   "id": "a2f52dde",
   "metadata": {},
   "outputs": [],
   "source": [
    "uk_rate = pd.DataFrame(uk_new.groupby('ISBN')['bookrating'].apply(list)).reset_index()\n",
    "uk_rate['bookrating1'] = uk_rate['bookrating'].apply(lambda x: lst(x))\n",
    "uk_rate"
   ]
  },
  {
   "cell_type": "code",
   "execution_count": null,
   "id": "ea65aab6",
   "metadata": {},
   "outputs": [],
   "source": [
    "uk_rate['counts'] = uk_rate['bookrating'].apply(len)\n",
    "uk_rate['counts_no_zero'] = uk_rate['bookrating1'].apply(len)\n",
    "uk_rate"
   ]
  },
  {
   "cell_type": "code",
   "execution_count": null,
   "id": "ecd73635",
   "metadata": {},
   "outputs": [],
   "source": [
    "uk_rate['avg_rating'] = uk_rate['bookrating'].apply(st.mean)\n",
    "uk_rate['avg_rating_no_zero'] = uk_rate['bookrating1'].apply(st.mean)\n",
    "uk_rate['final_rating'] = round((uk_rate['avg_rating']+uk_rate['avg_rating_no_zero'])/2 , 3)\n",
    "uk_rate = uk_rate.sort_values('counts', ascending=False).reset_index()\n",
    "uk_rate"
   ]
  },
  {
   "cell_type": "code",
   "execution_count": null,
   "id": "417f9852",
   "metadata": {},
   "outputs": [],
   "source": []
  },
  {
   "cell_type": "markdown",
   "id": "b20efac0",
   "metadata": {},
   "source": [
    "## Marge Data set"
   ]
  },
  {
   "cell_type": "code",
   "execution_count": null,
   "id": "85aa8f90",
   "metadata": {},
   "outputs": [],
   "source": [
    "loc_rate_uk=uk_rate.merge(book,on='ISBN')\n",
    "loc_rate_uk"
   ]
  },
  {
   "cell_type": "code",
   "execution_count": null,
   "id": "a4c1690f",
   "metadata": {},
   "outputs": [],
   "source": [
    "rate_of_uk=loc_rate_uk[['ISBN','title','counts','counts_no_zero','final_rating']]\n",
    "rate_of_uk"
   ]
  },
  {
   "cell_type": "code",
   "execution_count": null,
   "id": "aed855dc",
   "metadata": {},
   "outputs": [],
   "source": [
    "# sagricating with count of zero rating\n",
    "populer_uk=rate_of_uk[rate_of_uk['counts_no_zero']>=30].sort_values('final_rating',ascending=False).reset_index()\n",
    "populer_uk"
   ]
  },
  {
   "cell_type": "code",
   "execution_count": null,
   "id": "1d3dbd09",
   "metadata": {},
   "outputs": [],
   "source": []
  },
  {
   "cell_type": "markdown",
   "id": "048b3562",
   "metadata": {},
   "source": [
    "## Populer Book in US,Canada,UK"
   ]
  },
  {
   "cell_type": "code",
   "execution_count": null,
   "id": "268f8a60",
   "metadata": {},
   "outputs": [],
   "source": [
    "# Minimum rataing is 150\n",
    "populer_usa.head(10)"
   ]
  },
  {
   "cell_type": "code",
   "execution_count": null,
   "id": "acf3bf13",
   "metadata": {},
   "outputs": [],
   "source": [
    "# Minimum rataing is 30\n",
    "populer_can.head(10)"
   ]
  },
  {
   "cell_type": "code",
   "execution_count": null,
   "id": "2a1e37f0",
   "metadata": {},
   "outputs": [],
   "source": [
    "# Minimum rataing is 30\n",
    "populer_uk"
   ]
  },
  {
   "cell_type": "code",
   "execution_count": null,
   "id": "8e9d7b40",
   "metadata": {},
   "outputs": [],
   "source": []
  },
  {
   "cell_type": "code",
   "execution_count": null,
   "id": "10795224",
   "metadata": {},
   "outputs": [],
   "source": []
  },
  {
   "cell_type": "code",
   "execution_count": null,
   "id": "8ab90683",
   "metadata": {},
   "outputs": [],
   "source": []
  }
 ],
 "metadata": {
  "kernelspec": {
   "display_name": "Python 3 (ipykernel)",
   "language": "python",
   "name": "python3"
  },
  "language_info": {
   "codemirror_mode": {
    "name": "ipython",
    "version": 3
   },
   "file_extension": ".py",
   "mimetype": "text/x-python",
   "name": "python",
   "nbconvert_exporter": "python",
   "pygments_lexer": "ipython3",
   "version": "3.9.13"
  },
  "nbTranslate": {
   "displayLangs": [
    "*"
   ],
   "hotkey": "alt-t",
   "langInMainMenu": true,
   "sourceLang": "en",
   "targetLang": "fr",
   "useGoogleTranslate": true
  }
 },
 "nbformat": 4,
 "nbformat_minor": 5
}
